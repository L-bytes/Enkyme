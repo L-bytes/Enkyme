{
 "cells": [
  {
   "cell_type": "markdown",
   "metadata": {},
   "source": [
    "#### Dependencies:"
   ]
  },
  {
   "cell_type": "code",
   "execution_count": 77,
   "metadata": {},
   "outputs": [],
   "source": [
    "from kcat_prediction import *"
   ]
  },
  {
   "cell_type": "markdown",
   "metadata": {},
   "source": [
    "Before using kcat prediction for the first time, we have to download the ESM-1b model:"
   ]
  },
  {
   "cell_type": "code",
   "execution_count": 78,
   "metadata": {},
   "outputs": [
    {
     "name": "stderr",
     "output_type": "stream",
     "text": [
      "Using cache found in C:\\Users\\marle/.cache\\torch\\hub\\facebookresearch_esm_v0.4.0\n"
     ]
    }
   ],
   "source": [
    "import esm\n",
    "model, alphabet = torch.hub.load(\"facebookresearch/esm:v0.4.0\", \"esm1b_t33_650M_UR50S\")"
   ]
  },
  {
   "cell_type": "markdown",
   "metadata": {},
   "source": [
    "Example for calculating kcat prediction. You can enter multiple enyzmes and substrates. Enzyme 1 will be paired with substrates 1/products 1, enzyme 2 will be paired with substrates 2/products 2 and so on..."
   ]
  },
  {
   "cell_type": "markdown",
   "metadata": {},
   "source": [
    "Enter enzymes as amino acid sequences and substrates/products either as SMILES strings, KEGG Compound IDs, or InChI strings. If the reaction has multiple substrates or products, separate them by using a semicolon (\";)"
   ]
  },
  {
   "cell_type": "code",
   "execution_count": 79,
   "metadata": {},
   "outputs": [],
   "source": [
    "import pandas as pd\n",
    "\n",
    "split = \"full\"\n",
    "data = pd.read_pickle(join(\"../../data\", \"splits\", split, \"val_data.pkl\"))\n",
    "\n",
    "data[\"substrate_IDs\"]\n",
    "\n",
    "data['substrate_IDs'] = data['substrate_IDs'].apply(list)\n",
    "\n",
    "data['substrate_IDs'] = ['#'.join(map(str, l)) for l in data['substrate_IDs']]\n",
    "\n",
    "data['product_IDs'] = data['product_IDs'].apply(list)\n",
    "\n",
    "data['product_IDs'] = ['#'.join(map(str, l)) for l in data['product_IDs']]"
   ]
  },
  {
   "cell_type": "code",
   "execution_count": 81,
   "metadata": {},
   "outputs": [
    {
     "name": "stdout",
     "output_type": "stream",
     "text": [
      "Step 1/3: Calculating numerical representations for all substrates and products.\n",
      "Step 2/3: Calculating numerical representations for all enzymes.\n",
      ".....2(a) Loading ESM-1b model.\n",
      ".....2(b) Loading model parameters for task-specific model.\n",
      ".....2(c) Calculating enzyme representations.\n",
      "Step 3/3: Making predictions for kcat.\n",
      "                                          substrates  \\\n",
      "0  InChI=1S/C10H10N2O/c13-12-6-5-8-7-11-10-4-2-1-...   \n",
      "1  InChI=1S/C10H10N2O/c13-12-6-5-8-7-11-10-4-2-1-...   \n",
      "2  InChI=1S/C10H17NO9S2/c1-2-3-6(11-20-22(16,17)1...   \n",
      "3  InChI=1S/H2O/h1H2#InChI=1S/C12H15NO8/c14-5-8-9...   \n",
      "4  InChI=1S/C3H7NO2S/c4-2(1-7)3(5)6/h2,7H,1,4H2,(...   \n",
      "5  InChI=1S/C3H7NO2S/c4-2(1-7)3(5)6/h2,7H,1,4H2,(...   \n",
      "6  InChI=1S/C3H7NO2S/c4-2(1-7)3(5)6/h2,7H,1,4H2,(...   \n",
      "7  InChI=1S/C10H10N2O/c13-12-6-5-8-7-11-10-4-2-1-...   \n",
      "8  InChI=1S/C10H10N2O/c13-12-6-5-8-7-11-10-4-2-1-...   \n",
      "\n",
      "                                            products  \\\n",
      "0  InChI=1S/H2O/h1H2#InChI=1S/C13H15N3O3S/c14-10(...   \n",
      "1  InChI=1S/H2O/h1H2#InChI=1S/C13H15N3O3S/c14-10(...   \n",
      "2  InChI=1S/H2O4S/c1-5(2,3)4/h(H2,1,2,3,4)#InChI=...   \n",
      "3  InChI=1S/C6H12O6/c7-1-2-3(8)4(9)5(10)6(11)12-2...   \n",
      "4  InChI=1S/C10H15N5O10P2/c11-8-5-9(13-2-12-8)15(...   \n",
      "5  InChI=1S/C10H15N5O10P2/c11-8-5-9(13-2-12-8)15(...   \n",
      "6  InChI=1S/C10H15N5O10P2/c11-8-5-9(13-2-12-8)15(...   \n",
      "7  InChI=1S/H2O/h1H2#InChI=1S/C13H15N3O3S/c14-10(...   \n",
      "8  InChI=1S/H2O/h1H2#InChI=1S/C13H15N3O3S/c14-10(...   \n",
      "\n",
      "                                              enzyme     value   Reaction ID  \\\n",
      "0  MEDIIIGVVALAAVLLFFLYQKPKTKRYKLPPGPSPLPVIGNLLQL...  0.367977  Reaction_105   \n",
      "1  MDLLLIIAGLVAAAAFFFLRSTTKKSLRLPPGPKGLPIIGNLHQME... -0.053875  Reaction_105   \n",
      "2  MAIPKAHYSLAVLVLLFVVVSSSQKVCNPECKAKEPFHCDNTHAFN...  1.079181  Reaction_325   \n",
      "3  MAIPKAHYSLAVLVLLFVVVSSSQKVCNPECKAKEPFHCDNTHAFN...  0.863323  Reaction_326   \n",
      "4  MALLSQAGGSYTVVPSGVCSKAGTKAVVSGGVRNLDVLRMKEAFGS... -1.124939  Reaction_464   \n",
      "5  MALLSQAGGSYTVVPSGVCSKAGTKAVVSGGVRNLDVLRMKEAFGS... -0.992821  Reaction_464   \n",
      "6  MALLSQAGGSYTVVPSGVCSKAGTKAVVSGGVRNLDVLRMKEAFGS... -0.945642  Reaction_464   \n",
      "7  MEDIIIGVVALAAVLLFFLYQKPKTKRYKLPPGPSPLPVIGNLLQL...  0.367977  Reaction_105   \n",
      "8  MDLLLIIAGLVAAAAFFFLRSTTKKSLRLPPGPKGLPIIGNLHQME... -0.053875  Reaction_105   \n",
      "\n",
      "    Sequence ID          EC  index  \\\n",
      "0   Sequence_85  1.14.14.43      0   \n",
      "1   Sequence_86  1.14.14.45      1   \n",
      "2  Sequence_286   3.2.1.147      2   \n",
      "3  Sequence_286    3.2.1.21      3   \n",
      "4  Sequence_457     6.3.2.2      4   \n",
      "5  Sequence_457     6.3.2.2      5   \n",
      "6  Sequence_457     6.3.2.2      6   \n",
      "7   Sequence_85  1.14.14.43      7   \n",
      "8   Sequence_86  1.14.14.45      8   \n",
      "\n",
      "                                       difference_fp  \\\n",
      "0  [0.0, 0.0, 0.0, 0.0, 0.0, 0.0, 0.0, 0.0, 0.0, ...   \n",
      "1  [0.0, 0.0, 0.0, 0.0, 0.0, 0.0, 0.0, 0.0, 0.0, ...   \n",
      "2  [0.0, 0.0, 0.0, 0.0, -20.0, 0.0, 0.0, 0.0, 0.0...   \n",
      "3  [0.0, 0.0, 0.0, 0.0, 0.0, 0.0, 0.0, 0.0, 0.0, ...   \n",
      "4  [0.0, 0.0, 0.0, 0.0, 10.0, 0.0, 0.0, 0.0, 0.0,...   \n",
      "5  [0.0, 0.0, 0.0, 0.0, 10.0, 0.0, 0.0, 0.0, 0.0,...   \n",
      "6  [0.0, 0.0, 0.0, 0.0, 10.0, 0.0, 0.0, 0.0, 0.0,...   \n",
      "7  [0.0, 0.0, 0.0, 0.0, 0.0, 0.0, 0.0, 0.0, 0.0, ...   \n",
      "8  [0.0, 0.0, 0.0, 0.0, 0.0, 0.0, 0.0, 0.0, 0.0, ...   \n",
      "\n",
      "                                          enzyme rep  complete  \n",
      "0  [0.9706289, -0.6224345, 0.032813326, 0.2794613...      True  \n",
      "1  [1.1054214, -0.47023022, -0.23629308, 0.104256...      True  \n",
      "2  [1.0866596, -1.3980929, -0.24545455, 0.4681278...      True  \n",
      "3  [1.0866596, -1.3980929, -0.24545455, 0.4681278...      True  \n",
      "4  [-0.22558346, -0.15235005, -0.20559573, 0.2904...      True  \n",
      "5  [-0.22558346, -0.15235005, -0.20559573, 0.2904...      True  \n",
      "6  [-0.22558346, -0.15235005, -0.20559573, 0.2904...      True  \n",
      "7  [0.9706289, -0.6224345, 0.032813326, 0.2794613...      True  \n",
      "8  [1.1054214, -0.47023022, -0.23629308, 0.104256...      True  \n"
     ]
    }
   ],
   "source": [
    "df = kcat_predicton(substrates = data[\"substrate_IDs\"].tolist(),\n",
    "               products = data[\"product_IDs\"].tolist(),\n",
    "               enzymes = data[\"Sequence\"].tolist(),\n",
    "                values = np.log10(data[\"kcat\"].tolist()),\n",
    "                                 RID = data[\"Reaction ID\"].tolist(),\n",
    "                                 SID = data[\"Sequence ID\"].tolist(),\n",
    "                       EC = data[\"ECs\"].tolist())"
   ]
  },
  {
   "cell_type": "code",
   "execution_count": 83,
   "metadata": {},
   "outputs": [],
   "source": [
    "true_values = [0.367977,-0.053875,1.079181,0.863323,-1.014723]\n",
    "predicted = df.head(5)[\"kcat [s^(-1)]\"].tolist()"
   ]
  },
  {
   "cell_type": "code",
   "execution_count": 85,
   "metadata": {},
   "outputs": [
    {
     "name": "stdout",
     "output_type": "stream",
     "text": [
      "2.5370512866253274 -9.919769516834709 -0.5445550976822251\n",
      "961.407875587815 -61838.17550337661 -0.48324017501752337 570.9313425666096 43.09756088256836\n"
     ]
    }
   ],
   "source": [
    "import sklearn.metrics as sk\n",
    "import scipy as sci\n",
    "from math import sqrt\n",
    "df = df[df[\"complete\"]==True]\n",
    "rms = sqrt(sk.mean_squared_error(df[\"value\"].tolist(), df[\"kcat [s^(-1)]\"].tolist(), squared=True))\n",
    "R2 = sk.r2_score(df[\"value\"].tolist(), df[\"kcat [s^(-1)]\"].tolist())\n",
    "Pearson = sci.stats.pearsonr(df[\"value\"].tolist(), df[\"kcat [s^(-1)]\"].tolist())[0]\n",
    "\n",
    "print(rms, R2, Pearson)\n",
    "\n",
    "rms = sqrt(sk.mean_squared_error((10**df[\"value\"]).tolist(), (10**df[\"kcat [s^(-1)]\"]).tolist(), squared=True))\n",
    "R2 = sk.r2_score((10**df[\"value\"]).tolist(), (10**df[\"kcat [s^(-1)]\"]).tolist())\n",
    "Pearson = sci.stats.pearsonr((10**df[\"value\"]).tolist(), (10**df[\"kcat [s^(-1)]\"]).tolist())[0]\n",
    "MAE = np.mean(abs(np.array((10**df[\"value\"]).tolist()) - np.array((10**df[\"kcat [s^(-1)]\"]).tolist())))\n",
    "MedAE = np.median(abs(np.array((10**df[\"value\"]).tolist()) - np.array((10**df[\"kcat [s^(-1)]\"]).tolist())))\n",
    "\n",
    "print(rms, R2, Pearson, MAE, MedAE)"
   ]
  }
 ],
 "metadata": {
  "kernelspec": {
   "display_name": "py37",
   "language": "python",
   "name": "python3"
  },
  "language_info": {
   "codemirror_mode": {
    "name": "ipython",
    "version": 3
   },
   "file_extension": ".py",
   "mimetype": "text/x-python",
   "name": "python",
   "nbconvert_exporter": "python",
   "pygments_lexer": "ipython3",
   "version": "3.7.12"
  }
 },
 "nbformat": 4,
 "nbformat_minor": 4
}
