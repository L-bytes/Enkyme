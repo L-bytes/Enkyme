{
 "cells": [
  {
   "cell_type": "markdown",
   "metadata": {},
   "source": [
    "#### Dependencies:"
   ]
  },
  {
   "cell_type": "code",
   "execution_count": 77,
   "metadata": {},
   "outputs": [],
   "source": [
    "from kcat_prediction import *"
   ]
  },
  {
   "cell_type": "markdown",
   "metadata": {},
   "source": [
    "Before using kcat prediction for the first time, we have to download the ESM-1b model:"
   ]
  },
  {
   "cell_type": "code",
   "execution_count": 78,
   "metadata": {},
   "outputs": [
    {
     "name": "stderr",
     "output_type": "stream",
     "text": [
      "Using cache found in C:\\Users\\marle/.cache\\torch\\hub\\facebookresearch_esm_v0.4.0\n"
     ]
    }
   ],
   "source": [
    "import esm\n",
    "model, alphabet = torch.hub.load(\"facebookresearch/esm:v0.4.0\", \"esm1b_t33_650M_UR50S\")"
   ]
  },
  {
   "cell_type": "markdown",
   "metadata": {},
   "source": [
    "Example for calculating kcat prediction. You can enter multiple enyzmes and substrates. Enzyme 1 will be paired with substrates 1/products 1, enzyme 2 will be paired with substrates 2/products 2 and so on..."
   ]
  },
  {
   "cell_type": "markdown",
   "metadata": {},
   "source": [
    "Enter enzymes as amino acid sequences and substrates/products either as SMILES strings, KEGG Compound IDs, or InChI strings. If the reaction has multiple substrates or products, separate them by using a semicolon (\";)"
   ]
  },
  {
   "cell_type": "code",
   "execution_count": 79,
   "metadata": {},
   "outputs": [],
   "source": [
    "import pandas as pd\n",
    "\n",
    "split = \"full\"\n",
    "data = pd.read_pickle(join(\"../../data\", \"splits\", split, \"val_data.pkl\"))\n",
    "\n",
    "data[\"substrate_IDs\"]\n",
    "\n",
    "data['substrate_IDs'] = data['substrate_IDs'].apply(list)\n",
    "\n",
    "data['substrate_IDs'] = ['#'.join(map(str, l)) for l in data['substrate_IDs']]\n",
    "\n",
    "data['product_IDs'] = data['product_IDs'].apply(list)\n",
    "\n",
    "data['product_IDs'] = ['#'.join(map(str, l)) for l in data['product_IDs']]\n",
    "\n",
    "# import plotnine\n",
    "# (plotnine.ggplot(data, plotnine.aes(x=\"log10_kcat\")) + \n",
    "#   plotnine.geom_histogram(binwidth=0.1,color='black', fill='white'))"
   ]
  },
  {
   "cell_type": "code",
   "execution_count": 80,
   "metadata": {},
   "outputs": [],
   "source": [
    "data = data.rename(columns={\"Sequence ID_x\" : \"Sequence ID\"})"
   ]
  },
  {
   "cell_type": "code",
   "execution_count": 81,
   "metadata": {},
   "outputs": [
    {
     "name": "stdout",
     "output_type": "stream",
     "text": [
      "Step 1/3: Calculating numerical representations for all substrates and products.\n",
      "Step 2/3: Calculating numerical representations for all enzymes.\n",
      ".....2(a) Loading ESM-1b model.\n",
      ".....2(b) Loading model parameters for task-specific model.\n",
      ".....2(c) Calculating enzyme representations.\n",
      "Step 3/3: Making predictions for kcat.\n",
      "                                          substrates  \\\n",
      "0  InChI=1S/C10H10N2O/c13-12-6-5-8-7-11-10-4-2-1-...   \n",
      "1  InChI=1S/C10H10N2O/c13-12-6-5-8-7-11-10-4-2-1-...   \n",
      "2  InChI=1S/C10H17NO9S2/c1-2-3-6(11-20-22(16,17)1...   \n",
      "3  InChI=1S/H2O/h1H2#InChI=1S/C12H15NO8/c14-5-8-9...   \n",
      "4  InChI=1S/C3H7NO2S/c4-2(1-7)3(5)6/h2,7H,1,4H2,(...   \n",
      "5  InChI=1S/C3H7NO2S/c4-2(1-7)3(5)6/h2,7H,1,4H2,(...   \n",
      "6  InChI=1S/C3H7NO2S/c4-2(1-7)3(5)6/h2,7H,1,4H2,(...   \n",
      "7  InChI=1S/C10H10N2O/c13-12-6-5-8-7-11-10-4-2-1-...   \n",
      "8  InChI=1S/C10H10N2O/c13-12-6-5-8-7-11-10-4-2-1-...   \n",
      "\n",
      "                                            products  \\\n",
      "0  InChI=1S/H2O/h1H2#InChI=1S/C13H15N3O3S/c14-10(...   \n",
      "1  InChI=1S/H2O/h1H2#InChI=1S/C13H15N3O3S/c14-10(...   \n",
      "2  InChI=1S/H2O4S/c1-5(2,3)4/h(H2,1,2,3,4)#InChI=...   \n",
      "3  InChI=1S/C6H12O6/c7-1-2-3(8)4(9)5(10)6(11)12-2...   \n",
      "4  InChI=1S/C10H15N5O10P2/c11-8-5-9(13-2-12-8)15(...   \n",
      "5  InChI=1S/C10H15N5O10P2/c11-8-5-9(13-2-12-8)15(...   \n",
      "6  InChI=1S/C10H15N5O10P2/c11-8-5-9(13-2-12-8)15(...   \n",
      "7  InChI=1S/H2O/h1H2#InChI=1S/C13H15N3O3S/c14-10(...   \n",
      "8  InChI=1S/H2O/h1H2#InChI=1S/C13H15N3O3S/c14-10(...   \n",
      "\n",
      "                                              enzyme     value   Reaction ID  \\\n",
      "0  MEDIIIGVVALAAVLLFFLYQKPKTKRYKLPPGPSPLPVIGNLLQL...  0.367977  Reaction_105   \n",
      "1  MDLLLIIAGLVAAAAFFFLRSTTKKSLRLPPGPKGLPIIGNLHQME... -0.053875  Reaction_105   \n",
      "2  MAIPKAHYSLAVLVLLFVVVSSSQKVCNPECKAKEPFHCDNTHAFN...  1.079181  Reaction_325   \n",
      "3  MAIPKAHYSLAVLVLLFVVVSSSQKVCNPECKAKEPFHCDNTHAFN...  0.863323  Reaction_326   \n",
      "4  MALLSQAGGSYTVVPSGVCSKAGTKAVVSGGVRNLDVLRMKEAFGS... -1.124939  Reaction_464   \n",
      "5  MALLSQAGGSYTVVPSGVCSKAGTKAVVSGGVRNLDVLRMKEAFGS... -0.992821  Reaction_464   \n",
      "6  MALLSQAGGSYTVVPSGVCSKAGTKAVVSGGVRNLDVLRMKEAFGS... -0.945642  Reaction_464   \n",
      "7  MEDIIIGVVALAAVLLFFLYQKPKTKRYKLPPGPSPLPVIGNLLQL...  0.367977  Reaction_105   \n",
      "8  MDLLLIIAGLVAAAAFFFLRSTTKKSLRLPPGPKGLPIIGNLHQME... -0.053875  Reaction_105   \n",
      "\n",
      "    Sequence ID          EC  index  \\\n",
      "0   Sequence_85  1.14.14.43      0   \n",
      "1   Sequence_86  1.14.14.45      1   \n",
      "2  Sequence_286   3.2.1.147      2   \n",
      "3  Sequence_286    3.2.1.21      3   \n",
      "4  Sequence_457     6.3.2.2      4   \n",
      "5  Sequence_457     6.3.2.2      5   \n",
      "6  Sequence_457     6.3.2.2      6   \n",
      "7   Sequence_85  1.14.14.43      7   \n",
      "8   Sequence_86  1.14.14.45      8   \n",
      "\n",
      "                                       difference_fp  \\\n",
      "0  [0.0, 0.0, 0.0, 0.0, 0.0, 0.0, 0.0, 0.0, 0.0, ...   \n",
      "1  [0.0, 0.0, 0.0, 0.0, 0.0, 0.0, 0.0, 0.0, 0.0, ...   \n",
      "2  [0.0, 0.0, 0.0, 0.0, -20.0, 0.0, 0.0, 0.0, 0.0...   \n",
      "3  [0.0, 0.0, 0.0, 0.0, 0.0, 0.0, 0.0, 0.0, 0.0, ...   \n",
      "4  [0.0, 0.0, 0.0, 0.0, 10.0, 0.0, 0.0, 0.0, 0.0,...   \n",
      "5  [0.0, 0.0, 0.0, 0.0, 10.0, 0.0, 0.0, 0.0, 0.0,...   \n",
      "6  [0.0, 0.0, 0.0, 0.0, 10.0, 0.0, 0.0, 0.0, 0.0,...   \n",
      "7  [0.0, 0.0, 0.0, 0.0, 0.0, 0.0, 0.0, 0.0, 0.0, ...   \n",
      "8  [0.0, 0.0, 0.0, 0.0, 0.0, 0.0, 0.0, 0.0, 0.0, ...   \n",
      "\n",
      "                                          enzyme rep  complete  \n",
      "0  [0.9706289, -0.6224345, 0.032813326, 0.2794613...      True  \n",
      "1  [1.1054214, -0.47023022, -0.23629308, 0.104256...      True  \n",
      "2  [1.0866596, -1.3980929, -0.24545455, 0.4681278...      True  \n",
      "3  [1.0866596, -1.3980929, -0.24545455, 0.4681278...      True  \n",
      "4  [-0.22558346, -0.15235005, -0.20559573, 0.2904...      True  \n",
      "5  [-0.22558346, -0.15235005, -0.20559573, 0.2904...      True  \n",
      "6  [-0.22558346, -0.15235005, -0.20559573, 0.2904...      True  \n",
      "7  [0.9706289, -0.6224345, 0.032813326, 0.2794613...      True  \n",
      "8  [1.1054214, -0.47023022, -0.23629308, 0.104256...      True  \n"
     ]
    }
   ],
   "source": [
    "df = kcat_predicton(substrates = data[\"substrate_IDs\"].tolist(),\n",
    "               products = data[\"product_IDs\"].tolist(),\n",
    "               enzymes = data[\"Sequence\"].tolist(),\n",
    "                values = np.log10(data[\"kcat\"].tolist()),\n",
    "                                 RID = data[\"Reaction ID\"].tolist(),\n",
    "                                 SID = data[\"Sequence ID\"].tolist(),\n",
    "                       EC = data[\"ECs\"].tolist())"
   ]
  },
  {
   "cell_type": "code",
   "execution_count": 82,
   "metadata": {},
   "outputs": [],
   "source": [
    "# df.to_pickle('../data/output_' + organism + '.pkl', 'wb')"
   ]
  },
  {
   "cell_type": "code",
   "execution_count": 83,
   "metadata": {},
   "outputs": [],
   "source": [
    "true_values = [0.367977,-0.053875,1.079181,0.863323,-1.014723]\n",
    "predicted = df.head(5)[\"kcat [s^(-1)]\"].tolist()"
   ]
  },
  {
   "cell_type": "code",
   "execution_count": 84,
   "metadata": {},
   "outputs": [
    {
     "name": "stdout",
     "output_type": "stream",
     "text": [
      "745.742243940177 -27461.904489522087 -0.45510402488460233 361.61974940350717 43.09756832952189\n"
     ]
    }
   ],
   "source": [
    "df2 = pd.concat([df.head(4), df.tail(1)])\n",
    "\n",
    "rms = sqrt(sk.mean_squared_error([10**x for x in true_values], [10**x for x in predicted], squared=True))\n",
    "R2 = sk.r2_score([10**x for x in true_values], [10**x for x in predicted])\n",
    "Pearson = sci.stats.pearsonr([10**x for x in true_values], [10**x for x in predicted])[0]\n",
    "MAE = np.mean(abs(np.array([10**x for x in true_values]) - np.array([10**x for x in predicted])))\n",
    "MedAE = np.median(abs(np.array([10**x for x in true_values]) - np.array([10**x for x in predicted])))\n",
    "\n",
    "print(rms, R2, Pearson, MAE, MedAE)"
   ]
  },
  {
   "cell_type": "code",
   "execution_count": 85,
   "metadata": {},
   "outputs": [
    {
     "name": "stdout",
     "output_type": "stream",
     "text": [
      "2.5370512866253274 -9.919769516834709 -0.5445550976822251\n",
      "961.407875587815 -61838.17550337661 -0.48324017501752337 570.9313425666096 43.09756088256836\n"
     ]
    }
   ],
   "source": [
    "import sklearn.metrics as sk\n",
    "import scipy as sci\n",
    "from math import sqrt\n",
    "df = df[df[\"complete\"]==True]\n",
    "rms = sqrt(sk.mean_squared_error(df[\"value\"].tolist(), df[\"kcat [s^(-1)]\"].tolist(), squared=True))\n",
    "R2 = sk.r2_score(df[\"value\"].tolist(), df[\"kcat [s^(-1)]\"].tolist())\n",
    "Pearson = sci.stats.pearsonr(df[\"value\"].tolist(), df[\"kcat [s^(-1)]\"].tolist())[0]\n",
    "\n",
    "print(rms, R2, Pearson)\n",
    "\n",
    "rms = sqrt(sk.mean_squared_error((10**df[\"value\"]).tolist(), (10**df[\"kcat [s^(-1)]\"]).tolist(), squared=True))\n",
    "R2 = sk.r2_score((10**df[\"value\"]).tolist(), (10**df[\"kcat [s^(-1)]\"]).tolist())\n",
    "Pearson = sci.stats.pearsonr((10**df[\"value\"]).tolist(), (10**df[\"kcat [s^(-1)]\"]).tolist())[0]\n",
    "MAE = np.mean(abs(np.array((10**df[\"value\"]).tolist()) - np.array((10**df[\"kcat [s^(-1)]\"]).tolist())))\n",
    "MedAE = np.median(abs(np.array((10**df[\"value\"]).tolist()) - np.array((10**df[\"kcat [s^(-1)]\"]).tolist())))\n",
    "\n",
    "print(rms, R2, Pearson, MAE, MedAE)"
   ]
  },
  {
   "cell_type": "code",
   "execution_count": null,
   "metadata": {},
   "outputs": [],
   "source": [
    "data_train = pickle.load(open(\"../data/train_df_kcat.pkl\"))"
   ]
  },
  {
   "cell_type": "code",
   "execution_count": null,
   "metadata": {},
   "outputs": [],
   "source": [
    "df = df.rename(columns={'enzyme': 'Sequence'})"
   ]
  },
  {
   "cell_type": "code",
   "execution_count": null,
   "metadata": {},
   "outputs": [],
   "source": [
    "def calculate_identity_ignore_gaps(seq1, seq2):\n",
    "    identical_residues = sum([1 for x, y in zip(seq1, seq2) if x == y and x != \"-\"])\n",
    "    pid = identical_residues / sum([1 for x in seq1 if x != \"-\"]) \n",
    "    return pid"
   ]
  },
  {
   "cell_type": "code",
   "execution_count": null,
   "metadata": {},
   "outputs": [],
   "source": [
    "from Bio import Align\n",
    "from Bio.Align import substitution_matrices\n",
    "\n",
    "df[\"max_identity\"] = np.nan\n",
    "\n",
    "aligner=Align.PairwiseAligner()\n",
    "aligner.substitution_matrix = substitution_matrices.load(\"BLOSUM62\")\n",
    "aligner.mode = \"global\"\n",
    "aligner.extend_gap_score = -0.5\n",
    "aligner.open_gap_score = -10\n",
    "\n",
    "for i in df.index:\n",
    "    identities = []\n",
    "    for j in data_train.index:\n",
    "        seq1 = str(df[\"Sequence\"][i])\n",
    "        seq2 = str(data_train[\"Sequence\"][j])\n",
    "        if 'U' in seq1:\n",
    "            seq1 = seq1.replace('U', 'C')\n",
    "        if 'U' in seq2:\n",
    "            seq2 = seq2.replace('U', 'C')\n",
    "        try:\n",
    "            alignments = aligner.align(seq1, seq2)\n",
    "        except:\n",
    "            print(seq1, seq2)\n",
    "        identities.append(calculate_identity_ignore_gaps(alignments[0][0], alignments[0][1]))\n",
    "    df[\"max_identity\"][i] = max(identities)"
   ]
  },
  {
   "cell_type": "code",
   "execution_count": null,
   "metadata": {},
   "outputs": [],
   "source": [
    "df[\"max_identity\"] = df[\"max_identity\"]*100"
   ]
  },
  {
   "cell_type": "code",
   "execution_count": null,
   "metadata": {},
   "outputs": [],
   "source": [
    "import matplotlib.pyplot as plt\n",
    "\n",
    "fig, ax = plt.subplots(figsize= (10,8))\n",
    "plt.rcParams.update({'font.size': 28})\n",
    "\n",
    "splits = [\"0-40%\", \"40-80%\", \"80-99%\",\"99-100%\"]\n",
    "lower_bounds = [0,40,80,99]\n",
    "upper_bounds = [40,80,99,100]\n",
    "\n",
    "points1 = []\n",
    "points2 = []\n",
    "n_points1, n_points2 = [], []\n",
    "\n",
    "for i, split in enumerate(splits):\n",
    "\n",
    "    lb, ub = lower_bounds[i], upper_bounds[i]\n",
    "    \n",
    "    help_df = df.loc[df[\"max_identity\"]>= lb].loc[df[\"max_identity\"]<= ub]\n",
    "    y_true = np.array(help_df[\"value\"])\n",
    "    y_pred = np.array(help_df[\"kcat [s^(-1)]\"])\n",
    "    n_kcat = len(y_pred)\n",
    "    R2 =  sk.r2_score(y_true, y_pred)\n",
    "    abs_error = abs(y_true - y_pred)\n",
    "    rmse = math.sqrt(np.mean(abs(y_true - y_pred)**2))\n",
    "    print(len(y_true))\n",
    "    print(split, R2, rmse)\n",
    "    points1.append(R2)\n",
    "    points2.append(rmse)\n",
    "    n_points1.append(n_kcat)\n",
    "\n",
    "\n",
    "ticks2 = np.array(range(len(splits)))\n",
    "labs = splits\n",
    "ax.set_xticks(ticks2)\n",
    "ax.set_xticklabels(labs,  y= -0.03, fontsize=26)\n",
    "ax.tick_params(axis='x', length=0, rotation = 0)\n",
    "\n",
    "plt.ylim((-0.1,2.5))\n",
    "plt.xlim((-0.2, 3.2))\n",
    "plt.legend(loc = \"lower right\", fontsize=20)\n",
    "plt.ylabel('RMSE')\n",
    "plt.xlabel('Enzyme sequence identity')\n",
    "ax.yaxis.set_label_coords(-0.15, 0.5)\n",
    "ax.xaxis.set_label_coords(0.5,-0.13)\n",
    "\n",
    "plt.plot([-0.15,4], [0,0], color='grey', linestyle='dashed')\n",
    "\n",
    "\n",
    "plt.plot([0,1,2,3], points2, c= \"black\", linewidth=2)\n",
    "\n",
    "for i, split in enumerate(splits):\n",
    "    points1.append(R2)\n",
    "    \n",
    "    if i ==0:\n",
    "        plt.scatter(i, points2[i], c='black', marker=\"o\", linewidths= 8)\n",
    "        ax.annotate(n_points1[i], (i-0.08, points2[i]+0.08), fontsize=17, c= \"red\", weight = \"bold\")\n",
    "\n",
    "    else:\n",
    "        plt.scatter(i, points2[i], c='black', marker=\"o\", linewidths= 8)\n",
    "        ax.annotate(n_points1[i], (i-0.08, points2[i]+0.08), fontsize=17, c= \"red\", weight = \"bold\")\n",
    "            \n",
    "     \n",
    "plt.savefig(join(\"..\", \"data\", \"sequence_identity.png\"))\n",
    "plt.show()"
   ]
  },
  {
   "cell_type": "code",
   "execution_count": null,
   "metadata": {},
   "outputs": [],
   "source": [
    "import matplotlib.colors as colors\n",
    "import matplotlib.cm as cmx\n",
    "\n",
    "uniq = list(set(df['Reaction ID']))\n",
    "z = range(1, len(uniq))\n",
    "hot = plt.get_cmap('hsv')\n",
    "cNorm = colors.Normalize(vmin=0, vmax=len(uniq))\n",
    "scalarMap = cmx.ScalarMappable(norm=cNorm, cmap=hot)\n",
    "\n",
    "for i in range(len(uniq)):\n",
    "    indx = df['Reaction ID'] == uniq[i]\n",
    "    plt.scatter(10**df[\"value\"][indx], 10**df[\"kcat [s^(-1)]\"][indx], s=15, color=scalarMap.to_rgba(i), label=uniq[i])\n",
    "    \n",
    "plt.xticks(fontsize=15)\n",
    "plt.yticks(fontsize=15)\n",
    "plt.xlabel('Real value', fontsize=15)\n",
    "plt.ylabel('Estimated value', fontsize=15)\n",
    "plt.title('Predictions for A. thaliana data colored by reaction', fontsize=15)\n",
    "plt.axline((1, 1), slope=1, c='red')\n",
    "plt.show()"
   ]
  },
  {
   "cell_type": "code",
   "execution_count": null,
   "metadata": {},
   "outputs": [],
   "source": [
    "sci.stats.probplot(np.subtract(np.array(df[\"value\"].tolist()), np.array(df[\"kcat [s^(-1)]\"].tolist())), dist=\"norm\", plot=plt)\n",
    "plt.show()"
   ]
  },
  {
   "cell_type": "code",
   "execution_count": null,
   "metadata": {},
   "outputs": [],
   "source": [
    "EC_kcat_pred =[[] for _ in range(6)]\n",
    "EC_kcat =[[] for _ in range(6)]\n",
    "for ind in df.index:\n",
    "    try:\n",
    "        EC = int(df[\"EC\"][ind][0][0])\n",
    "        EC_kcat[EC-1].append(df[\"value\"][ind])\n",
    "        EC_kcat_pred[EC-1].append(df[\"kcat [s^(-1)]\"][ind])\n",
    "    except IndexError:\n",
    "        pass"
   ]
  },
  {
   "cell_type": "code",
   "execution_count": null,
   "metadata": {},
   "outputs": [],
   "source": [
    "fig, ax = plt.subplots(figsize= (8,8))\n",
    "plt.rcParams.update({'font.size': 28})\n",
    "\n",
    "classes = [str(i) for i in range(1,7)]\n",
    "\n",
    "for i in range(len(EC_kcat)):\n",
    "    \n",
    "    circle = plt.Circle((np.mean(EC_kcat[i]), np.mean(EC_kcat_pred[i]) ),\n",
    "                        np.sqrt(len(EC_kcat_pred[i]))/300, color='navy', fill = True)\n",
    "    ax.add_artist(circle)\n",
    "    if i ==5:\n",
    "        ax.annotate(\"EC\"+ str(i+1), (np.mean(EC_kcat[i])+0.01, np.mean(EC_kcat_pred[i])-0.05), fontsize=17, c='red', weight = \"bold\")\n",
    "    else:\n",
    "        ax.annotate(\"EC\"+ str(i+1), (np.mean(EC_kcat[i])+0.03, np.mean(EC_kcat_pred[i])-0.01), fontsize=17, c='red', weight = \"bold\")\n",
    "    \n",
    "\n",
    "ticks2 = [0.2, 0.6,1,1.4,1.8]\n",
    "labs = ticks2\n",
    "ax.set_xticks(ticks2)\n",
    "ax.set_xticklabels(labs,  y= -0.03, fontsize=26)\n",
    "ax.tick_params(axis='x', length=0, rotation = 0)\n",
    "\n",
    "ax.set_yticks(ticks2)\n",
    "ax.set_yticklabels(labs,  y= -0.03, fontsize=26)\n",
    "ax.tick_params(axis='y', length=0, rotation = 0)\n",
    "\n",
    "plt.ylim((0,2))\n",
    "plt.xlim((0, 2))\n",
    "plt.legend(loc = \"upper left\", fontsize=20)\n",
    "plt.xlabel('mean measured \\n $k_{cat}$ value on $\\log_{10}$-scale')\n",
    "plt.ylabel('mean predicted \\n $k_{cat}$ value on $\\log_{10}$-scale')\n",
    "ax.yaxis.set_label_coords(-0.15, 0.5)\n",
    "ax.xaxis.set_label_coords(0.5,-0.13)\n",
    "\n",
    "plt.plot([0,2], [0,2], color='grey', alpha = 0.3, linestyle='dashed')\n",
    "plt.savefig(join(\"..\", \"data\", \"EC_classes_mean_kcat.png\"))\n",
    "plt.show()"
   ]
  },
  {
   "cell_type": "code",
   "execution_count": null,
   "metadata": {},
   "outputs": [],
   "source": [
    "import pandas as pd\n",
    "import numpy as np\n",
    "from os.path import join\n",
    "import os\n",
    "from rdkit import Chem\n",
    "from rdkit.Chem import AllChem\n",
    "from drfp import DrfpEncoder\n",
    "CURRENT_DIR = os.getcwd()\n",
    "\n",
    "mol_folder = join(\"..\", \"..\", \"data\", \"mol-files\")\n",
    "def get_reaction_site_smarts(metabolites):\n",
    "    reaction_site = \"\"\n",
    "    for met in metabolites:\n",
    "        is_kegg_id = False\n",
    "        \n",
    "        if met[0] == \"C\":\n",
    "            is_kegg_id = True\n",
    "            \n",
    "        if is_kegg_id:\n",
    "            try:\n",
    "                Smarts = Chem.MolToSmarts(Chem.MolFromMolFile(join(mol_folder, met + '.mol')))\n",
    "            except OSError:\n",
    "                return(np.nan)\n",
    "        else:\n",
    "            mol = Chem.inchi.MolFromInchi(met)\n",
    "            if mol is not None:\n",
    "                Smarts = Chem.MolToSmarts(mol)\n",
    "            else:\n",
    "                return(np.nan)\n",
    "        reaction_site = reaction_site + \".\" + Smarts\n",
    "    return(reaction_site[1:])\n",
    "\n",
    "def get_reaction_site_smiles(metabolites):\n",
    "    reaction_site = \"\"\n",
    "    for met in metabolites:\n",
    "        is_kegg_id = False\n",
    "        \n",
    "        if met[0] == \"C\":\n",
    "            is_kegg_id = True\n",
    "            \n",
    "        if is_kegg_id:\n",
    "            try:\n",
    "                Smarts = Chem.MolToSmiles(Chem.MolFromMolFile(join(mol_folder, met + '.mol')))\n",
    "            except OSError:\n",
    "                return(np.nan)\n",
    "        else:\n",
    "            mol = Chem.inchi.MolFromInchi(met)\n",
    "            if mol is not None:\n",
    "                Smarts = Chem.MolToSmiles(mol)\n",
    "            else:\n",
    "                return(np.nan)\n",
    "        reaction_site = reaction_site + \".\" + Smarts\n",
    "    return(reaction_site[1:])\n",
    "\n",
    "def convert_fp_to_array(difference_fp_dict):\n",
    "    fp = np.zeros(2048)\n",
    "    for key in difference_fp_dict.keys():\n",
    "        fp[key] = difference_fp_dict[key]\n",
    "    return(fp)"
   ]
  },
  {
   "cell_type": "code",
   "execution_count": null,
   "metadata": {},
   "outputs": [],
   "source": [
    "df[\"structural_fp\"] = \"\"\n",
    "\n",
    "for ind in df.index:\n",
    "    substrates = df[\"substrates\"][ind].split('#')\n",
    "    products = df[\"products\"][ind].split('#')\n",
    "    left_site = get_reaction_site_smarts(substrates)\n",
    "    right_site = get_reaction_site_smarts(products)\n",
    "    if not pd.isnull(left_site) and not pd.isnull(right_site):\n",
    "        rxn_forward = AllChem.ReactionFromSmarts(left_site + \">>\" + right_site)\n",
    "        structural_fp = Chem.rdChemReactions.CreateStructuralFingerprintForReaction(rxn_forward).ToBitString()\n",
    "    df[\"structural_fp\"][ind] = structural_fp"
   ]
  },
  {
   "cell_type": "code",
   "execution_count": null,
   "metadata": {},
   "outputs": [],
   "source": [
    "import scipy\n",
    "\n",
    "train_fps = [np.array(list(data_train[\"structural_fp\"][ind][:3276])).reshape(1,-1).astype(int) for ind in data_train.index]\n",
    "test_fps = [np.array(list(df[\"structural_fp\"][ind][:3276])).reshape(1,-1).astype(int) for ind in df.index]\n",
    "\n",
    "max_sim = []\n",
    "\n",
    "for fp in test_fps:\n",
    "    jaccard_sim = np.array([1- scipy.spatial.distance.cdist(fp,train_fp, metric='jaccard')[0][0] for train_fp in train_fps])\n",
    "    max_sim.append(np.max(jaccard_sim))\n",
    "    \n",
    "df[\"reaction_sim\"] = max_sim\n",
    "\n",
    "df[\"reaction_sim\"]= (df[\"reaction_sim\"] - np.min(df[\"reaction_sim\"]))\n",
    "df[\"reaction_sim\"] = df[\"reaction_sim\"]/np.max(df[\"reaction_sim\"])\n"
   ]
  },
  {
   "cell_type": "code",
   "execution_count": null,
   "metadata": {},
   "outputs": [],
   "source": [
    "df[\"global_sim\"] = (df[\"max_identity\"]/100)*df[\"reaction_sim\"]"
   ]
  },
  {
   "cell_type": "code",
   "execution_count": null,
   "metadata": {},
   "outputs": [],
   "source": [
    "import matplotlib.pyplot as plt\n",
    "import math\n",
    "help_df = df\n",
    "\n",
    "sim_bins_lb = [0.0, 0.4, 0.8]\n",
    "sim_bins_ub = [0.4, 0.8, 1]\n",
    "r2_scores, n_points, pearson_r, rmse = [], [], [], []\n",
    "for i in range(len(sim_bins_lb)):\n",
    "    help_df2 = help_df.loc[help_df[\"reaction_sim\"] <= sim_bins_ub[i]].loc[help_df[\"reaction_sim\"] >= sim_bins_lb[i]]\n",
    "    pred = np.array(help_df2[\"kcat [s^(-1)]\"])\n",
    "    true = np.array(help_df2[\"value\"])\n",
    "    r2_scores.append(sk.r2_score(true, pred))\n",
    "    pearson_r.append(sci.stats.pearsonr(true, pred)[0])\n",
    "    rmse.append(math.sqrt(np.mean(abs(true - pred)**2)))\n",
    "    n_points.append(len(pred))\n",
    "    print(\"%s - %s\" % (sim_bins_lb[i], sim_bins_ub[i]), r2_scores[-1], pearson_r[-1], rmse[-1], len(pred))\n",
    "    \n",
    "\n",
    "plt.rcParams.update({'font.size': 24})\n",
    "\n",
    "fig, ax = plt.subplots(figsize= (8,6))\n",
    "\n",
    "for i in range(len(sim_bins_lb)):    \n",
    "    plt.scatter(i, rmse[i], c='navy', marker=\"o\", linewidths= 8)\n",
    "    ax.annotate(n_points[i], (i-0.08, rmse[i]+0.05), fontsize=17, c= \"black\", weight = \"bold\")\n",
    "\n",
    "    \n",
    "plt.xlabel('Reaction similarity score')\n",
    "plt.ylabel('RMSE')\n",
    "ax.yaxis.set_label_coords(-0.2, 0.5)\n",
    "ax.xaxis.set_label_coords(0.5,-0.23)\n",
    "\n",
    "ticks2 = np.array(range(len(sim_bins_lb)))\n",
    "labs = [\"%s - %s\" % (sim_bins_lb[i], sim_bins_ub[i]) for i in range(len(sim_bins_lb))]\n",
    "ax.set_xticks(ticks2)\n",
    "ax.set_xticklabels(labs,  y= -0.03, fontsize=20)\n",
    "ax.tick_params(axis='x', length=0, rotation = 0)\n",
    "\n",
    "plt.ylim((0.5,2))\n",
    "#plt.xlim((-0.5, 3.2))\n",
    "\n",
    "# plt.plot([-0.49, 4], [0,0], color='grey', linestyle='dashed')\n",
    "#plt.savefig(join(\"..\",\"..\", \"data\", \"figures\", \"Reaction_Similarity_Score.eps\"))\n",
    "plt.show()"
   ]
  },
  {
   "cell_type": "code",
   "execution_count": null,
   "metadata": {},
   "outputs": [],
   "source": [
    "# df_kcat = pd.read_pickle(join(\"..\", \"data\", \"merged_and_grouped_kcat_dataset.pkl\"))\n",
    "# df2 = pd.DataFrame({\"Reaction\": df_kcat[\"Reaction ID\"], \"Sequence\" : df_kcat[\"Sequence ID\"],\n",
    "#                   \"kcats\" :df_kcat[\"kcat_values\"]})\n",
    "\n",
    "# deviations = []\n",
    "# x_value = []\n",
    "# y_value = []\n",
    "\n",
    "# for ind in df2.index:\n",
    "#     kcats = df2[\"kcats\"][ind]\n",
    "#     if len(kcats) > 1 :\n",
    "#         for i in range(len(kcats)):\n",
    "#             for j in range(i+1, len(kcats)):\n",
    "#                 if np.log10(float(kcats[i])) > -2.5 and np.log10(float(kcats[j])) > -2.5:\n",
    "#                     deviations.append(abs(np.log10(float(kcats[i])) - np.log10(float(kcats[j]))))\n",
    "#                     x_value.append(np.log10(float(kcats[i])))\n",
    "#                     y_value.append(np.log10(float(kcats[j])))\n",
    "                \n",
    "                \n",
    "# np.round(np.mean(deviations),2), np.round(10**np.mean(deviations),2)\n",
    "\n",
    "# x_value = np.array(x_value)\n",
    "# y_value = np.array(y_value)\n",
    "\n",
    "# fig, ax = plt.subplots(figsize= (8,8))\n",
    "# plt.rcParams.update({'font.size': 28})\n",
    "\n",
    "\n",
    "\n",
    "# # x0, x1, y0, y1 = -3, 7, -3,7\n",
    "# # plt.ylim(ymax = y1, ymin = y0)\n",
    "# # plt.xlim(xmax = x1, xmin = x0)\n",
    "\n",
    "# ax.tick_params(axis='x', length=10)\n",
    "# ax.tick_params(axis='y', length=10)\n",
    "\n",
    "# ax.yaxis.set_label_coords(-0.18, 0.5)\n",
    "# ax.xaxis.set_label_coords(0.5, -0.1)\n",
    "\n",
    "# plt.xticks([-2,0,2,4,6], [\"$10^{-2}$\", \"$10^{0}$\", \"$10^{2}$\", \"$10^{4}$\", \"$10^{6}$\"])\n",
    "# plt.yticks([-2,0,2,4,6], [\"$10^{-2}$\", \"$10^{0}$\", \"$10^{2}$\", \"$10^{4}$\", \"$10^{6}$\"])\n",
    "\n",
    "# plt.xlabel(\"Measured $k_{cat}$-values [$s^{-1}$]\", fontsize = 22)\n",
    "# plt.ylabel(\"Additional measurment for $k_{cat}$-values [$s^{-1}$] \\n \\\n",
    "# for same enzyme-reaction pairs\", fontsize = 22)\n",
    "\n",
    "# plt.scatter(x_value, y_value, alpha = 0.4, s=30, c=\"navy\")"
   ]
  },
  {
   "cell_type": "code",
   "execution_count": null,
   "metadata": {},
   "outputs": [],
   "source": [
    "df.to_pickle('../data/final_output_' + organism + '.pkl')"
   ]
  },
  {
   "cell_type": "code",
   "execution_count": null,
   "metadata": {},
   "outputs": [],
   "source": [
    "import plotnine \n",
    "\n",
    "df[\"residuals\"] = df[\"value\"] - df[\"kcat [s^(-1)]\"]\n",
    "    \n",
    "(plotnine.ggplot(df, plotnine.aes(x = \"kcat [s^(-1)]\", y =\"residuals\")) +\n",
    "plotnine.geom_point()+\n",
    "plotnine.xlim(-4,4)+\n",
    "plotnine.ylim(-4,4))"
   ]
  }
 ],
 "metadata": {
  "kernelspec": {
   "display_name": "py37",
   "language": "python",
   "name": "python3"
  },
  "language_info": {
   "codemirror_mode": {
    "name": "ipython",
    "version": 3
   },
   "file_extension": ".py",
   "mimetype": "text/x-python",
   "name": "python",
   "nbconvert_exporter": "python",
   "pygments_lexer": "ipython3",
   "version": "3.7.12"
  }
 },
 "nbformat": 4,
 "nbformat_minor": 4
}
