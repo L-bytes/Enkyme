{
 "cells": [
  {
   "cell_type": "code",
   "execution_count": 1,
   "metadata": {},
   "outputs": [],
   "source": [
    "import numpy as np\n",
    "import pickle\n",
    "import pandas as pd\n",
    "import os\n",
    "from os.path import join\n",
    "import warnings\n",
    "warnings.filterwarnings(\"ignore\")\n",
    "from sklearn.metrics import r2_score\n",
    "from scipy import stats\n",
    "import xgboost as xgb\n",
    "from hyperopt import fmin, rand, hp, Trials,tpe\n",
    "# rstate = np.random.default_rng(42)\n",
    "\n",
    "import matplotlib.pyplot as plt\n",
    "from matplotlib.pyplot import figure\n",
    "import matplotlib as mpl\n",
    "\n",
    "datasets_dir = \"../../data\"\n",
    "# plt.style.use('CCB_plot_style_0v4.mplstyle')\n",
    "# c_styles      = mpl.rcParams['axes.prop_cycle'].by_key()['color']   # fetch the defined color styles\n",
    "# high_contrast = ['#004488', '#DDAA33', '#BB5566', '#000000']"
   ]
  },
  {
   "cell_type": "markdown",
   "metadata": {},
   "source": [
    "## Loading training and test data:"
   ]
  },
  {
   "cell_type": "code",
   "execution_count": 2,
   "metadata": {},
   "outputs": [
    {
     "data": {
      "text/plain": [
       "(125, 41, 7)"
      ]
     },
     "execution_count": 2,
     "metadata": {},
     "output_type": "execute_result"
    }
   ],
   "source": [
    "split = \"secondary\"\n",
    "\n",
    "data_train = pd.read_pickle(join(datasets_dir, \"splits\", split, \"training_data.pkl\"))\n",
    "data_test = pd.read_pickle(join(datasets_dir, \"splits\", split, \"test_data.pkl\"))\n",
    "data_val = pd.read_pickle(join(datasets_dir, \"splits\", split, \"val_data.pkl\"))\n",
    "\n",
    "# data_train[\"geomean_kcat\"] = np.log10(data_train[\"geomean_kcat\"])\n",
    "# data_test[\"geomean_kcat\"] = np.log10(data_test[\"geomean_kcat\"])\n",
    "\n",
    "data_train[\"log10_kcat\"] = np.log10(data_train[\"kcat\"])\n",
    "data_test[\"log10_kcat\"] = np.log10(data_test[\"kcat\"])\n",
    "data_val[\"log10_kcat\"] = np.log10(data_val[\"kcat\"])\n",
    "\n",
    "data_train.rename(columns = {\"Enzyme rep\" : \"ESM2\"}, inplace = True)\n",
    "data_test.rename(columns = {\"Enzyme rep\" : \"ESM2\"}, inplace = True)\n",
    "data_val.rename(columns = {\"Enzyme rep\" : \"ESM2\"}, inplace = True)\n",
    "\n",
    "data_train['Temperature'] = data_train['Temperature'].replace('-', np.nan)\n",
    "data_test['Temperature'] = data_test['Temperature'].replace('-', np.nan)\n",
    "data_val['Temperature'] = data_val['Temperature'].replace('-', np.nan)\n",
    "data_train['pH'] = data_train['pH'].replace('-', np.nan)\n",
    "data_test['pH'] = data_test['pH'].replace('-', np.nan)\n",
    "data_val['pH'] = data_val['pH'].replace('-', np.nan)\n",
    "data_train['Type'] = data_train['Type'].replace('wildtype', 1)\n",
    "data_train['Type'] = data_train['Type'].replace('mutant', 2)\n",
    "data_test['Type'] = data_test['Type'].replace('wildtype', 1)\n",
    "data_test['Type'] = data_test['Type'].replace('mutant', 2)\n",
    "data_val['Type'] = data_val['Type'].replace('wildtype', 1)\n",
    "data_val['Type'] = data_val['Type'].replace('mutant', 2)\n",
    "\n",
    "data_train['MACCS FP'] = data_train['MACCS FP'].astype(str)\n",
    "data_test['MACCS FP'] = data_test['MACCS FP'].astype(str)\n",
    "data_val['MACCS FP'] = data_val['MACCS FP'].astype(str)\n",
    "\n",
    "len(data_train), len(data_test), len(data_val)"
   ]
  },
  {
   "cell_type": "code",
   "execution_count": 3,
   "metadata": {},
   "outputs": [],
   "source": [
    "train_indices = list(np.load(join(datasets_dir, \"splits\", split, \"CV_train_indices_Seed plants.npy\"), allow_pickle = True))\n",
    "test_indices = list(np.load(join(datasets_dir, \"splits\", split, \"CV_test_indices_Seed plants.npy\"), allow_pickle = True))"
   ]
  },
  {
   "cell_type": "code",
   "execution_count": 4,
   "metadata": {},
   "outputs": [
    {
     "name": "stdout",
     "output_type": "stream",
     "text": [
      "[]\n"
     ]
    }
   ],
   "source": [
    "data_test = data_test[~data_test['GNN FP'].isnull()]\n",
    "\n",
    "nan_rows = data_train[data_train['GNN FP'].apply(lambda x: not isinstance(x, np.ndarray))]\n",
    "\n",
    "# Get the indices of these rows\n",
    "indices_with_nan = nan_rows.index.tolist()\n",
    "# indices_with_nan.reverse()\n",
    "print(indices_with_nan)\n",
    "\n",
    "for ind, sub_list in enumerate(train_indices):\n",
    "    for elem in sub_list:\n",
    "        if elem in indices_with_nan:\n",
    "            sub_list.remove(elem)\n",
    "\n",
    "for ind, sub_list in enumerate(train_indices):\n",
    "    for num in indices_with_nan:\n",
    "        train_indices[ind] = [elem - 1 if elem > num else elem for elem in sub_list]\n",
    "\n",
    "for ind, sub_list in enumerate(test_indices):\n",
    "    for elem in sub_list:\n",
    "        if elem in indices_with_nan:\n",
    "            sub_list.remove(elem)\n",
    "\n",
    "for ind, sub_list in enumerate(test_indices):\n",
    "    for num in indices_with_nan:\n",
    "        test_indices[ind] = [elem - 1 if elem > num else elem for elem in sub_list]      \n",
    "\n",
    "\n",
    "data_train = data_train[data_train['GNN FP'].apply(lambda x: isinstance(x, np.ndarray))]\n",
    "data_train.reset_index(inplace=True, drop=True)"
   ]
  },
  {
   "cell_type": "markdown",
   "metadata": {},
   "source": [
    "## 1. Training a model with enzyme and substrate information (ESM-2/MACCS) + Temperature + pH:"
   ]
  },
  {
   "cell_type": "markdown",
   "metadata": {},
   "source": [
    "#### (a) Creating input matrices:"
   ]
  },
  {
   "cell_type": "code",
   "execution_count": 5,
   "metadata": {},
   "outputs": [],
   "source": [
    "train_X = np.array(list(data_train[\"ESM2\"]))\n",
    "train_X = np.concatenate([train_X, np.array(list(data_train[\"GNN FP\"])), np.array(list(data_train[\"Temperature\"]))[:, np.newaxis], np.array(list(data_train[\"pH\"]))[:, np.newaxis]], axis = 1)\n",
    "train_Y = np.array(list(data_train[\"log10_kcat\"]))\n",
    "\n",
    "test_X = np.array(list(data_test[\"ESM2\"]))\n",
    "test_X = np.concatenate([test_X, np.array(list(data_test[\"GNN FP\"])), np.array(list(data_test[\"Temperature\"]))[:, np.newaxis], np.array(list(data_test[\"pH\"]))[:, np.newaxis]], axis = 1)\n",
    "test_Y = np.array(list(data_test[\"log10_kcat\"]))\n",
    "\n",
    "train_X = train_X.astype(float)\n",
    "test_X = test_X.astype(float)"
   ]
  },
  {
   "cell_type": "markdown",
   "metadata": {},
   "source": [
    "#### (b) Hyperparameter optimization:"
   ]
  },
  {
   "cell_type": "code",
   "execution_count": 6,
   "metadata": {},
   "outputs": [],
   "source": [
    "# def cross_validation_mse_gradient_boosting(param):\n",
    "#     num_round = param[\"num_rounds\"]\n",
    "#     del param[\"num_rounds\"]\n",
    "#     param[\"max_depth\"] = int(np.round(param[\"max_depth\"]))\n",
    "#     # param[\"device\"] = \"cuda\"\n",
    "#     param[\"tree_method\"] = \"hist\"\n",
    "#     param[\"sampling_method\"] = \"gradient_based\"\n",
    "    \n",
    "#     MSE = []\n",
    "#     R2 = []\n",
    "#     for i in range(5):\n",
    "#         train_index, test_index  = train_indices[i], test_indices[i]\n",
    "#         dtrain = xgb.DMatrix(train_X[train_index], label = train_Y[train_index])\n",
    "#         dvalid = xgb.DMatrix(train_X[test_index])\n",
    "#         bst = xgb.train(param, dtrain, int(num_round), verbose_eval=False)\n",
    "#         y_valid_pred = bst.predict(dvalid)\n",
    "#         MSE.append(np.mean(abs(np.reshape(train_Y[test_index], (-1)) - y_valid_pred)**2))\n",
    "#         R2.append(r2_score(np.reshape(train_Y[test_index], (-1)),  y_valid_pred))\n",
    "#     return(-np.mean(R2))\n",
    "\n",
    "# space_gradient_boosting = {\n",
    "#     \"learning_rate\": hp.choice(\"learning_rate\", np.linspace(0.01, 0.1, 10)),\n",
    "#     \"max_depth\": hp.choice(\"max_depth\", np.linspace(3,10,8)),\n",
    "#     #\"subsample\": hp.quniform(\"subsample\", 0.5, 1),\n",
    "#     \"reg_lambda\": hp.choice(\"reg_lambda\", np.linspace(0, 1, 11)),\n",
    "#     \"reg_alpha\": hp.choice(\"reg_alpha\", np.linspace(0, 1, 11)),\n",
    "#     \"max_delta_step\": hp.choice(\"max_delta_step\", np.linspace(1, 5, 5)),\n",
    "#     \"min_child_weight\": hp.choice(\"min_child_weight\", np.linspace(1, 6, 6)),\n",
    "#     \"num_rounds\":  hp.choice(\"num_rounds\", np.linspace(50, 200, 4))}\n",
    "\n",
    "\n",
    "# trials = Trials()\n",
    "# best = fmin(fn = cross_validation_mse_gradient_boosting, space = space_gradient_boosting,\n",
    "#             algo=tpe.suggest, max_evals = 10, trials=trials)"
   ]
  },
  {
   "cell_type": "code",
   "execution_count": 7,
   "metadata": {},
   "outputs": [],
   "source": [
    "# print(best)"
   ]
  },
  {
   "cell_type": "code",
   "execution_count": 8,
   "metadata": {},
   "outputs": [],
   "source": [
    "if split == \"full\":\n",
    "    param = {\"random_state\": 42, 'learning_rate': 0.1, 'max_delta_step': 4, 'max_depth': 5, 'min_child_weight': 2, 'num_rounds': 50, 'reg_alpha': 0.2, 'reg_lambda': 0.7}\n",
    "elif split == \"Arabidopsis\":\n",
    "    param = {\"random_state\": 42,'learning_rate': 0.04, 'max_delta_step': 3, 'max_depth': 4, 'min_child_weight': 6, 'num_rounds': 150, 'reg_alpha': 0.6, 'reg_lambda': 0.6}\n",
    "elif split == \"Brassicaceae\":\n",
    "    param = {\"random_state\": 42,'learning_rate': 0.05, 'max_delta_step': 1, 'max_depth': 4, 'min_child_weight': 2, 'num_rounds': 150, 'reg_alpha': 0.7, 'reg_lambda': 1}\n",
    "elif split == \"wildtype\":\n",
    "    param = {\"random_state\": 42,'learning_rate': 0.03, 'max_delta_step': 1, 'max_depth': 4, 'min_child_weight': 8, 'num_rounds': 100, 'reg_alpha': 0.8, 'reg_lambda': 1}\n",
    "else:\n",
    "    param = {\"random_state\": 42, 'learning_rate': 0.04, 'max_delta_step': 1, 'max_depth': 6, 'min_child_weight': 3, 'num_rounds': 200, 'reg_alpha': 0.5, 'reg_lambda': 0.3}\n"
   ]
  },
  {
   "cell_type": "markdown",
   "metadata": {},
   "source": [
    "#### (c) Training and validating model:"
   ]
  },
  {
   "cell_type": "code",
   "execution_count": 9,
   "metadata": {},
   "outputs": [],
   "source": [
    "num_round = param[\"num_rounds\"]\n",
    "param[\"max_depth\"] = int(np.round(param[\"max_depth\"]))\n",
    "\n",
    "del param[\"num_rounds\"]"
   ]
  },
  {
   "cell_type": "code",
   "execution_count": 10,
   "metadata": {},
   "outputs": [
    {
     "name": "stdout",
     "output_type": "stream",
     "text": [
      "[0.0014715364731261171, 0.5933471395499963, 0.17352119777485223, 0.9958862351409188, 0.9382772605525]\n",
      "[107.89881435568778, 2.9140342387938754, 8.989884668837632, 15.143067266117754, 50.859618212564754]\n",
      "[-0.05723184063077458, 0.351154228849346, -0.024903788259748927, 0.8443551890209073, 0.25542467589224027]\n",
      "[27.192776920338808, 2.193560863235859, 6.585865783833994, 4.691150822745583, 13.027051003818164]\n",
      "[2.7565780601633847, 2.0853803944798384, 4.223135603516898, 0.0667648218874211, 2.989474871659037]\n"
     ]
    }
   ],
   "source": [
    "R2 = []\n",
    "MSE = []\n",
    "Pearson = []\n",
    "MAE = []\n",
    "MedAE = []\n",
    "\n",
    "for i in range(5):\n",
    "    train_index, test_index  = train_indices[i], test_indices[i]\n",
    "    dtrain = xgb.DMatrix(train_X[train_index], label = train_Y[train_index])\n",
    "    dvalid = xgb.DMatrix(train_X[test_index])\n",
    "    \n",
    "    bst = xgb.train(param, dtrain, int(num_round), verbose_eval=False)\n",
    "    \n",
    "    y_valid_pred = bst.predict(dvalid)\n",
    "    MSE.append(np.sqrt(np.mean(abs(np.array([10**x for x in np.reshape(train_Y[test_index], (-1))]) - np.array([10**x for x in y_valid_pred]))**2)))\n",
    "    R2.append(r2_score([10**x for x in np.reshape(train_Y[test_index], (-1))], [10**x for x in y_valid_pred]))\n",
    "    Pearson.append(stats.pearsonr([10**x for x in np.reshape(train_Y[test_index], (-1))], [10**x for x in y_valid_pred])[0])\n",
    "    MAE.append(np.mean(abs(np.array([10**x for x in train_Y[test_index]]) - np.array([10**x for x in y_valid_pred]))))\n",
    "    MedAE.append(np.median(abs(np.array([10**x for x in train_Y[test_index]]) - np.array([10**x for x in y_valid_pred]))))\n",
    "\n",
    "    # MSE.append(np.mean(abs(np.reshape(train_Y[test_index], (-1)) - y_valid_pred)**2))\n",
    "    # R2.append(r2_score(np.reshape(train_Y[test_index], (-1)), y_valid_pred))\n",
    "    # Pearson.append(stats.pearsonr(np.reshape(train_Y[test_index], (-1)), y_valid_pred)[0])\n",
    "\n",
    "print(Pearson)\n",
    "print(MSE)\n",
    "print(R2)\n",
    "print(MAE)\n",
    "print(MedAE)\n",
    "\n",
    "np.save(join(\"..\", \"..\", \"data\", \"Pearson_CV_xgboost_EMS2_gnn_fp.npy\"), np.array(Pearson))\n",
    "np.save(join(\"..\", \"..\", \"data\", \"MSE_CV_xgboost_EMS2_gnn_fp.npy\"), np.array(MSE))\n",
    "np.save(join(\"..\", \"..\", \"data\", \"R2_CV_xgboost_EMS2_gnn_fp.npy\"), np.array(R2))"
   ]
  },
  {
   "cell_type": "code",
   "execution_count": 11,
   "metadata": {},
   "outputs": [
    {
     "name": "stdout",
     "output_type": "stream",
     "text": [
      "0.276 7.5607783744 -0.05 4.0788607804 1.8155674102\n"
     ]
    }
   ],
   "source": [
    "dtrain = xgb.DMatrix(train_X, label = train_Y)\n",
    "dtest = xgb.DMatrix(test_X)\n",
    "\n",
    "bst = xgb.train(param, dtrain, int(num_round), verbose_eval=False)\n",
    "\n",
    "y_test_pred = bst.predict(dtest)\n",
    "\n",
    "MSE_dif_fp_test = np.sqrt(np.mean(abs(np.array([10**x for x in test_Y]) - np.array([10**x for x in y_test_pred]))**2))\n",
    "R2_dif_fp_test = r2_score(np.array([10**x for x in np.reshape(test_Y, (-1))]), np.array([10**x for x in y_test_pred]))\n",
    "Pearson = stats.pearsonr(np.array([10**x for x in np.reshape(test_Y, (-1))]), np.array([10**x for x in y_test_pred]))\n",
    "MAE = np.mean(abs(np.array([10**x for x in test_Y]) - np.array([10**x for x in y_test_pred])))\n",
    "MedAE = np.median(abs(np.array([10**x for x in test_Y]) - np.array([10**x for x in y_test_pred])))\n",
    "\n",
    "# MSE_dif_fp_test = np.mean(abs(np.reshape(test_Y, (-1)) - y_test_pred)**2)\n",
    "# R2_dif_fp_test = r2_score(np.reshape(test_Y, (-1)), y_test_pred)\n",
    "# Pearson = stats.pearsonr(np.reshape(test_Y, (-1)), y_test_pred)\n",
    "# MAE = np.mean(abs(np.reshape(test_Y, (-1)) - y_test_pred))\n",
    "# MedAE = np.median(abs(np.array(test_Y) - np.array(y_test_pred)))\n",
    "\n",
    "print(np.round(Pearson[0],3) , np.round(MSE_dif_fp_test, 10), np.round(R2_dif_fp_test,3), np.round(MAE, 10), np.round(MedAE, 10))\n",
    "\n",
    "np.save(join(\"..\", \"..\", \"data\", \"y_test_pred_xgboost_EMS2_gnn_fp.npy\"), bst.predict(dtest))\n",
    "np.save(join(\"..\", \"..\", \"data\",  \"y_test_true_xgboost_EMS2_gnn_fp.npy\"), test_Y)"
   ]
  },
  {
   "cell_type": "code",
   "execution_count": 12,
   "metadata": {},
   "outputs": [],
   "source": [
    "y_test_pred_esm1b_ts_drfp = y_test_pred"
   ]
  },
  {
   "cell_type": "code",
   "execution_count": 13,
   "metadata": {},
   "outputs": [
    {
     "data": {
      "text/html": [
       "<div>\n",
       "<style scoped>\n",
       "    .dataframe tbody tr th:only-of-type {\n",
       "        vertical-align: middle;\n",
       "    }\n",
       "\n",
       "    .dataframe tbody tr th {\n",
       "        vertical-align: top;\n",
       "    }\n",
       "\n",
       "    .dataframe thead th {\n",
       "        text-align: right;\n",
       "    }\n",
       "</style>\n",
       "<table border=\"1\" class=\"dataframe\">\n",
       "  <thead>\n",
       "    <tr style=\"text-align: right;\">\n",
       "      <th></th>\n",
       "      <th>0</th>\n",
       "    </tr>\n",
       "  </thead>\n",
       "  <tbody>\n",
       "    <tr>\n",
       "      <th>count</th>\n",
       "      <td>41.000000</td>\n",
       "    </tr>\n",
       "    <tr>\n",
       "      <th>mean</th>\n",
       "      <td>4.078861</td>\n",
       "    </tr>\n",
       "    <tr>\n",
       "      <th>std</th>\n",
       "      <td>6.445267</td>\n",
       "    </tr>\n",
       "    <tr>\n",
       "      <th>min</th>\n",
       "      <td>0.005395</td>\n",
       "    </tr>\n",
       "    <tr>\n",
       "      <th>25%</th>\n",
       "      <td>0.329940</td>\n",
       "    </tr>\n",
       "    <tr>\n",
       "      <th>50%</th>\n",
       "      <td>1.815567</td>\n",
       "    </tr>\n",
       "    <tr>\n",
       "      <th>75%</th>\n",
       "      <td>5.079522</td>\n",
       "    </tr>\n",
       "    <tr>\n",
       "      <th>max</th>\n",
       "      <td>34.069251</td>\n",
       "    </tr>\n",
       "  </tbody>\n",
       "</table>\n",
       "</div>"
      ],
      "text/plain": [
       "               0\n",
       "count  41.000000\n",
       "mean    4.078861\n",
       "std     6.445267\n",
       "min     0.005395\n",
       "25%     0.329940\n",
       "50%     1.815567\n",
       "75%     5.079522\n",
       "max    34.069251"
      ]
     },
     "execution_count": 13,
     "metadata": {},
     "output_type": "execute_result"
    }
   ],
   "source": [
    "pd.DataFrame(abs(np.array([10**x for x in test_Y]) - np.array([10**x for x in y_test_pred]))).describe()"
   ]
  },
  {
   "cell_type": "markdown",
   "metadata": {},
   "source": [
    "#### (d) Training model with test and train data for production mode:"
   ]
  },
  {
   "cell_type": "code",
   "execution_count": 14,
   "metadata": {},
   "outputs": [],
   "source": [
    "train_X = np.array(list(data_train[\"ESM2\"]))\n",
    "train_X = np.concatenate([train_X, np.array(list(data_train[\"GNN FP\"])), np.array(list(data_train[\"Temperature\"]))[:, np.newaxis], np.array(list(data_train[\"pH\"]))[:, np.newaxis]], axis = 1)\n",
    "train_Y = np.array(list(data_train[\"log10_kcat\"]))\n",
    "\n",
    "test_X = np.array(list(data_test[\"ESM2\"]))\n",
    "test_X = np.concatenate([test_X, np.array(list(data_test[\"GNN FP\"])), np.array(list(data_test[\"Temperature\"]))[:, np.newaxis], np.array(list(data_test[\"pH\"]))[:, np.newaxis]], axis = 1)\n",
    "test_Y = np.array(list(data_test[\"log10_kcat\"]))\n",
    "\n",
    "train_X = np.concatenate([train_X, test_X])\n",
    "train_Y = np.concatenate([train_Y, test_Y])\n",
    "\n",
    "train_X = train_X.astype(float)\n",
    "test_X = test_X.astype(float)"
   ]
  },
  {
   "cell_type": "code",
   "execution_count": 15,
   "metadata": {},
   "outputs": [
    {
     "name": "stdout",
     "output_type": "stream",
     "text": [
      "(0.9632730548484367, 7.069402835994646e-24) 2.349353823456906 0.8986050755958163\n"
     ]
    }
   ],
   "source": [
    "dtrain = xgb.DMatrix(train_X, label = train_Y)\n",
    "dtest = xgb.DMatrix(test_X)\n",
    "\n",
    "bst = xgb.train(param, dtrain, int(num_round), verbose_eval=False)\n",
    "\n",
    "y_test_pred = bst.predict(dtest)\n",
    "\n",
    "MSE_dif_fp_test = np.sqrt(np.mean(abs(np.array([10**x for x in np.reshape(test_Y, (-1))]) - np.array([10**x for x in y_test_pred]))**2))\n",
    "R2_dif_fp_test = r2_score(np.array([10**x for x in np.reshape(test_Y, (-1))]), np.array([10**x for x in y_test_pred]))\n",
    "Pearson = stats.pearsonr(np.array([10**x for x in np.reshape(test_Y, (-1))]), np.array([10**x for x in y_test_pred]))\n",
    "\n",
    "# MSE_dif_fp_test = np.mean(abs(np.reshape(test_Y, (-1)) - y_test_pred)**2)\n",
    "# R2_dif_fp_test = r2_score(np.reshape(test_Y, (-1)), y_test_pred)\n",
    "# Pearson = stats.pearsonr(np.reshape(test_Y, (-1)), y_test_pred)\n",
    "\n",
    "print(Pearson, MSE_dif_fp_test, R2_dif_fp_test)\n",
    "\n",
    "pickle.dump(bst, open(join(\"..\", \"..\", \"data\", \"saved_models\",\n",
    "                          \"xgboost_train_and_test.pkl\"), \"wb\"))"
   ]
  },
  {
   "cell_type": "markdown",
   "metadata": {},
   "source": [
    "##### Validating model"
   ]
  },
  {
   "cell_type": "code",
   "execution_count": 16,
   "metadata": {},
   "outputs": [],
   "source": [
    "val_X = np.array(list(data_val[\"ESM2\"]))\n",
    "val_X = np.concatenate([val_X, np.array(list(data_val[\"GNN FP\"])), np.array(list(data_val[\"Temperature\"]))[:, np.newaxis], np.array(list(data_val[\"pH\"]))[:, np.newaxis]], axis = 1)\n",
    "val_Y = np.array(list(data_val[\"log10_kcat\"]))\n",
    "\n",
    "val_X = val_X.astype(float)"
   ]
  },
  {
   "cell_type": "code",
   "execution_count": 17,
   "metadata": {},
   "outputs": [
    {
     "name": "stdout",
     "output_type": "stream",
     "text": [
      "(0.020936658220535087, 0.9644646146424217) 4.739643691233274 -0.21675115092024488 3.8262573668453994 2.2965234484510084\n"
     ]
    }
   ],
   "source": [
    "dval = xgb.DMatrix(val_X)\n",
    "\n",
    "y_val_pred = bst.predict(dval)\n",
    "\n",
    "MSE_dif_fp_val = np.sqrt(np.mean(abs(np.array([10**x for x in np.reshape(val_Y, (-1))]) - np.array([10**x for x in y_val_pred]))**2))\n",
    "R2_dif_fp_val = r2_score(np.array([10**x for x in np.reshape(val_Y, (-1))]), np.array([10**x for x in y_val_pred]))\n",
    "Pearson = stats.pearsonr(np.array([10**x for x in np.reshape(val_Y, (-1))]), np.array([10**x for x in y_val_pred]))\n",
    "MAE = np.mean(abs(np.array([10**x for x in val_Y]) - np.array([10**x for x in y_val_pred])))\n",
    "MedAE = np.median(abs(np.array([10**x for x in val_Y]) - np.array([10**x for x in y_val_pred])))\n",
    "\n",
    "# MSE_dif_fp_test = np.mean(abs(np.reshape(test_Y, (-1)) - y_test_pred)**2)\n",
    "# R2_dif_fp_test = r2_score(np.reshape(test_Y, (-1)), y_test_pred)\n",
    "# Pearson = stats.pearsonr(np.reshape(test_Y, (-1)), y_test_pred)\n",
    "\n",
    "print(Pearson, MSE_dif_fp_val, R2_dif_fp_val, MAE, MedAE)"
   ]
  },
  {
   "cell_type": "markdown",
   "metadata": {},
   "source": [
    "## 2. Training a model with enzyme and reaction information (ESM-2/diff_fp) + Temperature + pH:"
   ]
  },
  {
   "cell_type": "markdown",
   "metadata": {},
   "source": [
    "#### (a) Creating input matrices:"
   ]
  },
  {
   "cell_type": "code",
   "execution_count": 18,
   "metadata": {},
   "outputs": [],
   "source": [
    "train_X = np.array(list(data_train[\"ESM2\"]))\n",
    "train_X = np.concatenate([train_X, np.array(list(data_train[\"difference_fp\"])), np.array(list(data_train[\"Temperature\"]))[:, np.newaxis], np.array(list(data_train[\"pH\"]))[:, np.newaxis]], axis = 1)\n",
    "train_Y = np.array(list(data_train[\"log10_kcat\"]))\n",
    "\n",
    "test_X = np.array(list(data_test[\"ESM2\"]))\n",
    "test_X = np.concatenate([test_X, np.array(list(data_test[\"difference_fp\"])), np.array(list(data_test[\"Temperature\"]))[:, np.newaxis], np.array(list(data_test[\"pH\"]))[:, np.newaxis]], axis = 1)\n",
    "test_Y = np.array(list(data_test[\"log10_kcat\"]))\n",
    "\n",
    "train_X = train_X.astype(float)\n",
    "test_X = test_X.astype(float)"
   ]
  },
  {
   "cell_type": "markdown",
   "metadata": {},
   "source": [
    "#### (b) Hyperparameter optimization:"
   ]
  },
  {
   "cell_type": "code",
   "execution_count": 19,
   "metadata": {},
   "outputs": [],
   "source": [
    "# def cross_validation_mse_gradient_boosting(param):\n",
    "#     num_round = param[\"num_rounds\"]\n",
    "#     del param[\"num_rounds\"]\n",
    "#     param[\"max_depth\"] = int(np.round(param[\"max_depth\"]))\n",
    "#     # param[\"device\"] = \"cuda\"\n",
    "#     param[\"tree_method\"] = \"hist\"\n",
    "#     param[\"sampling_method\"] = \"gradient_based\"\n",
    "    \n",
    "#     MSE = []\n",
    "#     R2 = []\n",
    "#     for i in range(5):\n",
    "#         train_index, test_index  = train_indices[i], test_indices[i]\n",
    "#         dtrain = xgb.DMatrix(train_X[train_index], label = train_Y[train_index])\n",
    "#         dvalid = xgb.DMatrix(train_X[test_index])\n",
    "#         bst = xgb.train(param, dtrain, int(num_round), verbose_eval=False)\n",
    "#         y_valid_pred = bst.predict(dvalid)\n",
    "#         MSE.append(np.mean(abs(np.reshape(train_Y[test_index], (-1)) - y_valid_pred)**2))\n",
    "#         R2.append(r2_score(np.reshape(train_Y[test_index], (-1)),  y_valid_pred))\n",
    "#     return(-np.mean(R2))\n",
    "\n",
    "\n",
    "# space_gradient_boosting = {\n",
    "#     \"learning_rate\": hp.choice(\"learning_rate\", np.linspace(0.01, 0.1, 10)),\n",
    "#     \"max_depth\": hp.choice(\"max_depth\", np.linspace(3,10,8)),\n",
    "#     #\"subsample\": hp.quniform(\"subsample\", 0.5, 1),\n",
    "#     \"reg_lambda\": hp.choice(\"reg_lambda\", np.linspace(0, 1, 11)),\n",
    "#     \"reg_alpha\": hp.choice(\"reg_alpha\", np.linspace(0, 1, 11)),\n",
    "#     \"max_delta_step\": hp.choice(\"max_delta_step\", np.linspace(1, 5, 5)),\n",
    "#     \"min_child_weight\": hp.choice(\"min_child_weight\", np.linspace(1, 6, 6)),\n",
    "#     \"num_rounds\":  hp.choice(\"num_rounds\", np.linspace(50, 200, 4))}\n",
    "\n",
    "\n",
    "# trials = Trials()\n",
    "# best = fmin(fn = cross_validation_mse_gradient_boosting, space = space_gradient_boosting,\n",
    "#             algo=rand.suggest, max_evals = 10, trials=trials)"
   ]
  },
  {
   "cell_type": "code",
   "execution_count": 20,
   "metadata": {},
   "outputs": [],
   "source": [
    "# print(best)"
   ]
  },
  {
   "cell_type": "code",
   "execution_count": 21,
   "metadata": {},
   "outputs": [],
   "source": [
    "if split == \"full\":\n",
    "    param = {\"random_state\": 42, 'learning_rate': 0.08, 'max_delta_step': 3, 'max_depth': 5, 'min_child_weight': 2, 'num_rounds': 100, 'reg_alpha': 0.4, 'reg_lambda': 0.5}\n",
    "elif split == \"Arabidopsis\":\n",
    "    param = {\"random_state\": 42, 'learning_rate': 0.07, 'max_delta_step': 1, 'max_depth': 6, 'min_child_weight': 4, 'num_rounds': 200, 'reg_alpha': 0.2, 'reg_lambda': 0.3}\n",
    "elif split == \"Brassicaceae\":\n",
    "    param = {\"random_state\": 42, 'learning_rate': 0.03, 'max_delta_step': 2, 'max_depth': 4, 'min_child_weight': 1, 'num_rounds': 150, 'reg_alpha': 0.7, 'reg_lambda': 0.3}\n",
    "elif split == \"wildtype\":\n",
    "    param = {\"random_state\": 42, 'learning_rate': 0.06, 'max_delta_step': 5, 'max_depth': 3, 'min_child_weight': 2, 'num_rounds': 50, 'reg_alpha': 0.7, 'reg_lambda': 0.5}\n",
    "else:\n",
    "    param = {\"random_state\": 42, 'learning_rate': 0.04, 'max_delta_step': 1, 'max_depth': 10, 'min_child_weight': 6, 'num_rounds': 50, 'reg_alpha': 0.8, 'reg_lambda': 1}"
   ]
  },
  {
   "cell_type": "markdown",
   "metadata": {},
   "source": [
    "#### (c) Training and validating model:"
   ]
  },
  {
   "cell_type": "code",
   "execution_count": 22,
   "metadata": {},
   "outputs": [],
   "source": [
    "num_round = param[\"num_rounds\"]\n",
    "param[\"max_depth\"] = int(np.round(param[\"max_depth\"]))\n",
    "\n",
    "del param[\"num_rounds\"]"
   ]
  },
  {
   "cell_type": "code",
   "execution_count": 23,
   "metadata": {},
   "outputs": [
    {
     "name": "stdout",
     "output_type": "stream",
     "text": [
      "[-0.01348164170763079, 0.5293601243152916, 0.02740454030721151, 0.7065213551151431, 0.7434850026915801]\n",
      "[107.89016540301671, 3.1619370064683903, 9.656634441817323, 35.21406571946362, 54.377977813054606]\n",
      "[-0.057062356253651636, 0.23606113536202655, -0.18256886446964216, 0.15833496812535064, 0.14884519716404399]\n",
      "[26.958467375373647, 2.665459869473272, 7.269027459586576, 8.99460041497929, 13.222110112937983]\n",
      "[1.4464873636827096, 2.805975873505879, 4.825763180013089, 0.07543974847736926, 1.7752381196230713]\n"
     ]
    }
   ],
   "source": [
    "R2 = []\n",
    "MSE = []\n",
    "Pearson = []\n",
    "MAE = []\n",
    "MedAE = []\n",
    "\n",
    "for i in range(5):\n",
    "    train_index, test_index  = train_indices[i], test_indices[i]\n",
    "    dtrain = xgb.DMatrix(train_X[train_index], label = train_Y[train_index])\n",
    "    dvalid = xgb.DMatrix(train_X[test_index])\n",
    "    \n",
    "    bst = xgb.train(param, dtrain, int(num_round), verbose_eval=False)\n",
    "    \n",
    "    y_valid_pred = bst.predict(dvalid)\n",
    "    MSE.append(np.sqrt(np.mean(abs(np.array([10**x for x in np.reshape(train_Y[test_index], (-1))]) - np.array([10**x for x in y_valid_pred]))**2)))\n",
    "    R2.append(r2_score([10**x for x in np.reshape(train_Y[test_index], (-1))], [10**x for x in y_valid_pred]))\n",
    "    Pearson.append(stats.pearsonr([10**x for x in np.reshape(train_Y[test_index], (-1))], [10**x for x in y_valid_pred])[0])\n",
    "    MAE.append(np.mean(abs(np.array([10**x for x in train_Y[test_index]]) - np.array([10**x for x in y_valid_pred]))))\n",
    "    MedAE.append(np.median(abs(np.array([10**x for x in train_Y[test_index]]) - np.array([10**x for x in y_valid_pred]))))\n",
    "\n",
    "    # MSE.append(np.mean(abs(np.reshape(train_Y[test_index], (-1)) - y_valid_pred)**2))\n",
    "    # R2.append(r2_score(np.reshape(train_Y[test_index], (-1)), y_valid_pred))\n",
    "    # Pearson.append(stats.pearsonr(np.reshape(train_Y[test_index], (-1)), y_valid_pred)[0])\n",
    "\n",
    "print(Pearson)\n",
    "print(MSE)\n",
    "print(R2)\n",
    "print(MAE)\n",
    "print(MedAE)\n",
    "\n",
    "np.save(join(\"..\", \"..\", \"data\", \"Pearson_CV_xgboost_EMS2_diff_fp.npy\"), np.array(Pearson))\n",
    "np.save(join(\"..\", \"..\", \"data\", \"MSE_CV_xgboost_EMS2_diff_fp.npy\"), np.array(MSE))\n",
    "np.save(join(\"..\", \"..\", \"data\", \"R2_CV_xgboost_EMS2_diff_fp.npy\"), np.array(R2))"
   ]
  },
  {
   "cell_type": "code",
   "execution_count": 24,
   "metadata": {},
   "outputs": [
    {
     "name": "stdout",
     "output_type": "stream",
     "text": [
      "0.289 7.4535830029 -0.021 3.8798632011 1.51693407\n"
     ]
    }
   ],
   "source": [
    "dtrain = xgb.DMatrix(train_X, label = train_Y)\n",
    "dtest = xgb.DMatrix(test_X)\n",
    "\n",
    "bst = xgb.train(param, dtrain, int(num_round), verbose_eval=False)\n",
    "\n",
    "y_test_pred = bst.predict(dtest)\n",
    "MSE_dif_fp_test = np.sqrt(np.mean(abs(np.array([10**x for x in np.reshape(test_Y, (-1))]) - np.array([10**x for x in y_test_pred]))**2))\n",
    "R2_dif_fp_test = r2_score(np.array([10**x for x in np.reshape(test_Y, (-1))]), np.array([10**x for x in y_test_pred]))\n",
    "Pearson = stats.pearsonr(np.array([10**x for x in np.reshape(test_Y, (-1))]), np.array([10**x for x in y_test_pred]))\n",
    "MAE = np.mean(abs(np.array([10**x for x in test_Y]) - np.array([10**x for x in y_test_pred])))\n",
    "MedAE = np.median(abs(np.array([10**x for x in test_Y]) - np.array([10**x for x in y_test_pred])))\n",
    "\n",
    "# MSE_dif_fp_test = np.mean(abs(np.reshape(test_Y, (-1)) - y_test_pred)**2)\n",
    "# R2_dif_fp_test = r2_score(np.reshape(test_Y, (-1)), y_test_pred)\n",
    "# Pearson = stats.pearsonr(np.reshape(test_Y, (-1)), y_test_pred)\n",
    "# MAE = np.mean(abs(np.reshape(test_Y, (-1)) - y_test_pred))\n",
    "\n",
    "print(np.round(Pearson[0],3) , np.round(MSE_dif_fp_test, 10), np.round(R2_dif_fp_test,3), np.round(MAE, 10), np.round(MedAE, 10))\n",
    "\n",
    "np.save(join(\"..\", \"..\", \"data\", \"y_test_pred_xgboost_EMS2_diff_fp.npy\"), bst.predict(dtest))\n",
    "np.save(join(\"..\", \"..\", \"data\",  \"y_test_true_xgboost_EMS2_diff_fp.npy\"), test_Y)"
   ]
  },
  {
   "cell_type": "code",
   "execution_count": 25,
   "metadata": {},
   "outputs": [],
   "source": [
    "y_test_pred_esm1b_ts_drfp = y_test_pred"
   ]
  },
  {
   "cell_type": "markdown",
   "metadata": {},
   "source": [
    "#### (d) Training model with test and train data for production mode:"
   ]
  },
  {
   "cell_type": "code",
   "execution_count": 26,
   "metadata": {},
   "outputs": [],
   "source": [
    "train_X = np.array(list(data_train[\"ESM2\"]))\n",
    "train_X = np.concatenate([train_X, np.array(list(data_train[\"difference_fp\"])), np.array(list(data_train[\"Temperature\"]))[:, np.newaxis], np.array(list(data_train[\"pH\"]))[:, np.newaxis]], axis = 1)\n",
    "train_Y = np.array(list(data_train[\"log10_kcat\"]))\n",
    "\n",
    "test_X = np.array(list(data_test[\"ESM2\"]))\n",
    "test_X = np.concatenate([test_X, np.array(list(data_test[\"difference_fp\"])), np.array(list(data_test[\"Temperature\"]))[:, np.newaxis], np.array(list(data_test[\"pH\"]))[:, np.newaxis]], axis = 1)\n",
    "test_Y = np.array(list(data_test[\"log10_kcat\"]))\n",
    "\n",
    "train_X = np.concatenate([train_X, test_X])\n",
    "train_Y = np.concatenate([train_Y, test_Y])\n",
    "\n",
    "train_X = train_X.astype(float)\n",
    "test_X = test_X.astype(float)"
   ]
  },
  {
   "cell_type": "code",
   "execution_count": 27,
   "metadata": {},
   "outputs": [
    {
     "name": "stdout",
     "output_type": "stream",
     "text": [
      "(0.8508432729662725, 1.8602184364322034e-12) 4.831085600224142 0.5712453687235945\n"
     ]
    }
   ],
   "source": [
    "dtrain = xgb.DMatrix(train_X, label = train_Y)\n",
    "dtest = xgb.DMatrix(test_X)\n",
    "\n",
    "bst = xgb.train(param, dtrain, int(num_round), verbose_eval=False)\n",
    "\n",
    "y_test_pred = bst.predict(dtest)\n",
    "\n",
    "MSE_dif_fp_test = np.sqrt(np.mean(abs(np.array([10**x for x in np.reshape(test_Y, (-1))]) - np.array([10**x for x in y_test_pred]))**2))\n",
    "R2_dif_fp_test = r2_score(np.array([10**x for x in np.reshape(test_Y, (-1))]), np.array([10**x for x in y_test_pred]))\n",
    "Pearson = stats.pearsonr(np.array([10**x for x in np.reshape(test_Y, (-1))]), np.array([10**x for x in y_test_pred]))\n",
    "\n",
    "# MSE_dif_fp_test = np.mean(abs(np.reshape(test_Y, (-1)) - y_test_pred)**2)\n",
    "# R2_dif_fp_test = r2_score(np.reshape(test_Y, (-1)), y_test_pred)\n",
    "# Pearson = stats.pearsonr(np.reshape(test_Y, (-1)), y_test_pred)\n",
    "\n",
    "print(Pearson, MSE_dif_fp_test, R2_dif_fp_test)\n",
    "\n",
    "pickle.dump(bst, open(join(\"..\", \"..\", \"data\", \"saved_models\",\n",
    "                          \"xgboost_train_and_test.pkl\"), \"wb\"))"
   ]
  },
  {
   "cell_type": "markdown",
   "metadata": {},
   "source": [
    "##### Validating model"
   ]
  },
  {
   "cell_type": "code",
   "execution_count": 28,
   "metadata": {},
   "outputs": [],
   "source": [
    "val_X = np.array(list(data_val[\"ESM2\"]))\n",
    "val_X = np.concatenate([val_X, np.array(list(data_val[\"difference_fp\"])), np.array(list(data_val[\"Temperature\"]))[:, np.newaxis], np.array(list(data_val[\"pH\"]))[:, np.newaxis]], axis = 1)\n",
    "val_Y = np.array(list(data_val[\"log10_kcat\"]))\n",
    "\n",
    "val_X = val_X.astype(float)"
   ]
  },
  {
   "cell_type": "code",
   "execution_count": 29,
   "metadata": {},
   "outputs": [
    {
     "name": "stdout",
     "output_type": "stream",
     "text": [
      "(-0.17661330571408634, 0.7048261364345066) 4.911656389613935 -0.3066712351334755 4.202070930470204 4.11909089299639\n"
     ]
    }
   ],
   "source": [
    "dval = xgb.DMatrix(val_X)\n",
    "\n",
    "y_val_pred = bst.predict(dval)\n",
    "\n",
    "MSE_dif_fp_val = np.sqrt(np.mean(abs(np.array([10**x for x in np.reshape(val_Y, (-1))]) - np.array([10**x for x in y_val_pred]))**2))\n",
    "R2_dif_fp_val = r2_score(np.array([10**x for x in np.reshape(val_Y, (-1))]), np.array([10**x for x in y_val_pred]))\n",
    "Pearson = stats.pearsonr(np.array([10**x for x in np.reshape(val_Y, (-1))]), np.array([10**x for x in y_val_pred]))\n",
    "MAE = np.mean(abs(np.array([10**x for x in val_Y]) - np.array([10**x for x in y_val_pred])))\n",
    "MedAE = np.median(abs(np.array([10**x for x in val_Y]) - np.array([10**x for x in y_val_pred])))\n",
    "\n",
    "# MSE_dif_fp_test = np.mean(abs(np.reshape(test_Y, (-1)) - y_test_pred)**2)\n",
    "# R2_dif_fp_test = r2_score(np.reshape(test_Y, (-1)), y_test_pred)\n",
    "# Pearson = stats.pearsonr(np.reshape(test_Y, (-1)), y_test_pred)\n",
    "\n",
    "print(Pearson, MSE_dif_fp_val, R2_dif_fp_val, MAE, MedAE)"
   ]
  },
  {
   "cell_type": "markdown",
   "metadata": {},
   "source": [
    "## 3. Training a model with enzyme, substrate (MACCS fp) and reaction information (ESM-2/diff_fp) + Temperature + pH:"
   ]
  },
  {
   "cell_type": "markdown",
   "metadata": {},
   "source": [
    "#### (a) Creating input matrices:"
   ]
  },
  {
   "cell_type": "code",
   "execution_count": 30,
   "metadata": {},
   "outputs": [],
   "source": [
    "train_X = np.array(list(data_train[\"ESM2\"]))\n",
    "train_X = np.concatenate([train_X, np.array(list(data_train[\"difference_fp\"])), np.array(list(data_train[\"GNN FP\"])), np.array(list(data_train[\"Temperature\"]))[:, np.newaxis], np.array(list(data_train[\"pH\"]))[:, np.newaxis]], axis = 1)\n",
    "train_Y = np.array(list(data_train[\"log10_kcat\"]))\n",
    "\n",
    "test_X = np.array(list(data_test[\"ESM2\"]))\n",
    "test_X = np.concatenate([test_X, np.array(list(data_test[\"difference_fp\"])), np.array(list(data_test[\"GNN FP\"])), np.array(list(data_test[\"Temperature\"]))[:, np.newaxis], np.array(list(data_test[\"pH\"]))[:, np.newaxis]], axis = 1)\n",
    "test_Y = np.array(list(data_test[\"log10_kcat\"]))\n",
    "\n",
    "train_X = train_X.astype(float)\n",
    "test_X = test_X.astype(float)"
   ]
  },
  {
   "cell_type": "markdown",
   "metadata": {},
   "source": [
    "#### (b) Hyperparameter optimization:"
   ]
  },
  {
   "cell_type": "code",
   "execution_count": 31,
   "metadata": {},
   "outputs": [],
   "source": [
    "# def cross_validation_mse_gradient_boosting(param):\n",
    "#     num_round = param[\"num_rounds\"]\n",
    "#     del param[\"num_rounds\"]\n",
    "#     param[\"max_depth\"] = int(np.round(param[\"max_depth\"]))\n",
    "#     # param[\"device\"] = \"cuda\"\n",
    "#     param[\"tree_method\"] = \"hist\"\n",
    "#     param[\"sampling_method\"] = \"gradient_based\"\n",
    "    \n",
    "#     MSE = []\n",
    "#     R2 = []\n",
    "#     for i in range(5):\n",
    "#         train_index, test_index  = train_indices[i], test_indices[i]\n",
    "#         dtrain = xgb.DMatrix(train_X[train_index], label = train_Y[train_index])\n",
    "#         dvalid = xgb.DMatrix(train_X[test_index])\n",
    "#         bst = xgb.train(param, dtrain, int(num_round), verbose_eval=False)\n",
    "#         y_valid_pred = bst.predict(dvalid)\n",
    "#         MSE.append(np.mean(abs(np.reshape(train_Y[test_index], (-1)) - y_valid_pred)**2))\n",
    "#         R2.append(r2_score(np.reshape(train_Y[test_index], (-1)),  y_valid_pred))\n",
    "#     return(-np.mean(R2))\n",
    "\n",
    "# space_gradient_boosting = {\n",
    "#     \"learning_rate\": hp.choice(\"learning_rate\", np.linspace(0.01, 0.1, 10)),\n",
    "#     \"max_depth\": hp.choice(\"max_depth\", np.linspace(3,10,8)),\n",
    "#     #\"subsample\": hp.quniform(\"subsample\", 0.5, 1),\n",
    "#     \"reg_lambda\": hp.choice(\"reg_lambda\", np.linspace(0, 1, 11)),\n",
    "#     \"reg_alpha\": hp.choice(\"reg_alpha\", np.linspace(0, 1, 11)),\n",
    "#     \"max_delta_step\": hp.choice(\"max_delta_step\", np.linspace(1, 5, 5)),\n",
    "#     \"min_child_weight\": hp.choice(\"min_child_weight\", np.linspace(1, 6, 6)),\n",
    "#     \"num_rounds\":  hp.choice(\"num_rounds\", np.linspace(50, 200, 4))}\n",
    "\n",
    "\n",
    "# trials = Trials()\n",
    "# best = fmin(fn = cross_validation_mse_gradient_boosting, space = space_gradient_boosting,\n",
    "#             algo=rand.suggest, max_evals = 10, trials=trials)"
   ]
  },
  {
   "cell_type": "code",
   "execution_count": 32,
   "metadata": {},
   "outputs": [],
   "source": [
    "# print(best)"
   ]
  },
  {
   "cell_type": "code",
   "execution_count": 33,
   "metadata": {},
   "outputs": [],
   "source": [
    "if split == \"full\":\n",
    "    param = {\"random_state\": 42, 'learning_rate': 0.06, 'max_delta_step': 1, 'max_depth': 6, 'min_child_weight': 3, 'num_rounds': 200, 'reg_alpha': 1, 'reg_lambda': 0.7}\n",
    "elif split == \"Arabidopsis\":\n",
    "    param = {\"random_state\": 42, 'learning_rate': 0.1, 'max_delta_step': 4, 'max_depth': 3, 'min_child_weight': 5, 'num_rounds': 150, 'reg_alpha': 0.5, 'reg_lambda': 0.8}\n",
    "elif split == \"Brassicaceae\":\n",
    "    param = {\"random_state\": 42, 'learning_rate': 0.07, 'max_delta_step': 1, 'max_depth': 3, 'min_child_weight': 5, 'num_rounds': 100, 'reg_alpha': 0.6, 'reg_lambda': 0.5}\n",
    "elif split == \"wildtype\":\n",
    "    param = {\"random_state\": 42, 'learning_rate': 0.09, 'max_delta_step': 2, 'max_depth': 4, 'min_child_weight': 3, 'num_rounds': 100, 'reg_alpha': 0, 'reg_lambda': 0.8}\n",
    "else:\n",
    "    param = {\"random_state\": 42, 'learning_rate': 0.03, 'max_delta_step': 2, 'max_depth': 7, 'min_child_weight': 6, 'num_rounds': 150, 'reg_alpha': 0.2, 'reg_lambda': 0.4}"
   ]
  },
  {
   "cell_type": "markdown",
   "metadata": {},
   "source": [
    "#### (c) Training and validating model:"
   ]
  },
  {
   "cell_type": "code",
   "execution_count": 34,
   "metadata": {},
   "outputs": [],
   "source": [
    "num_round = param[\"num_rounds\"]\n",
    "param[\"max_depth\"] = int(np.round(param[\"max_depth\"]))\n",
    "\n",
    "del param[\"num_rounds\"]"
   ]
  },
  {
   "cell_type": "code",
   "execution_count": 35,
   "metadata": {},
   "outputs": [
    {
     "name": "stdout",
     "output_type": "stream",
     "text": [
      "[0.017239320931253133, 0.7229713576533273, -0.022883055165730914, 0.960468305914129, 0.9036363260252886]\n",
      "[107.73597986693379, 3.5156761069051106, 11.724697408682694, 30.058892330707234, 52.95591294108581]\n",
      "[-0.0540432253501395, 0.05556974169196205, -0.7433241421413479, 0.3867283497712726, 0.1927810163959559]\n",
      "[26.95311361644233, 2.6734174602731042, 8.272724164388467, 7.399553183525053, 13.020410460907039]\n",
      "[2.493359504918104, 1.8241223663097688, 5.86409871016386, 0.08400883629944075, 2.414603487573231]\n"
     ]
    }
   ],
   "source": [
    "R2 = []\n",
    "MSE = []\n",
    "Pearson = []\n",
    "MAE = []\n",
    "MedAE = []\n",
    "\n",
    "for i in range(5):\n",
    "    train_index, test_index  = train_indices[i], test_indices[i]\n",
    "    dtrain = xgb.DMatrix(train_X[train_index], label = train_Y[train_index])\n",
    "    dvalid = xgb.DMatrix(train_X[test_index])\n",
    "    \n",
    "    bst = xgb.train(param, dtrain, int(num_round), verbose_eval=False)\n",
    "    \n",
    "    y_valid_pred = bst.predict(dvalid)\n",
    "    MSE.append(np.sqrt(np.mean(abs(np.array([10**x for x in np.reshape(train_Y[test_index], (-1))]) - np.array([10**x for x in y_valid_pred]))**2)))\n",
    "    R2.append(r2_score([10**x for x in np.reshape(train_Y[test_index], (-1))], [10**x for x in y_valid_pred]))\n",
    "    Pearson.append(stats.pearsonr([10**x for x in np.reshape(train_Y[test_index], (-1))], [10**x for x in y_valid_pred])[0])\n",
    "    MAE.append(np.mean(abs(np.array([10**x for x in train_Y[test_index]]) - np.array([10**x for x in y_valid_pred]))))\n",
    "    MedAE.append(np.median(abs(np.array([10**x for x in train_Y[test_index]]) - np.array([10**x for x in y_valid_pred]))))\n",
    "\n",
    "    # MSE.append(np.mean(abs(np.reshape(train_Y[test_index], (-1)) - y_valid_pred)**2))\n",
    "    # R2.append(r2_score(np.reshape(train_Y[test_index], (-1)), y_valid_pred))\n",
    "    # Pearson.append(stats.pearsonr(np.reshape(train_Y[test_index], (-1)), y_valid_pred)[0])\n",
    "\n",
    "print(Pearson)\n",
    "print(MSE)\n",
    "print(R2)\n",
    "print(MAE)\n",
    "print(MedAE)\n",
    "\n",
    "np.save(join(\"..\", \"..\", \"data\", \"Pearson_CV_xgboost_EMS2_gnn_fp_diff_fp.npy\"), np.array(Pearson))\n",
    "np.save(join(\"..\", \"..\", \"data\", \"MSE_CV_xgboost_EMS2_gnn_fp_diff_fp.npy\"), np.array(MSE))\n",
    "np.save(join(\"..\", \"..\", \"data\", \"R2_CV_xgboost_EMS2_gnn_fp_diff_fp.npy\"), np.array(R2))"
   ]
  },
  {
   "cell_type": "code",
   "execution_count": 36,
   "metadata": {},
   "outputs": [
    {
     "name": "stdout",
     "output_type": "stream",
     "text": [
      "0.276 7.5374599199 -0.044 4.0228655844 1.7430006546\n"
     ]
    }
   ],
   "source": [
    "dtrain = xgb.DMatrix(train_X, label = train_Y)\n",
    "dtest = xgb.DMatrix(test_X)\n",
    "\n",
    "bst = xgb.train(param, dtrain, int(num_round), verbose_eval=False)\n",
    "\n",
    "y_test_pred = bst.predict(dtest)\n",
    "MSE_dif_fp_test = np.sqrt(np.mean(abs(np.array([10**x for x in np.reshape(test_Y, (-1))]) - np.array([10**x for x in y_test_pred]))**2))\n",
    "R2_dif_fp_test = r2_score(np.array([10**x for x in np.reshape(test_Y, (-1))]), np.array([10**x for x in y_test_pred]))\n",
    "Pearson = stats.pearsonr(np.array([10**x for x in np.reshape(test_Y, (-1))]), np.array([10**x for x in y_test_pred]))\n",
    "MAE = np.mean(abs(np.array([10**x for x in test_Y]) - np.array([10**x for x in y_test_pred])))\n",
    "MedAE = np.median(abs(np.array([10**x for x in test_Y]) - np.array([10**x for x in y_test_pred])))\n",
    "\n",
    "# MSE_dif_fp_test = np.mean(abs(np.reshape(test_Y, (-1)) - y_test_pred)**2)\n",
    "# R2_dif_fp_test = r2_score(np.reshape(test_Y, (-1)), y_test_pred)\n",
    "# Pearson = stats.pearsonr(np.reshape(test_Y, (-1)), y_test_pred)\n",
    "# MAE = np.mean(abs(np.reshape(test_Y, (-1)) - y_test_pred))\n",
    "\n",
    "print(np.round(Pearson[0],3) , np.round(MSE_dif_fp_test, 10), np.round(R2_dif_fp_test,3), np.round(MAE, 10), np.round(MedAE, 10))\n",
    "\n",
    "np.save(join(\"..\", \"..\", \"data\", \"y_test_pred_xgboost_EMS2_gnn_fp_diff_fp.npy\"), bst.predict(dtest))\n",
    "np.save(join(\"..\", \"..\", \"data\",  \"y_test_true_xgboost_EMS2_gnn_fp_diff_fp.npy\"), test_Y)"
   ]
  },
  {
   "cell_type": "code",
   "execution_count": 37,
   "metadata": {},
   "outputs": [],
   "source": [
    "y_test_pred_esm1b_ts_drfp = y_test_pred"
   ]
  },
  {
   "cell_type": "markdown",
   "metadata": {},
   "source": [
    "#### (d) Training model with test and train data for production mode:"
   ]
  },
  {
   "cell_type": "code",
   "execution_count": 38,
   "metadata": {},
   "outputs": [],
   "source": [
    "train_X = np.array(list(data_train[\"ESM2\"]))\n",
    "train_X = np.concatenate([train_X, np.array(list(data_train[\"difference_fp\"])), np.array(list(data_train[\"GNN FP\"])), np.array(list(data_train[\"Temperature\"]))[:, np.newaxis], np.array(list(data_train[\"pH\"]))[:, np.newaxis]], axis = 1)\n",
    "train_Y = np.array(list(data_train[\"log10_kcat\"]))\n",
    "\n",
    "test_X = np.array(list(data_test[\"ESM2\"]))\n",
    "test_X = np.concatenate([test_X, np.array(list(data_test[\"difference_fp\"])), np.array(list(data_test[\"GNN FP\"])), np.array(list(data_test[\"Temperature\"]))[:, np.newaxis], np.array(list(data_test[\"pH\"]))[:, np.newaxis]], axis = 1)\n",
    "test_Y = np.array(list(data_test[\"log10_kcat\"]))\n",
    "\n",
    "train_X = np.concatenate([train_X, test_X])\n",
    "train_Y = np.concatenate([train_Y, test_Y])\n",
    "\n",
    "train_X = train_X.astype(float)\n",
    "test_X = test_X.astype(float)"
   ]
  },
  {
   "cell_type": "code",
   "execution_count": 39,
   "metadata": {},
   "outputs": [
    {
     "name": "stdout",
     "output_type": "stream",
     "text": [
      "(0.9423876118246268, 3.807843097539318e-20) 3.0306484173186985 0.8312707122440833\n"
     ]
    }
   ],
   "source": [
    "dtrain = xgb.DMatrix(train_X, label = train_Y)\n",
    "dtest = xgb.DMatrix(test_X)\n",
    "\n",
    "bst = xgb.train(param, dtrain, int(num_round), verbose_eval=False)\n",
    "\n",
    "y_test_pred = bst.predict(dtest)\n",
    "\n",
    "MSE_dif_fp_test = np.sqrt(np.mean(abs(np.array([10**x for x in np.reshape(test_Y, (-1))]) - np.array([10**x for x in y_test_pred]))**2))\n",
    "R2_dif_fp_test = r2_score(np.array([10**x for x in np.reshape(test_Y, (-1))]), np.array([10**x for x in y_test_pred]))\n",
    "Pearson = stats.pearsonr(np.array([10**x for x in np.reshape(test_Y, (-1))]), np.array([10**x for x in y_test_pred]))\n",
    "\n",
    "# MSE_dif_fp_test = np.mean(abs(np.reshape(test_Y, (-1)) - y_test_pred)**2)\n",
    "# R2_dif_fp_test = r2_score(np.reshape(test_Y, (-1)), y_test_pred)\n",
    "# Pearson = stats.pearsonr(np.reshape(test_Y, (-1)), y_test_pred)\n",
    "\n",
    "print(Pearson, MSE_dif_fp_test, R2_dif_fp_test)\n",
    "\n",
    "pickle.dump(bst, open(join(\"..\", \"..\", \"data\", \"saved_models\",\n",
    "                          \"xgboost_train_and_test.pkl\"), \"wb\"))"
   ]
  },
  {
   "cell_type": "code",
   "execution_count": 40,
   "metadata": {},
   "outputs": [],
   "source": [
    "importances = bst.get_score()"
   ]
  },
  {
   "cell_type": "code",
   "execution_count": 41,
   "metadata": {},
   "outputs": [],
   "source": [
    "val_X = np.array(list(data_val[\"ESM2\"]))\n",
    "val_X = np.concatenate([val_X, np.array(list(data_val[\"difference_fp\"])), np.array(list(data_val[\"GNN FP\"])), np.array(list(data_val[\"Temperature\"]))[:, np.newaxis], np.array(list(data_val[\"pH\"]))[:, np.newaxis]], axis = 1)\n",
    "val_Y = np.array(list(data_val[\"log10_kcat\"]))\n",
    "\n",
    "val_X = val_X.astype(float)"
   ]
  },
  {
   "cell_type": "code",
   "execution_count": 42,
   "metadata": {},
   "outputs": [
    {
     "name": "stdout",
     "output_type": "stream",
     "text": [
      "(-0.06843302369950485, 0.8840963290779402) 4.784775973130257 -0.2400340037120734 3.867034784726086 2.2903475639917956\n"
     ]
    }
   ],
   "source": [
    "dval = xgb.DMatrix(val_X)\n",
    "\n",
    "y_val_pred = bst.predict(dval)\n",
    "\n",
    "MSE_dif_fp_val = np.sqrt(np.mean(abs(np.array([10**x for x in np.reshape(val_Y, (-1))]) - np.array([10**x for x in y_val_pred]))**2))\n",
    "R2_dif_fp_val = r2_score(np.array([10**x for x in np.reshape(val_Y, (-1))]), np.array([10**x for x in y_val_pred]))\n",
    "Pearson = stats.pearsonr(np.array([10**x for x in np.reshape(val_Y, (-1))]), np.array([10**x for x in y_val_pred]))\n",
    "MAE = np.mean(abs(np.array([10**x for x in val_Y]) - np.array([10**x for x in y_val_pred])))\n",
    "MedAE = np.median(abs(np.array([10**x for x in val_Y]) - np.array([10**x for x in y_val_pred])))\n",
    "\n",
    "# MSE_dif_fp_test = np.mean(abs(np.reshape(test_Y, (-1)) - y_test_pred)**2)\n",
    "# R2_dif_fp_test = r2_score(np.reshape(test_Y, (-1)), y_test_pred)\n",
    "# Pearson = stats.pearsonr(np.reshape(test_Y, (-1)), y_test_pred)\n",
    "\n",
    "print(Pearson, MSE_dif_fp_val, R2_dif_fp_val, MAE, MedAE)"
   ]
  },
  {
   "cell_type": "code",
   "execution_count": 43,
   "metadata": {},
   "outputs": [],
   "source": [
    "data_val[\"Estimate kcat\"] = y_val_pred"
   ]
  },
  {
   "cell_type": "code",
   "execution_count": 44,
   "metadata": {},
   "outputs": [
    {
     "data": {
      "image/png": "[encoded data removed]",
      "text/plain": [
       "<Figure size 640x480 with 1 Axes>"
      ]
     },
     "metadata": {},
     "output_type": "display_data"
    }
   ],
   "source": [
    "import matplotlib.pyplot as plt\n",
    "import matplotlib.colors as colors\n",
    "import matplotlib.cm as cmx\n",
    "\n",
    "plt.scatter(val_Y,y_val_pred,c='blue', edgecolors='black',s=15)\n",
    "    \n",
    "plt.xlim(-4,4)\n",
    "plt.ylim(-4,4)\n",
    "plt.xticks(fontsize=14)\n",
    "plt.yticks(fontsize=14)\n",
    "plt.xlabel('Real value', fontsize=15)\n",
    "plt.ylabel('Estimated value', fontsize=15)\n",
    "plt.title('Predictions', fontsize=15)\n",
    "plt.axline((1, 1), slope=1, c='red')\n",
    "plt.show()"
   ]
  },
  {
   "cell_type": "code",
   "execution_count": 45,
   "metadata": {},
   "outputs": [
    {
     "data": {
      "text/plain": [
       "<matplotlib.collections.PathCollection at 0x1f8b5b78088>"
      ]
     },
     "execution_count": 45,
     "metadata": {},
     "output_type": "execute_result"
    },
    {
     "data": {
      "image/png": "[encoded data removed]",
      "text/plain": [
       "<Figure size 640x480 with 1 Axes>"
      ]
     },
     "metadata": {},
     "output_type": "display_data"
    }
   ],
   "source": [
    "plt.scatter(val_Y, np.zeros_like(val_Y), c='blue', edgecolors='black',s=15)\n",
    "plt.scatter(np.mean(val_Y), 0, c='red', edgecolors='black',s=20)"
   ]
  },
  {
   "cell_type": "code",
   "execution_count": 46,
   "metadata": {},
   "outputs": [],
   "source": [
    "importances = bst.get_score()"
   ]
  },
  {
   "cell_type": "code",
   "execution_count": 47,
   "metadata": {},
   "outputs": [
    {
     "name": "stdout",
     "output_type": "stream",
     "text": [
      "1280\n",
      "2048\n",
      "167\n"
     ]
    }
   ],
   "source": [
    "print(len(data_train[\"ESM2\"][1]))\n",
    "print(len(data_train[\"difference_fp\"][1]))\n",
    "print(len(data_train[\"MACCS FP\"][1]))"
   ]
  },
  {
   "cell_type": "code",
   "execution_count": 48,
   "metadata": {},
   "outputs": [
    {
     "data": {
      "text/plain": [
       "{'f0': 8.0,\n",
       " 'f1': 17.0,\n",
       " 'f2': 2.0,\n",
       " 'f3': 7.0,\n",
       " 'f4': 6.0,\n",
       " 'f5': 13.0,\n",
       " 'f7': 2.0,\n",
       " 'f8': 10.0,\n",
       " 'f10': 10.0,\n",
       " 'f11': 2.0,\n",
       " 'f12': 32.0,\n",
       " 'f13': 5.0,\n",
       " 'f14': 11.0,\n",
       " 'f15': 13.0,\n",
       " 'f16': 1.0,\n",
       " 'f21': 4.0,\n",
       " 'f23': 22.0,\n",
       " 'f27': 3.0,\n",
       " 'f29': 2.0,\n",
       " 'f30': 14.0,\n",
       " 'f31': 2.0,\n",
       " 'f39': 4.0,\n",
       " 'f46': 1.0,\n",
       " 'f48': 4.0,\n",
       " 'f50': 1.0,\n",
       " 'f54': 1.0,\n",
       " 'f57': 1.0,\n",
       " 'f59': 2.0,\n",
       " 'f72': 1.0,\n",
       " 'f74': 1.0,\n",
       " 'f78': 6.0,\n",
       " 'f80': 2.0,\n",
       " 'f84': 1.0,\n",
       " 'f87': 12.0,\n",
       " 'f88': 1.0,\n",
       " 'f89': 1.0,\n",
       " 'f91': 2.0,\n",
       " 'f93': 8.0,\n",
       " 'f94': 3.0,\n",
       " 'f95': 3.0,\n",
       " 'f96': 1.0,\n",
       " 'f98': 22.0,\n",
       " 'f102': 4.0,\n",
       " 'f104': 3.0,\n",
       " 'f105': 4.0,\n",
       " 'f109': 1.0,\n",
       " 'f123': 4.0,\n",
       " 'f124': 1.0,\n",
       " 'f126': 1.0,\n",
       " 'f129': 2.0,\n",
       " 'f132': 24.0,\n",
       " 'f133': 4.0,\n",
       " 'f134': 2.0,\n",
       " 'f135': 25.0,\n",
       " 'f136': 1.0,\n",
       " 'f137': 2.0,\n",
       " 'f144': 10.0,\n",
       " 'f146': 6.0,\n",
       " 'f150': 1.0,\n",
       " 'f156': 2.0,\n",
       " 'f163': 2.0,\n",
       " 'f164': 5.0,\n",
       " 'f170': 6.0,\n",
       " 'f173': 3.0,\n",
       " 'f174': 1.0,\n",
       " 'f175': 1.0,\n",
       " 'f177': 3.0,\n",
       " 'f195': 7.0,\n",
       " 'f199': 5.0,\n",
       " 'f200': 6.0,\n",
       " 'f204': 4.0,\n",
       " 'f205': 3.0,\n",
       " 'f211': 16.0,\n",
       " 'f212': 2.0,\n",
       " 'f224': 2.0,\n",
       " 'f227': 1.0,\n",
       " 'f235': 2.0,\n",
       " 'f238': 1.0,\n",
       " 'f240': 2.0,\n",
       " 'f242': 58.0,\n",
       " 'f243': 12.0,\n",
       " 'f251': 8.0,\n",
       " 'f252': 1.0,\n",
       " 'f260': 3.0,\n",
       " 'f263': 3.0,\n",
       " 'f264': 2.0,\n",
       " 'f270': 1.0,\n",
       " 'f275': 6.0,\n",
       " 'f276': 2.0,\n",
       " 'f280': 5.0,\n",
       " 'f281': 2.0,\n",
       " 'f287': 17.0,\n",
       " 'f291': 1.0,\n",
       " 'f294': 3.0,\n",
       " 'f302': 9.0,\n",
       " 'f307': 1.0,\n",
       " 'f312': 4.0,\n",
       " 'f319': 2.0,\n",
       " 'f321': 2.0,\n",
       " 'f323': 6.0,\n",
       " 'f336': 1.0,\n",
       " 'f344': 1.0,\n",
       " 'f349': 5.0,\n",
       " 'f350': 2.0,\n",
       " 'f356': 1.0,\n",
       " 'f358': 14.0,\n",
       " 'f365': 5.0,\n",
       " 'f368': 5.0,\n",
       " 'f371': 1.0,\n",
       " 'f372': 5.0,\n",
       " 'f376': 5.0,\n",
       " 'f377': 4.0,\n",
       " 'f378': 6.0,\n",
       " 'f396': 1.0,\n",
       " 'f398': 6.0,\n",
       " 'f403': 1.0,\n",
       " 'f404': 3.0,\n",
       " 'f405': 1.0,\n",
       " 'f406': 3.0,\n",
       " 'f407': 2.0,\n",
       " 'f410': 3.0,\n",
       " 'f414': 2.0,\n",
       " 'f427': 1.0,\n",
       " 'f428': 1.0,\n",
       " 'f432': 9.0,\n",
       " 'f442': 2.0,\n",
       " 'f448': 3.0,\n",
       " 'f465': 1.0,\n",
       " 'f468': 5.0,\n",
       " 'f469': 2.0,\n",
       " 'f473': 1.0,\n",
       " 'f478': 1.0,\n",
       " 'f481': 1.0,\n",
       " 'f487': 1.0,\n",
       " 'f490': 5.0,\n",
       " 'f493': 1.0,\n",
       " 'f504': 2.0,\n",
       " 'f511': 1.0,\n",
       " 'f514': 7.0,\n",
       " 'f518': 1.0,\n",
       " 'f519': 4.0,\n",
       " 'f522': 2.0,\n",
       " 'f537': 2.0,\n",
       " 'f540': 7.0,\n",
       " 'f543': 1.0,\n",
       " 'f552': 3.0,\n",
       " 'f555': 3.0,\n",
       " 'f556': 3.0,\n",
       " 'f570': 1.0,\n",
       " 'f571': 4.0,\n",
       " 'f574': 1.0,\n",
       " 'f576': 1.0,\n",
       " 'f591': 1.0,\n",
       " 'f597': 6.0,\n",
       " 'f599': 2.0,\n",
       " 'f603': 2.0,\n",
       " 'f604': 2.0,\n",
       " 'f605': 1.0,\n",
       " 'f609': 2.0,\n",
       " 'f612': 2.0,\n",
       " 'f615': 18.0,\n",
       " 'f633': 2.0,\n",
       " 'f635': 1.0,\n",
       " 'f640': 2.0,\n",
       " 'f651': 2.0,\n",
       " 'f652': 2.0,\n",
       " 'f673': 1.0,\n",
       " 'f675': 2.0,\n",
       " 'f679': 8.0,\n",
       " 'f680': 2.0,\n",
       " 'f682': 1.0,\n",
       " 'f692': 10.0,\n",
       " 'f701': 4.0,\n",
       " 'f703': 3.0,\n",
       " 'f705': 2.0,\n",
       " 'f706': 2.0,\n",
       " 'f707': 3.0,\n",
       " 'f711': 2.0,\n",
       " 'f714': 10.0,\n",
       " 'f716': 1.0,\n",
       " 'f718': 1.0,\n",
       " 'f721': 2.0,\n",
       " 'f723': 2.0,\n",
       " 'f725': 1.0,\n",
       " 'f728': 4.0,\n",
       " 'f731': 3.0,\n",
       " 'f734': 3.0,\n",
       " 'f739': 2.0,\n",
       " 'f740': 16.0,\n",
       " 'f745': 1.0,\n",
       " 'f747': 2.0,\n",
       " 'f748': 7.0,\n",
       " 'f749': 6.0,\n",
       " 'f753': 1.0,\n",
       " 'f754': 1.0,\n",
       " 'f759': 4.0,\n",
       " 'f776': 1.0,\n",
       " 'f777': 5.0,\n",
       " 'f778': 3.0,\n",
       " 'f783': 1.0,\n",
       " 'f787': 1.0,\n",
       " 'f792': 4.0,\n",
       " 'f794': 1.0,\n",
       " 'f798': 25.0,\n",
       " 'f805': 3.0,\n",
       " 'f806': 1.0,\n",
       " 'f810': 1.0,\n",
       " 'f816': 2.0,\n",
       " 'f819': 2.0,\n",
       " 'f829': 9.0,\n",
       " 'f846': 5.0,\n",
       " 'f847': 4.0,\n",
       " 'f858': 1.0,\n",
       " 'f865': 1.0,\n",
       " 'f872': 3.0,\n",
       " 'f874': 4.0,\n",
       " 'f878': 3.0,\n",
       " 'f883': 4.0,\n",
       " 'f889': 2.0,\n",
       " 'f891': 3.0,\n",
       " 'f902': 2.0,\n",
       " 'f904': 3.0,\n",
       " 'f910': 2.0,\n",
       " 'f915': 5.0,\n",
       " 'f916': 2.0,\n",
       " 'f922': 2.0,\n",
       " 'f932': 2.0,\n",
       " 'f937': 4.0,\n",
       " 'f938': 1.0,\n",
       " 'f942': 8.0,\n",
       " 'f945': 1.0,\n",
       " 'f948': 6.0,\n",
       " 'f952': 2.0,\n",
       " 'f954': 3.0,\n",
       " 'f964': 3.0,\n",
       " 'f967': 5.0,\n",
       " 'f975': 11.0,\n",
       " 'f978': 7.0,\n",
       " 'f982': 1.0,\n",
       " 'f984': 3.0,\n",
       " 'f985': 1.0,\n",
       " 'f986': 1.0,\n",
       " 'f987': 2.0,\n",
       " 'f994': 1.0,\n",
       " 'f1005': 2.0,\n",
       " 'f1008': 3.0,\n",
       " 'f1010': 1.0,\n",
       " 'f1013': 3.0,\n",
       " 'f1016': 3.0,\n",
       " 'f1022': 5.0,\n",
       " 'f1025': 21.0,\n",
       " 'f1028': 3.0,\n",
       " 'f1029': 2.0,\n",
       " 'f1032': 1.0,\n",
       " 'f1043': 1.0,\n",
       " 'f1052': 2.0,\n",
       " 'f1053': 13.0,\n",
       " 'f1056': 1.0,\n",
       " 'f1057': 2.0,\n",
       " 'f1063': 1.0,\n",
       " 'f1066': 18.0,\n",
       " 'f1071': 4.0,\n",
       " 'f1073': 23.0,\n",
       " 'f1077': 2.0,\n",
       " 'f1080': 1.0,\n",
       " 'f1083': 5.0,\n",
       " 'f1086': 3.0,\n",
       " 'f1087': 2.0,\n",
       " 'f1088': 2.0,\n",
       " 'f1091': 1.0,\n",
       " 'f1093': 1.0,\n",
       " 'f1098': 6.0,\n",
       " 'f1105': 7.0,\n",
       " 'f1106': 1.0,\n",
       " 'f1109': 1.0,\n",
       " 'f1110': 4.0,\n",
       " 'f1117': 26.0,\n",
       " 'f1127': 1.0,\n",
       " 'f1130': 1.0,\n",
       " 'f1135': 1.0,\n",
       " 'f1138': 1.0,\n",
       " 'f1143': 1.0,\n",
       " 'f1149': 1.0,\n",
       " 'f1152': 1.0,\n",
       " 'f1159': 2.0,\n",
       " 'f1163': 4.0,\n",
       " 'f1165': 7.0,\n",
       " 'f1179': 2.0,\n",
       " 'f1180': 6.0,\n",
       " 'f1185': 1.0,\n",
       " 'f1190': 3.0,\n",
       " 'f1193': 1.0,\n",
       " 'f1202': 3.0,\n",
       " 'f1204': 1.0,\n",
       " 'f1206': 9.0,\n",
       " 'f1219': 2.0,\n",
       " 'f1223': 1.0,\n",
       " 'f1226': 2.0,\n",
       " 'f1228': 1.0,\n",
       " 'f1233': 3.0,\n",
       " 'f1234': 1.0,\n",
       " 'f1238': 1.0,\n",
       " 'f1240': 7.0,\n",
       " 'f1241': 2.0,\n",
       " 'f1252': 1.0,\n",
       " 'f1260': 1.0,\n",
       " 'f1263': 19.0,\n",
       " 'f1265': 3.0,\n",
       " 'f1266': 7.0,\n",
       " 'f1276': 2.0,\n",
       " 'f1284': 8.0,\n",
       " 'f1287': 7.0,\n",
       " 'f1290': 4.0,\n",
       " 'f1291': 12.0,\n",
       " 'f1293': 6.0,\n",
       " 'f1323': 5.0,\n",
       " 'f1340': 9.0,\n",
       " 'f1341': 8.0,\n",
       " 'f1351': 1.0,\n",
       " 'f1354': 14.0,\n",
       " 'f1355': 22.0,\n",
       " 'f1374': 2.0,\n",
       " 'f1375': 4.0,\n",
       " 'f1381': 1.0,\n",
       " 'f1395': 1.0,\n",
       " 'f1396': 14.0,\n",
       " 'f1404': 2.0,\n",
       " 'f1405': 2.0,\n",
       " 'f1417': 3.0,\n",
       " 'f1418': 3.0,\n",
       " 'f1449': 1.0,\n",
       " 'f1458': 1.0,\n",
       " 'f1469': 1.0,\n",
       " 'f1470': 24.0,\n",
       " 'f1471': 9.0,\n",
       " 'f1474': 8.0,\n",
       " 'f1481': 3.0,\n",
       " 'f1496': 7.0,\n",
       " 'f1500': 5.0,\n",
       " 'f1512': 3.0,\n",
       " 'f1534': 7.0,\n",
       " 'f1591': 6.0,\n",
       " 'f1592': 22.0,\n",
       " 'f1615': 5.0,\n",
       " 'f1654': 4.0,\n",
       " 'f1657': 6.0,\n",
       " 'f1733': 5.0,\n",
       " 'f1809': 8.0,\n",
       " 'f1851': 7.0,\n",
       " 'f1864': 1.0,\n",
       " 'f1928': 6.0,\n",
       " 'f1984': 2.0,\n",
       " 'f1991': 8.0,\n",
       " 'f2044': 3.0,\n",
       " 'f2056': 5.0,\n",
       " 'f2060': 1.0,\n",
       " 'f2078': 3.0,\n",
       " 'f2103': 5.0,\n",
       " 'f2160': 3.0,\n",
       " 'f2163': 1.0,\n",
       " 'f2181': 6.0,\n",
       " 'f2189': 7.0,\n",
       " 'f2190': 1.0,\n",
       " 'f2216': 1.0,\n",
       " 'f2304': 8.0,\n",
       " 'f2328': 1.0,\n",
       " 'f2368': 1.0,\n",
       " 'f2369': 5.0,\n",
       " 'f2376': 1.0,\n",
       " 'f2379': 1.0,\n",
       " 'f2442': 4.0,\n",
       " 'f2494': 2.0,\n",
       " 'f2556': 2.0,\n",
       " 'f2590': 6.0,\n",
       " 'f2613': 7.0,\n",
       " 'f2632': 1.0,\n",
       " 'f2714': 6.0,\n",
       " 'f2747': 2.0,\n",
       " 'f2771': 7.0,\n",
       " 'f2823': 1.0,\n",
       " 'f2950': 1.0,\n",
       " 'f2958': 8.0,\n",
       " 'f3020': 1.0,\n",
       " 'f3124': 2.0,\n",
       " 'f3131': 21.0,\n",
       " 'f3278': 2.0,\n",
       " 'f3289': 1.0,\n",
       " 'f3328': 2.0,\n",
       " 'f3329': 18.0,\n",
       " 'f3330': 8.0,\n",
       " 'f3331': 2.0,\n",
       " 'f3332': 54.0,\n",
       " 'f3334': 1.0,\n",
       " 'f3335': 34.0,\n",
       " 'f3336': 19.0,\n",
       " 'f3337': 8.0,\n",
       " 'f3338': 11.0,\n",
       " 'f3339': 1.0,\n",
       " 'f3340': 3.0,\n",
       " 'f3343': 39.0,\n",
       " 'f3344': 7.0,\n",
       " 'f3348': 2.0,\n",
       " 'f3349': 1.0,\n",
       " 'f3350': 12.0,\n",
       " 'f3352': 8.0,\n",
       " 'f3353': 1.0,\n",
       " 'f3354': 3.0,\n",
       " 'f3355': 5.0,\n",
       " 'f3356': 4.0,\n",
       " 'f3357': 6.0,\n",
       " 'f3359': 2.0,\n",
       " 'f3361': 3.0,\n",
       " 'f3365': 22.0,\n",
       " 'f3367': 12.0,\n",
       " 'f3369': 1.0,\n",
       " 'f3370': 7.0,\n",
       " 'f3371': 8.0,\n",
       " 'f3372': 3.0,\n",
       " 'f3373': 50.0,\n",
       " 'f3374': 5.0,\n",
       " 'f3377': 4.0,\n",
       " 'f3378': 3.0,\n",
       " 'f3379': 2.0,\n",
       " 'f3380': 3.0,\n",
       " 'f3381': 147.0}"
      ]
     },
     "execution_count": 48,
     "metadata": {},
     "output_type": "execute_result"
    }
   ],
   "source": [
    "importances"
   ]
  },
  {
   "cell_type": "code",
   "execution_count": 49,
   "metadata": {},
   "outputs": [],
   "source": [
    "# data_combined = pd.concat([data_train, data_test],ignore_index=True)\n"
   ]
  },
  {
   "cell_type": "code",
   "execution_count": 50,
   "metadata": {},
   "outputs": [],
   "source": [
    "# plt.hist([10**x for x in data_combined[\"log10_kcat\"]], bins=50, color='skyblue', edgecolor='black')"
   ]
  },
  {
   "cell_type": "code",
   "execution_count": 51,
   "metadata": {},
   "outputs": [],
   "source": [
    "# plt.hist([10**x for x in data_val[\"log10_kcat\"]], bins=50, color='skyblue', edgecolor='black')"
   ]
  },
  {
   "cell_type": "code",
   "execution_count": 52,
   "metadata": {},
   "outputs": [],
   "source": [
    "# def calculate_identity_ignore_gaps(seq1, seq2):\n",
    "#     identical_residues = sum([1 for x, y in zip(seq1, seq2) if x == y and x != \"-\"])\n",
    "#     pid = identical_residues / sum([1 for x in seq1 if x != \"-\"]) \n",
    "#     return pid\n",
    "\n",
    "# from Bio import Align\n",
    "# from Bio.Align import substitution_matrices\n",
    "\n",
    "# data_val[\"max_identity\"] = np.nan\n",
    "\n",
    "# aligner=Align.PairwiseAligner()\n",
    "# aligner.substitution_matrix = substitution_matrices.load(\"BLOSUM62\")\n",
    "# aligner.mode = \"global\"\n",
    "# aligner.extend_gap_score = -0.5\n",
    "# aligner.open_gap_score = -10\n",
    "\n",
    "# for i in data_val.index:\n",
    "#     identities = []\n",
    "#     for j in data_combined.index:\n",
    "#         seq1 = str(data_val[\"Sequence\"][i])\n",
    "#         seq2 = str(data_combined[\"Sequence\"][j])\n",
    "#         if 'U' in seq1:\n",
    "#             seq1 = seq1.replace('U', 'C')\n",
    "#         if 'U' in seq2:\n",
    "#             seq2 = seq2.replace('U', 'C')\n",
    "#         alignments = aligner.align(seq1, seq2)\n",
    "#         identities.append(calculate_identity_ignore_gaps(alignments[0][0], alignments[0][1]))\n",
    "#     data_val[\"max_identity\"][i] = max(identities)"
   ]
  },
  {
   "cell_type": "code",
   "execution_count": 53,
   "metadata": {},
   "outputs": [],
   "source": [
    "# data_val[\"max_identity\"] = data_val[\"max_identity\"]*100"
   ]
  },
  {
   "cell_type": "code",
   "execution_count": 54,
   "metadata": {},
   "outputs": [],
   "source": [
    "# import matplotlib.pyplot as plt\n",
    "# import sklearn.metrics as sk\n",
    "# import math\n",
    "\n",
    "# fig, ax = plt.subplots(figsize= (10,8))\n",
    "# plt.rcParams.update({'font.size': 28})\n",
    "\n",
    "# splits = [\"0-40%\", \"40-80%\", \"80-99%\"]\n",
    "# lower_bounds = [0,40,80]\n",
    "# upper_bounds = [40,80,99]\n",
    "\n",
    "# points1 = []\n",
    "# points2 = []\n",
    "# n_points1, n_points2 = [], []\n",
    "\n",
    "# for i, split in enumerate(splits):\n",
    "\n",
    "#     lb, ub = lower_bounds[i], upper_bounds[i]\n",
    "    \n",
    "#     help_df = data_val.loc[data_val[\"max_identity\"]>= lb].loc[data_val[\"max_identity\"]<= ub]\n",
    "#     y_true = np.array([10**x for x in help_df[\"log10_kcat\"]])\n",
    "#     y_pred = np.array([10**x for x in help_df[\"Estimate kcat\"]])\n",
    "#     n_kcat = len(y_pred)\n",
    "#     R2 =  sk.r2_score(y_true, y_pred)\n",
    "#     abs_error = abs(y_true - y_pred)\n",
    "#     rmse = math.sqrt(np.mean(abs(y_true - y_pred)**2))\n",
    "#     print(len(y_true))\n",
    "#     print(split, R2, rmse)\n",
    "#     points1.append(R2)\n",
    "#     points2.append(rmse)\n",
    "#     n_points1.append(n_kcat)\n",
    "\n",
    "\n",
    "# ticks2 = np.array(range(len(splits)))\n",
    "# labs = splits\n",
    "# ax.set_xticks(ticks2)\n",
    "# ax.set_xticklabels(labs,  y= -0.03, fontsize=26)\n",
    "# ax.tick_params(axis='x', length=0, rotation = 0)\n",
    "\n",
    "# # plt.ylim((-0.1,2.5))\n",
    "# # plt.xlim((-0.2, 3.2))\n",
    "# plt.legend(loc = \"lower right\", fontsize=20)\n",
    "# plt.ylabel('RMSE')\n",
    "# plt.xlabel('Enzyme sequence identity')\n",
    "# # ax.yaxis.set_label_coords(-0.15, 0.5)\n",
    "# # ax.xaxis.set_label_coords(0.5,-0.13)\n",
    "\n",
    "# plt.plot([-0.15,4], [0,0], color='grey', linestyle='dashed')\n",
    "\n",
    "\n",
    "# plt.plot([0,1,2], points2, c= \"black\", linewidth=2)\n",
    "\n",
    "# for i, split in enumerate(splits):\n",
    "#     points1.append(R2)\n",
    "    \n",
    "#     if i ==0:\n",
    "#         plt.scatter(i, points2[i], c='black', marker=\"o\", linewidths= 8)\n",
    "#         ax.annotate(n_points1[i], (i-0.08, points2[i]+0.08), fontsize=17, c= \"red\", weight = \"bold\")\n",
    "\n",
    "#     else:\n",
    "#         plt.scatter(i, points2[i], c='black', marker=\"o\", linewidths= 8)\n",
    "#         ax.annotate(n_points1[i], (i-0.08, points2[i]+0.08), fontsize=17, c= \"red\", weight = \"bold\")\n",
    "            \n",
    "     \n",
    "# plt.savefig(join(\"..\",\"..\", \"data\", \"sequence_identity.png\"))\n",
    "# plt.show()"
   ]
  },
  {
   "cell_type": "code",
   "execution_count": 55,
   "metadata": {},
   "outputs": [],
   "source": [
    "# EC_kcat_pred =[[] for _ in range(6)]\n",
    "# EC_kcat =[[] for _ in range(6)]\n",
    "# for ind in data_val.index:\n",
    "#     try:\n",
    "#         EC = int(data_val[\"ECs\"][ind][0][0])\n",
    "#         EC_kcat[EC-1].append(data_val[\"log10_kcat\"][ind])\n",
    "#         EC_kcat_pred[EC-1].append(data_val[\"Estimate kcat\"][ind])\n",
    "#     except IndexError:\n",
    "#         pass"
   ]
  },
  {
   "cell_type": "code",
   "execution_count": 56,
   "metadata": {},
   "outputs": [],
   "source": [
    "# fig, ax = plt.subplots(figsize= (8,8))\n",
    "# plt.rcParams.update({'font.size': 28})\n",
    "\n",
    "# classes = [str(i) for i in range(1,7)]\n",
    "\n",
    "# for i in range(len(EC_kcat)):\n",
    "    \n",
    "#     circle = plt.Circle((np.mean(EC_kcat[i]), np.mean(EC_kcat_pred[i]) ),\n",
    "#                         np.sqrt(len(EC_kcat_pred[i]))/300, color='navy', fill = True)\n",
    "#     ax.add_artist(circle)\n",
    "#     if i ==5:\n",
    "#         ax.annotate(\"EC\"+ str(i+1), (np.mean(EC_kcat[i])+0.01, np.mean(EC_kcat_pred[i])-0.05), fontsize=17, c='red', weight = \"bold\")\n",
    "#     else:\n",
    "#         ax.annotate(\"EC\"+ str(i+1), (np.mean(EC_kcat[i])+0.03, np.mean(EC_kcat_pred[i])-0.01), fontsize=17, c='red', weight = \"bold\")\n",
    "    \n",
    "\n",
    "# ticks2 = [0.2, 0.6,1,1.4,1.8]\n",
    "# labs = ticks2\n",
    "# ax.set_xticks(ticks2)\n",
    "# ax.set_xticklabels(labs,  y= -0.03, fontsize=26)\n",
    "# ax.tick_params(axis='x', length=0, rotation = 0)\n",
    "\n",
    "# ax.set_yticks(ticks2)\n",
    "# ax.set_yticklabels(labs,  y= -0.03, fontsize=26)\n",
    "# ax.tick_params(axis='y', length=0, rotation = 0)\n",
    "\n",
    "# plt.ylim((0,2))\n",
    "# plt.xlim((0, 2))\n",
    "# plt.legend(loc = \"upper left\", fontsize=20)\n",
    "# plt.xlabel('mean measured \\n $k_{cat}$ value on $\\log_{10}$-scale')\n",
    "# plt.ylabel('mean predicted \\n $k_{cat}$ value on $\\log_{10}$-scale')\n",
    "# ax.yaxis.set_label_coords(-0.15, 0.5)\n",
    "# ax.xaxis.set_label_coords(0.5,-0.13)\n",
    "\n",
    "# plt.plot([0,2], [0,2], color='grey', alpha = 0.3, linestyle='dashed')\n",
    "# plt.savefig(join(\"..\", \"..\", \"data\", \"EC_classes_mean_kcat.png\"))\n",
    "# plt.show()"
   ]
  },
  {
   "cell_type": "code",
   "execution_count": 57,
   "metadata": {},
   "outputs": [],
   "source": [
    "# import scipy\n",
    "\n",
    "# train_fps = [data_combined[\"difference_fp\"][ind][:3276].reshape(1,-1).astype(int) for ind in data_combined.index]\n",
    "# test_fps = [data_val[\"difference_fp\"][ind][:3276].reshape(1,-1).astype(int) for ind in data_val.index]\n",
    "\n",
    "# max_sim = []\n",
    "\n",
    "# for fp in test_fps:\n",
    "#     jaccard_sim = np.array([1 - scipy.spatial.distance.cdist(fp,train_fp, metric='jaccard')[0][0] for train_fp in train_fps])\n",
    "#     max_sim.append(np.max(jaccard_sim))\n",
    "    \n",
    "# data_val[\"reaction_sim\"] = max_sim\n",
    "\n",
    "# data_val[\"reaction_sim\"]= (data_val[\"reaction_sim\"] - np.min(data_val[\"reaction_sim\"]))\n",
    "# data_val[\"reaction_sim\"] = data_val[\"reaction_sim\"]/np.max(data_val[\"reaction_sim\"])"
   ]
  },
  {
   "cell_type": "code",
   "execution_count": 58,
   "metadata": {},
   "outputs": [],
   "source": [
    "# train_fps = [np.array(list(data_combined[\"MACCS FP\"][ind])).reshape(1,-1) for ind in data_combined.index]\n",
    "# test_fps = [np.array(list(data_val[\"MACCS FP\"][ind])).reshape(1,-1) for ind in data_val.index]\n",
    "\n",
    "# max_sim = []\n",
    "\n",
    "# for fp in test_fps:\n",
    "#     jaccard_sim = np.array([1 - scipy.spatial.distance.cdist(fp,train_fp, metric='jaccard')[0][0] for train_fp in train_fps])\n",
    "#     max_sim.append(np.max(jaccard_sim))\n",
    "    \n",
    "# data_val[\"substrate_sim\"] = max_sim\n",
    "\n",
    "# data_val[\"substrate_sim\"]= (data_val[\"substrate_sim\"] - np.min(data_val[\"substrate_sim\"]))\n",
    "# data_val[\"substrate_sim\"] = data_val[\"substrate_sim\"]/np.max(data_val[\"substrate_sim\"])"
   ]
  },
  {
   "cell_type": "code",
   "execution_count": 59,
   "metadata": {},
   "outputs": [],
   "source": [
    "# data_val[\"global_sim\"] = (data_val[\"max_identity\"]/100)*data_val[\"reaction_sim\"]*data_val[\"substrate_sim\"]"
   ]
  },
  {
   "cell_type": "code",
   "execution_count": 60,
   "metadata": {},
   "outputs": [],
   "source": [
    "# data_val.describe()"
   ]
  },
  {
   "cell_type": "code",
   "execution_count": 61,
   "metadata": {},
   "outputs": [],
   "source": [
    "# import matplotlib.pyplot as plt\n",
    "# import math\n",
    "# import scipy as sci\n",
    "# help_df = data_val\n",
    "\n",
    "# sim_bins_lb = [0.0, 0.4, 0.8]\n",
    "# sim_bins_ub = [0.4, 0.8, 1]\n",
    "# r2_scores, n_points, pearson_r, rmse = [], [], [], []\n",
    "# for i in range(len(sim_bins_lb)):\n",
    "#     help_df2 = help_df.loc[help_df[\"global_sim\"] <= sim_bins_ub[i]].loc[help_df[\"global_sim\"] >= sim_bins_lb[i]]\n",
    "#     pred = np.array([10**x for x in help_df2[\"log10_kcat\"]])\n",
    "#     true = np.array([10**x for x in help_df2[\"Estimate kcat\"]])\n",
    "#     r2_scores.append(sk.r2_score(true, pred))\n",
    "#     pearson_r.append(sci.stats.pearsonr(true, pred)[0])\n",
    "#     rmse.append(math.sqrt(np.mean(abs(true - pred)**2)))\n",
    "#     n_points.append(len(pred))\n",
    "#     print(\"%s - %s\" % (sim_bins_lb[i], sim_bins_ub[i]), r2_scores[-1], pearson_r[-1], rmse[-1], len(pred))\n",
    "    \n",
    "\n",
    "# plt.rcParams.update({'font.size': 24})\n",
    "\n",
    "# fig, ax = plt.subplots(figsize= (8,6))\n",
    "\n",
    "# for i in range(len(sim_bins_lb)):    \n",
    "#     plt.scatter(i, rmse[i], c='navy', marker=\"o\", linewidths= 8)\n",
    "#     ax.annotate(n_points[i], (i-0.08, rmse[i]+0.05), fontsize=17, c= \"black\", weight = \"bold\")\n",
    "\n",
    "    \n",
    "# plt.xlabel('Reaction similarity score')\n",
    "# plt.ylabel('RMSE')\n",
    "# ax.yaxis.set_label_coords(-0.2, 0.5)\n",
    "# ax.xaxis.set_label_coords(0.5,-0.23)\n",
    "\n",
    "# ticks2 = np.array(range(len(sim_bins_lb)))\n",
    "# labs = [\"%s - %s\" % (sim_bins_lb[i], sim_bins_ub[i]) for i in range(len(sim_bins_lb))]\n",
    "# ax.set_xticks(ticks2)\n",
    "# ax.set_xticklabels(labs,  y= -0.03, fontsize=20)\n",
    "# ax.tick_params(axis='x', length=0, rotation = 0)\n",
    "\n",
    "# # plt.ylim((0.5,2))\n",
    "# #plt.xlim((-0.5, 3.2))\n",
    "\n",
    "# # plt.plot([-0.49, 4], [0,0], color='grey', linestyle='dashed')\n",
    "# #plt.savefig(join(\"..\",\"..\", \"data\", \"figures\", \"Reaction_Similarity_Score.eps\"))\n",
    "# plt.show()"
   ]
  },
  {
   "cell_type": "markdown",
   "metadata": {},
   "source": [
    "## 4. Training a model with enzyme information (ESM-2) + Temperature + pH:"
   ]
  },
  {
   "cell_type": "markdown",
   "metadata": {},
   "source": [
    "#### (a) Creating input matrices:"
   ]
  },
  {
   "cell_type": "code",
   "execution_count": 62,
   "metadata": {},
   "outputs": [],
   "source": [
    "train_X = np.array(list(data_train[\"ESM2\"]))\n",
    "train_X = np.concatenate([train_X, np.array(list(data_train[\"Temperature\"]))[:, np.newaxis], np.array(list(data_train[\"pH\"]))[:, np.newaxis]], axis = 1)\n",
    "train_Y = np.array(list(data_train[\"log10_kcat\"]))\n",
    "\n",
    "test_X = np.array(list(data_test[\"ESM2\"]))\n",
    "test_X = np.concatenate([test_X, np.array(list(data_test[\"Temperature\"]))[:, np.newaxis], np.array(list(data_test[\"pH\"]))[:, np.newaxis]], axis = 1)\n",
    "test_Y = np.array(list(data_test[\"log10_kcat\"]))\n",
    "\n",
    "train_X = train_X.astype(float)\n",
    "test_X = test_X.astype(float)"
   ]
  },
  {
   "cell_type": "markdown",
   "metadata": {},
   "source": [
    "#### (b) Hyperparameter optimization:"
   ]
  },
  {
   "cell_type": "code",
   "execution_count": 63,
   "metadata": {},
   "outputs": [],
   "source": [
    "# def cross_validation_mse_gradient_boosting(param):\n",
    "#     num_round = param[\"num_rounds\"]\n",
    "#     del param[\"num_rounds\"]\n",
    "#     param[\"max_depth\"] = int(np.round(param[\"max_depth\"]))\n",
    "#     # param[\"device\"] = \"cuda\"\n",
    "#     param[\"tree_method\"] = \"hist\"\n",
    "#     param[\"sampling_method\"] = \"gradient_based\"\n",
    "    \n",
    "#     MSE = []\n",
    "#     R2 = []\n",
    "#     for i in range(5):\n",
    "#         train_index, test_index  = train_indices[i], test_indices[i]\n",
    "#         dtrain = xgb.DMatrix(train_X[train_index], label = train_Y[train_index])\n",
    "#         dvalid = xgb.DMatrix(train_X[test_index])\n",
    "#         bst = xgb.train(param, dtrain, int(num_round), verbose_eval=False)\n",
    "#         y_valid_pred = bst.predict(dvalid)\n",
    "#         MSE.append(np.mean(abs(np.reshape(train_Y[test_index], (-1)) - y_valid_pred)**2))\n",
    "#         R2.append(r2_score(np.reshape(train_Y[test_index], (-1)),  y_valid_pred))\n",
    "#     return(-np.mean(R2))\n",
    "\n",
    "\n",
    "# space_gradient_boosting = {\n",
    "#     \"learning_rate\": hp.choice(\"learning_rate\", np.linspace(0.01, 0.1, 10)),\n",
    "#     \"max_depth\": hp.choice(\"max_depth\", np.linspace(3,10,8)),\n",
    "#     #\"subsample\": hp.quniform(\"subsample\", 0.5, 1),\n",
    "#     \"reg_lambda\": hp.choice(\"reg_lambda\", np.linspace(0, 1, 11)),\n",
    "#     \"reg_alpha\": hp.choice(\"reg_alpha\", np.linspace(0, 1, 11)),\n",
    "#     \"max_delta_step\": hp.choice(\"max_delta_step\", np.linspace(1, 5, 5)),\n",
    "#     \"min_child_weight\": hp.choice(\"min_child_weight\", np.linspace(1, 6, 6)),\n",
    "#     \"num_rounds\":  hp.choice(\"num_rounds\", np.linspace(50, 200, 4))}\n",
    "\n",
    "\n",
    "# trials = Trials()\n",
    "# best = fmin(fn = cross_validation_mse_gradient_boosting, space = space_gradient_boosting,\n",
    "#             algo=rand.suggest, max_evals = 10, trials=trials)"
   ]
  },
  {
   "cell_type": "code",
   "execution_count": 64,
   "metadata": {},
   "outputs": [],
   "source": [
    "# print(best)"
   ]
  },
  {
   "cell_type": "code",
   "execution_count": 65,
   "metadata": {},
   "outputs": [],
   "source": [
    "if split == \"full\":\n",
    "    param = {\"random_state\": 42, 'learning_rate': 0.09, 'max_delta_step': 1, 'max_depth': 3, 'min_child_weight': 2, 'num_rounds': 200, 'reg_alpha': 0.6, 'reg_lambda': 0.6}\n",
    "elif split == \"Arabidopsis\":\n",
    "    param = {\"random_state\": 42, 'learning_rate': 0.03, 'max_delta_step': 2, 'max_depth': 5, 'min_child_weight': 1, 'num_rounds': 100, 'reg_alpha': 0.5, 'reg_lambda': 0.4}\n",
    "elif split == \"Brassicaceae\":\n",
    "    param = {\"random_state\": 42, 'learning_rate': 0.05, 'max_delta_step': 5, 'max_depth': 3, 'min_child_weight': 1, 'num_rounds': 100, 'reg_alpha': 0.3, 'reg_lambda': 0.3}\n",
    "elif split == \"wildtype\":\n",
    "    param = {\"random_state\": 42, 'learning_rate': 0.06, 'max_delta_step': 4, 'max_depth': 5, 'min_child_weight': 1, 'num_rounds': 200, 'reg_alpha': 0.5, 'reg_lambda': 0.9}\n",
    "else:\n",
    "    param = {\"random_state\": 42, 'learning_rate': 0.08, 'max_delta_step': 1, 'max_depth': 5, 'min_child_weight': 4, 'num_rounds': 100, 'reg_alpha': 0.6, 'reg_lambda': 0.6}"
   ]
  },
  {
   "cell_type": "markdown",
   "metadata": {},
   "source": [
    "#### (c) Training and validating model:"
   ]
  },
  {
   "cell_type": "code",
   "execution_count": 66,
   "metadata": {},
   "outputs": [],
   "source": [
    "num_round = param[\"num_rounds\"]\n",
    "param[\"max_depth\"] = int(np.round(param[\"max_depth\"]))\n",
    "\n",
    "del param[\"num_rounds\"]"
   ]
  },
  {
   "cell_type": "code",
   "execution_count": 67,
   "metadata": {},
   "outputs": [
    {
     "name": "stdout",
     "output_type": "stream",
     "text": [
      "[-0.017364883620061, 0.42501927640667747, 0.19196702936039736, 0.7103786069919364, 0.7005957662938144]\n",
      "[107.93237909494646, 3.3222483030806895, 8.88198899986026, 32.54466754613257, 51.997853100999016]\n",
      "[-0.05788970199202237, 0.15663348367847996, -0.0004498418612737254, 0.2811030811451243, 0.2217246539079124]\n",
      "[27.454350031792238, 2.386411237670247, 6.6072074226934605, 9.360110946019429, 13.38744188220957]\n",
      "[2.0350544136591324, 1.4791762187363218, 4.938123990411306, 0.058228001256824875, 1.7841047158716599]\n"
     ]
    }
   ],
   "source": [
    "R2 = []\n",
    "MSE = []\n",
    "Pearson = []\n",
    "MAE = []\n",
    "MedAE = []\n",
    "\n",
    "for i in range(5):\n",
    "    train_index, test_index  = train_indices[i], test_indices[i]\n",
    "    dtrain = xgb.DMatrix(train_X[train_index], label = train_Y[train_index])\n",
    "    dvalid = xgb.DMatrix(train_X[test_index])\n",
    "    \n",
    "    bst = xgb.train(param, dtrain, int(num_round), verbose_eval=False)\n",
    "    \n",
    "    y_valid_pred = bst.predict(dvalid)\n",
    "    MSE.append(np.sqrt(np.mean(abs(np.array([10**x for x in np.reshape(train_Y[test_index], (-1))]) - np.array([10**x for x in y_valid_pred]))**2)))\n",
    "    R2.append(r2_score([10**x for x in np.reshape(train_Y[test_index], (-1))], [10**x for x in y_valid_pred]))\n",
    "    Pearson.append(stats.pearsonr([10**x for x in np.reshape(train_Y[test_index], (-1))], [10**x for x in y_valid_pred])[0])\n",
    "    MAE.append(np.mean(abs(np.array([10**x for x in train_Y[test_index]]) - np.array([10**x for x in y_valid_pred]))))\n",
    "    MedAE.append(np.median(abs(np.array([10**x for x in train_Y[test_index]]) - np.array([10**x for x in y_valid_pred]))))\n",
    "\n",
    "    # MSE.append(np.mean(abs(np.reshape(train_Y[test_index], (-1)) - y_valid_pred)**2))\n",
    "    # R2.append(r2_score(np.reshape(train_Y[test_index], (-1)), y_valid_pred))\n",
    "    # Pearson.append(stats.pearsonr(np.reshape(train_Y[test_index], (-1)), y_valid_pred)[0])\n",
    "\n",
    "print(Pearson)\n",
    "print(MSE)\n",
    "print(R2)\n",
    "print(MAE)\n",
    "print(MedAE)\n",
    "\n",
    "np.save(join(\"..\", \"..\", \"data\", \"Pearson_CV_xgboost_EMS2.npy\"), np.array(Pearson))\n",
    "np.save(join(\"..\", \"..\", \"data\", \"MSE_CV_xgboost_EMS2.npy\"), np.array(MSE))\n",
    "np.save(join(\"..\", \"..\", \"data\", \"R2_CV_xgboost_EMS2.npy\"), np.array(R2))"
   ]
  },
  {
   "cell_type": "code",
   "execution_count": 68,
   "metadata": {},
   "outputs": [
    {
     "name": "stdout",
     "output_type": "stream",
     "text": [
      "0.161 8.0063217023 -0.178 4.1605399766 1.2373718834\n"
     ]
    }
   ],
   "source": [
    "dtrain = xgb.DMatrix(train_X, label = train_Y)\n",
    "dtest = xgb.DMatrix(test_X, label = test_Y)\n",
    "\n",
    "bst = xgb.train(param, dtrain, int(num_round), verbose_eval=False)\n",
    "\n",
    "y_test_pred = bst.predict(dtest)\n",
    "\n",
    "data_test[\"Estimate kcat\"] = y_test_pred\n",
    "\n",
    "MSE_dif_fp_test = np.sqrt(np.mean(abs(np.array([10**x for x in test_Y]) - np.array([10**x for x in y_test_pred]))**2))\n",
    "R2_dif_fp_test = r2_score(np.array([10**x for x in test_Y]), np.array([10**x for x in y_test_pred]))\n",
    "Pearson = stats.pearsonr(np.array([10**x for x in test_Y]), np.array([10**x for x in y_test_pred]))\n",
    "MAE = np.mean(abs(np.array([10**x for x in test_Y]) - np.array([10**x for x in y_test_pred])))\n",
    "MedAE = np.median(abs(np.array([10**x for x in test_Y]) - np.array([10**x for x in y_test_pred])))\n",
    "\n",
    "# MSE_dif_fp_test = np.mean(abs(np.reshape(test_Y, (-1)) - y_test_pred)**2)\n",
    "# R2_dif_fp_test = r2_score(np.reshape(test_Y, (-1)), y_test_pred)\n",
    "# Pearson = stats.pearsonr(np.reshape(test_Y, (-1)), y_test_pred)\n",
    "# MAE = np.mean(abs(np.reshape(test_Y, (-1)) - y_test_pred))\n",
    "\n",
    "print(np.round(Pearson[0],3) , np.round(MSE_dif_fp_test, 10), np.round(R2_dif_fp_test,3), np.round(MAE, 10), np.round(MedAE, 10))\n",
    "\n",
    "\n",
    "np.save(join(\"..\", \"..\", \"data\", \"y_test_pred_xgboost_EMS2.npy\"), bst.predict(dtest))\n",
    "np.save(join(\"..\", \"..\", \"data\",  \"y_test_true_xgboost_EMS2.npy\"), test_Y)"
   ]
  },
  {
   "cell_type": "code",
   "execution_count": 69,
   "metadata": {},
   "outputs": [],
   "source": [
    "y_test_pred_esm1b_ts_drfp = y_test_pred\n",
    "# data_test[\"Estimate kcat\"] = [10**x for x in data_test[\"Estimate kcat\"]]\n",
    "# filtered_df = data_test[data_test['Uniprot IDs'].apply(lambda x: \"Q9LE06\" in x)]\n",
    "# filtered_df"
   ]
  },
  {
   "cell_type": "markdown",
   "metadata": {},
   "source": [
    "#### (d) Training model with test and train data for production mode:"
   ]
  },
  {
   "cell_type": "code",
   "execution_count": 70,
   "metadata": {},
   "outputs": [],
   "source": [
    "train_X = np.array(list(data_train[\"ESM2\"]))\n",
    "train_X = np.concatenate([train_X, np.array(list(data_train[\"Temperature\"]))[:, np.newaxis], np.array(list(data_train[\"pH\"]))[:, np.newaxis]], axis = 1)\n",
    "train_Y = np.array(list(data_train[\"log10_kcat\"]))\n",
    "\n",
    "test_X = np.array(list(data_test[\"ESM2\"]))\n",
    "test_X = np.concatenate([test_X, np.array(list(data_test[\"Temperature\"]))[:, np.newaxis], np.array(list(data_test[\"pH\"]))[:, np.newaxis]], axis = 1)\n",
    "test_Y = np.array(list(data_test[\"log10_kcat\"]))\n",
    "\n",
    "train_X = np.concatenate([train_X, test_X])\n",
    "train_Y = np.concatenate([train_Y, test_Y])\n",
    "\n",
    "train_X = train_X.astype(float)\n",
    "test_X = test_X.astype(float)"
   ]
  },
  {
   "cell_type": "code",
   "execution_count": 71,
   "metadata": {},
   "outputs": [
    {
     "name": "stdout",
     "output_type": "stream",
     "text": [
      "(0.8629129476709316, 4.020489233895027e-13) 3.9394831555978342 0.7148995816328725\n"
     ]
    }
   ],
   "source": [
    "dtrain = xgb.DMatrix(train_X, label = train_Y)\n",
    "dtest = xgb.DMatrix(test_X)\n",
    "\n",
    "bst = xgb.train(param, dtrain, int(num_round), verbose_eval=False)\n",
    "\n",
    "y_test_pred = bst.predict(dtest)\n",
    "\n",
    "MSE_dif_fp_test = np.sqrt(np.mean(abs(np.array([10**x for x in np.reshape(test_Y, (-1))]) - np.array([10**x for x in y_test_pred]))**2))\n",
    "R2_dif_fp_test = r2_score(np.array([10**x for x in np.reshape(test_Y, (-1))]), np.array([10**x for x in y_test_pred]))\n",
    "Pearson = stats.pearsonr(np.array([10**x for x in np.reshape(test_Y, (-1))]), np.array([10**x for x in y_test_pred]))\n",
    "\n",
    "# MSE_dif_fp_test = np.mean(abs(np.reshape(test_Y, (-1)) - y_test_pred)**2)\n",
    "# R2_dif_fp_test = r2_score(np.reshape(test_Y, (-1)), y_test_pred)\n",
    "# Pearson = stats.pearsonr(np.reshape(test_Y, (-1)), y_test_pred)\n",
    "\n",
    "print(Pearson, MSE_dif_fp_test, R2_dif_fp_test)\n",
    "\n",
    "pickle.dump(bst, open(join(\"..\", \"..\", \"data\", \"saved_models\",\n",
    "                          \"xgboost_train_and_test.pkl\"), \"wb\"))"
   ]
  },
  {
   "cell_type": "code",
   "execution_count": 72,
   "metadata": {},
   "outputs": [
    {
     "name": "stdout",
     "output_type": "stream",
     "text": [
      "1280\n",
      "167\n",
      "f0: 26.0\n",
      "f1: 7.0\n",
      "f2: 9.0\n",
      "f3: 4.0\n",
      "f4: 3.0\n",
      "f5: 7.0\n",
      "f6: 5.0\n",
      "f7: 15.0\n",
      "f8: 4.0\n",
      "f9: 3.0\n",
      "f10: 4.0\n",
      "f11: 1.0\n",
      "f12: 3.0\n",
      "f13: 2.0\n",
      "f14: 6.0\n",
      "f15: 2.0\n",
      "f16: 3.0\n",
      "f17: 1.0\n",
      "f18: 5.0\n",
      "f19: 11.0\n",
      "f20: 12.0\n",
      "f21: 5.0\n",
      "f23: 3.0\n",
      "f24: 1.0\n",
      "f25: 1.0\n",
      "f27: 1.0\n",
      "f30: 5.0\n",
      "f31: 5.0\n",
      "f32: 1.0\n",
      "f37: 3.0\n",
      "f39: 2.0\n",
      "f41: 1.0\n",
      "f44: 3.0\n",
      "f45: 1.0\n",
      "f54: 2.0\n",
      "f55: 1.0\n",
      "f62: 1.0\n",
      "f65: 2.0\n",
      "f69: 2.0\n",
      "f70: 7.0\n",
      "f71: 3.0\n",
      "f74: 1.0\n",
      "f75: 5.0\n",
      "f78: 3.0\n",
      "f83: 2.0\n",
      "f90: 1.0\n",
      "f92: 5.0\n",
      "f93: 3.0\n",
      "f98: 4.0\n",
      "f99: 2.0\n",
      "f104: 2.0\n",
      "f105: 11.0\n",
      "f107: 5.0\n",
      "f109: 1.0\n",
      "f111: 1.0\n",
      "f114: 1.0\n",
      "f121: 3.0\n",
      "f122: 1.0\n",
      "f125: 1.0\n",
      "f127: 1.0\n",
      "f131: 5.0\n",
      "f132: 8.0\n",
      "f136: 1.0\n",
      "f137: 1.0\n",
      "f138: 1.0\n",
      "f142: 1.0\n",
      "f144: 2.0\n",
      "f152: 3.0\n",
      "f153: 2.0\n",
      "f154: 3.0\n",
      "f163: 2.0\n",
      "f167: 4.0\n",
      "f170: 6.0\n",
      "f177: 5.0\n",
      "f179: 8.0\n",
      "f181: 3.0\n",
      "f182: 1.0\n",
      "f184: 2.0\n",
      "f186: 1.0\n",
      "f189: 1.0\n",
      "f195: 2.0\n",
      "f199: 1.0\n",
      "f204: 1.0\n",
      "f210: 1.0\n",
      "f212: 2.0\n",
      "f220: 3.0\n",
      "f224: 2.0\n",
      "f233: 1.0\n",
      "f235: 4.0\n",
      "f236: 1.0\n",
      "f237: 1.0\n",
      "f242: 23.0\n",
      "f243: 2.0\n",
      "f251: 1.0\n",
      "f254: 1.0\n",
      "f256: 1.0\n",
      "f259: 2.0\n",
      "f270: 4.0\n",
      "f275: 2.0\n",
      "f276: 5.0\n",
      "f278: 2.0\n",
      "f290: 1.0\n",
      "f294: 5.0\n",
      "f301: 2.0\n",
      "f302: 1.0\n",
      "f309: 5.0\n",
      "f312: 5.0\n",
      "f313: 1.0\n",
      "f316: 1.0\n",
      "f322: 6.0\n",
      "f323: 1.0\n",
      "f333: 2.0\n",
      "f335: 2.0\n",
      "f339: 6.0\n",
      "f340: 1.0\n",
      "f342: 1.0\n",
      "f344: 1.0\n",
      "f350: 5.0\n",
      "f352: 1.0\n",
      "f354: 1.0\n",
      "f356: 1.0\n",
      "f358: 11.0\n",
      "f366: 1.0\n",
      "f373: 1.0\n",
      "f374: 1.0\n",
      "f375: 1.0\n",
      "f376: 5.0\n",
      "f378: 12.0\n",
      "f382: 1.0\n",
      "f384: 2.0\n",
      "f402: 1.0\n",
      "f404: 1.0\n",
      "f408: 1.0\n",
      "f409: 1.0\n",
      "f410: 2.0\n",
      "f415: 5.0\n",
      "f423: 2.0\n",
      "f424: 1.0\n",
      "f428: 1.0\n",
      "f430: 1.0\n",
      "f437: 3.0\n",
      "f438: 1.0\n",
      "f445: 9.0\n",
      "f447: 1.0\n",
      "f448: 1.0\n",
      "f450: 1.0\n",
      "f469: 1.0\n",
      "f478: 1.0\n",
      "f484: 4.0\n",
      "f489: 2.0\n",
      "f490: 2.0\n",
      "f494: 1.0\n",
      "f497: 1.0\n",
      "f502: 5.0\n",
      "f512: 4.0\n",
      "f514: 7.0\n",
      "f516: 4.0\n",
      "f519: 3.0\n",
      "f523: 2.0\n",
      "f524: 4.0\n",
      "f536: 2.0\n",
      "f537: 1.0\n",
      "f540: 3.0\n",
      "f543: 4.0\n",
      "f545: 3.0\n",
      "f552: 1.0\n",
      "f553: 4.0\n",
      "f559: 1.0\n",
      "f562: 1.0\n",
      "f573: 2.0\n",
      "f574: 6.0\n",
      "f577: 1.0\n",
      "f584: 1.0\n",
      "f597: 10.0\n",
      "f602: 2.0\n",
      "f607: 2.0\n",
      "f609: 1.0\n",
      "f611: 5.0\n",
      "f613: 4.0\n",
      "f615: 2.0\n",
      "f623: 2.0\n",
      "f630: 4.0\n",
      "f633: 5.0\n",
      "f635: 5.0\n",
      "f658: 1.0\n",
      "f663: 1.0\n",
      "f666: 5.0\n",
      "f671: 4.0\n",
      "f672: 1.0\n",
      "f674: 2.0\n",
      "f679: 1.0\n",
      "f695: 1.0\n",
      "f701: 3.0\n",
      "f706: 4.0\n",
      "f712: 1.0\n",
      "f713: 5.0\n",
      "f714: 3.0\n",
      "f720: 2.0\n",
      "f726: 2.0\n",
      "f728: 1.0\n",
      "f739: 3.0\n",
      "f742: 1.0\n",
      "f745: 4.0\n",
      "f747: 6.0\n",
      "f748: 1.0\n",
      "f749: 2.0\n",
      "f750: 3.0\n",
      "f752: 1.0\n",
      "f765: 3.0\n",
      "f769: 5.0\n",
      "f770: 2.0\n",
      "f776: 1.0\n",
      "f781: 4.0\n",
      "f785: 2.0\n",
      "f788: 2.0\n",
      "f792: 2.0\n",
      "f793: 1.0\n",
      "f798: 4.0\n",
      "f802: 2.0\n",
      "f803: 3.0\n",
      "f805: 9.0\n",
      "f806: 1.0\n",
      "f809: 1.0\n",
      "f812: 1.0\n",
      "f813: 3.0\n",
      "f817: 1.0\n",
      "f818: 3.0\n",
      "f829: 3.0\n",
      "f834: 5.0\n",
      "f835: 1.0\n",
      "f837: 1.0\n",
      "f843: 5.0\n",
      "f845: 4.0\n",
      "f846: 1.0\n",
      "f847: 5.0\n",
      "f863: 3.0\n",
      "f866: 1.0\n",
      "f869: 1.0\n",
      "f872: 3.0\n",
      "f874: 1.0\n",
      "f878: 2.0\n",
      "f887: 4.0\n",
      "f891: 1.0\n",
      "f892: 1.0\n",
      "f903: 4.0\n",
      "f906: 1.0\n",
      "f926: 5.0\n",
      "f933: 1.0\n",
      "f934: 1.0\n",
      "f941: 1.0\n",
      "f942: 2.0\n",
      "f944: 2.0\n",
      "f948: 1.0\n",
      "f959: 1.0\n",
      "f961: 6.0\n",
      "f963: 1.0\n",
      "f975: 1.0\n",
      "f978: 5.0\n",
      "f991: 1.0\n",
      "f1002: 3.0\n",
      "f1012: 2.0\n",
      "f1016: 4.0\n",
      "f1025: 8.0\n",
      "f1030: 1.0\n",
      "f1043: 2.0\n",
      "f1048: 1.0\n",
      "f1053: 6.0\n",
      "f1056: 1.0\n",
      "f1058: 1.0\n",
      "f1063: 1.0\n",
      "f1066: 5.0\n",
      "f1069: 1.0\n",
      "f1073: 9.0\n",
      "f1080: 1.0\n",
      "f1084: 1.0\n",
      "f1097: 1.0\n",
      "f1105: 3.0\n",
      "f1106: 1.0\n",
      "f1112: 2.0\n",
      "f1113: 1.0\n",
      "f1114: 2.0\n",
      "f1117: 1.0\n",
      "f1127: 2.0\n",
      "f1130: 6.0\n",
      "f1139: 3.0\n",
      "f1153: 2.0\n",
      "f1154: 2.0\n",
      "f1165: 1.0\n",
      "f1169: 2.0\n",
      "f1170: 4.0\n",
      "f1177: 8.0\n",
      "f1180: 3.0\n",
      "f1184: 6.0\n",
      "f1187: 1.0\n",
      "f1193: 1.0\n",
      "f1199: 3.0\n",
      "f1221: 1.0\n",
      "f1228: 1.0\n",
      "f1234: 1.0\n",
      "f1248: 1.0\n",
      "f1260: 1.0\n",
      "f1262: 1.0\n",
      "f1263: 16.0\n",
      "f1265: 3.0\n",
      "f1281: 133.0\n"
     ]
    }
   ],
   "source": [
    "importances = bst.get_score()\n",
    "print(len(data_train[\"ESM2\"][1]))\n",
    "print(len(data_train[\"MACCS FP\"][1]))\n",
    "for key, value in importances.items():\n",
    "    print(f\"{key}: {value}\")"
   ]
  },
  {
   "cell_type": "markdown",
   "metadata": {},
   "source": [
    "#### (e) Validating model:"
   ]
  },
  {
   "cell_type": "code",
   "execution_count": 73,
   "metadata": {},
   "outputs": [
    {
     "name": "stdout",
     "output_type": "stream",
     "text": [
      "(-0.3084717773607397, 0.5008775257058903) 5.05046239132191 -0.3815692552294503 3.9406524724691283 3.9406524724691283\n"
     ]
    }
   ],
   "source": [
    "val_X = np.array(list(data_val[\"ESM2\"]))\n",
    "val_X = np.concatenate([val_X, np.array(list(data_val[\"Temperature\"]))[:, np.newaxis], np.array(list(data_val[\"pH\"]))[:, np.newaxis]], axis = 1)\n",
    "val_Y = np.array(list(data_val[\"log10_kcat\"]))\n",
    "\n",
    "val_X = val_X.astype(float)\n",
    "\n",
    "dval = xgb.DMatrix(val_X)\n",
    "\n",
    "y_val_pred = bst.predict(dval)\n",
    "data_val[\"Estimate kcat\"] = y_val_pred\n",
    "\n",
    "MSE_dif_fp_val = np.sqrt(np.mean(abs(np.array([10**x for x in np.reshape(val_Y, (-1))]) - np.array([10**x for x in y_val_pred]))**2))\n",
    "R2_dif_fp_val = r2_score(np.array([10**x for x in np.reshape(val_Y, (-1))]), np.array([10**x for x in y_val_pred]))\n",
    "Pearson = stats.pearsonr(np.array([10**x for x in np.reshape(val_Y, (-1))]), np.array([10**x for x in y_val_pred]))\n",
    "MAE = np.mean(abs(np.array([10**x for x in val_Y]) - np.array([10**x for x in y_val_pred])))\n",
    "MedAE = np.mean(abs(np.array([10**x for x in val_Y]) - np.array([10**x for x in y_val_pred])))\n",
    "\n",
    "# MSE_dif_fp_test = np.mean(abs(np.reshape(test_Y, (-1)) - y_test_pred)**2)\n",
    "# R2_dif_fp_test = r2_score(np.reshape(test_Y, (-1)), y_test_pred)\n",
    "# Pearson = stats.pearsonr(np.reshape(test_Y, (-1)), y_test_pred)\n",
    "\n",
    "print(Pearson, MSE_dif_fp_val, R2_dif_fp_val, MAE, MedAE)"
   ]
  },
  {
   "cell_type": "code",
   "execution_count": 74,
   "metadata": {},
   "outputs": [
    {
     "data": {
      "image/png": "[encoded data removed]",
      "text/plain": [
       "<Figure size 640x480 with 1 Axes>"
      ]
     },
     "metadata": {},
     "output_type": "display_data"
    }
   ],
   "source": [
    "import matplotlib.pyplot as plt\n",
    "import matplotlib.colors as colors\n",
    "import matplotlib.cm as cmx\n",
    "\n",
    "plt.scatter(val_Y,y_val_pred,c='green', edgecolors='black',s=40)\n",
    "    \n",
    "plt.xlim(-2,2)\n",
    "plt.ylim(-2,2)\n",
    "plt.xticks(fontsize=14)\n",
    "plt.yticks(fontsize=14)\n",
    "plt.xlabel('Real value (log10)', fontsize=15)\n",
    "plt.ylabel('Estimated value (log10)', fontsize=15)\n",
    "plt.title('Predictions for kcat', fontsize=15)\n",
    "plt.axline((1, 1), slope=1, c='red')\n",
    "plt.show()"
   ]
  },
  {
   "cell_type": "markdown",
   "metadata": {},
   "source": [
    "## 5. Training a model with main substrate information (MACCS) + Temperature + pH:"
   ]
  },
  {
   "cell_type": "markdown",
   "metadata": {},
   "source": [
    "#### (a) Creating input matrices:"
   ]
  },
  {
   "cell_type": "code",
   "execution_count": 75,
   "metadata": {},
   "outputs": [],
   "source": [
    "train_X = np.array(list(data_train['GNN FP']))\n",
    "train_X = np.concatenate([train_X, np.array(list(data_train[\"Temperature\"]))[:, np.newaxis], np.array(list(data_train[\"pH\"]))[:, np.newaxis]], axis = 1)\n",
    "train_Y = np.array(list(data_train[\"log10_kcat\"]))\n",
    "\n",
    "test_X = np.array(list(data_test['GNN FP']))\n",
    "test_X = np.concatenate([test_X, np.array(list(data_test[\"Temperature\"]))[:, np.newaxis], np.array(list(data_test[\"pH\"]))[:, np.newaxis]], axis = 1)\n",
    "test_Y = np.array(list(data_test[\"log10_kcat\"]))\n",
    "\n",
    "train_X = train_X.astype(float)\n",
    "test_X = test_X.astype(float)"
   ]
  },
  {
   "cell_type": "markdown",
   "metadata": {},
   "source": [
    "#### (b) Hyperparameter optimization:"
   ]
  },
  {
   "cell_type": "code",
   "execution_count": 76,
   "metadata": {},
   "outputs": [],
   "source": [
    "# def cross_validation_mse_gradient_boosting(param):\n",
    "#     num_round = param[\"num_rounds\"]\n",
    "#     del param[\"num_rounds\"]\n",
    "#     param[\"max_depth\"] = int(np.round(param[\"max_depth\"]))\n",
    "#     # param[\"device\"] = \"cuda\"\n",
    "#     param[\"tree_method\"] = \"hist\"\n",
    "#     param[\"sampling_method\"] = \"gradient_based\"\n",
    "    \n",
    "#     MSE = []\n",
    "#     R2 = []\n",
    "#     for i in range(5):\n",
    "#         train_index, test_index  = train_indices[i], test_indices[i]\n",
    "#         dtrain = xgb.DMatrix(train_X[train_index], label = train_Y[train_index])\n",
    "#         dvalid = xgb.DMatrix(train_X[test_index])\n",
    "#         bst = xgb.train(param, dtrain, int(num_round), verbose_eval=False)\n",
    "#         y_valid_pred = bst.predict(dvalid)\n",
    "#         MSE.append(np.mean(abs(np.reshape(train_Y[test_index], (-1)) - y_valid_pred)**2))\n",
    "#         R2.append(r2_score(np.reshape(train_Y[test_index], (-1)),  y_valid_pred))\n",
    "#     return(-np.mean(R2))\n",
    "\n",
    "\n",
    "# space_gradient_boosting = {\n",
    "#     \"learning_rate\": hp.choice(\"learning_rate\", np.linspace(0.01, 0.1, 10)),\n",
    "#     \"max_depth\": hp.choice(\"max_depth\", np.linspace(3,10,8)),\n",
    "#     #\"subsample\": hp.quniform(\"subsample\", 0.5, 1),\n",
    "#     \"reg_lambda\": hp.choice(\"reg_lambda\", np.linspace(0, 1, 11)),\n",
    "#     \"reg_alpha\": hp.choice(\"reg_alpha\", np.linspace(0, 1, 11)),\n",
    "#     \"max_delta_step\": hp.choice(\"max_delta_step\", np.linspace(1, 5, 5)),\n",
    "#     \"min_child_weight\": hp.choice(\"min_child_weight\", np.linspace(1, 6, 6)),\n",
    "#     \"num_rounds\":  hp.choice(\"num_rounds\", np.linspace(50, 200, 4))}\n",
    "\n",
    "\n",
    "# trials = Trials()\n",
    "# best = fmin(fn = cross_validation_mse_gradient_boosting, space = space_gradient_boosting,\n",
    "#             algo=rand.suggest, max_evals = 10, trials=trials)"
   ]
  },
  {
   "cell_type": "code",
   "execution_count": 77,
   "metadata": {},
   "outputs": [],
   "source": [
    "# print(best)"
   ]
  },
  {
   "cell_type": "code",
   "execution_count": 78,
   "metadata": {},
   "outputs": [],
   "source": [
    "if split == \"full\":\n",
    "    param = {\"random_state\": 42, 'learning_rate': 0.06, 'max_delta_step': 4, 'max_depth': 6, 'min_child_weight': 2, 'num_rounds': 100, 'reg_alpha': 0.9, 'reg_lambda': 0.8}\n",
    "elif split == \"Arabidopsis\":\n",
    "    param = {\"random_state\": 42, 'learning_rate': 0.02, 'max_delta_step': 1, 'max_depth': 9, 'min_child_weight': 6, 'num_rounds': 100, 'reg_alpha': 0.4, 'reg_lambda': 0.2}\n",
    "elif split == \"Brassicaceae\":\n",
    "    param = {\"random_state\": 42, 'learning_rate': 0.08, 'max_delta_step': 4, 'max_depth': 4, 'min_child_weight': 1, 'num_rounds': 100, 'reg_alpha': 0.7, 'reg_lambda': 0.8}\n",
    "elif split == \"wildtype\":\n",
    "    param = {\"random_state\": 42, 'learning_rate': 0.04, 'max_delta_step': 5, 'max_depth': 6, 'min_child_weight': 3, 'num_rounds': 50, 'reg_alpha': 0, 'reg_lambda': 0.6}\n",
    "else:\n",
    "    param = {\"random_state\": 42, 'learning_rate': 0.1, 'max_delta_step': 3, 'max_depth': 8, 'min_child_weight': 2, 'num_rounds': 50, 'reg_alpha': 0.1, 'reg_lambda': 0.8}"
   ]
  },
  {
   "cell_type": "markdown",
   "metadata": {},
   "source": [
    "#### (c) Training and validating model:"
   ]
  },
  {
   "cell_type": "code",
   "execution_count": 79,
   "metadata": {},
   "outputs": [],
   "source": [
    "num_round = param[\"num_rounds\"]\n",
    "param[\"max_depth\"] = int(np.round(param[\"max_depth\"]))\n",
    "\n",
    "del param[\"num_rounds\"]"
   ]
  },
  {
   "cell_type": "code",
   "execution_count": 80,
   "metadata": {},
   "outputs": [
    {
     "name": "stdout",
     "output_type": "stream",
     "text": [
      "[0.18893889668654473, 0.13731878874239506, 0.1735742549703926, 0.9950662974562307, 0.9966189265449883]\n",
      "[106.89563199488896, 5.427307014368679, 9.364338834462659, 22.5085017213516, 17.954672352704755]\n",
      "[-0.037664138675270964, -1.2507173420082367, -0.1120622466584913, 0.656125384612246, 0.9072065298124936]\n",
      "[26.40050838786471, 3.4530345123868815, 6.243340025463804, 5.915167617452517, 6.169583497755732]\n",
      "[1.102549976135132, 2.8082566742201047, 2.628940969153679, 0.5406062911879592, 2.044051424097024]\n"
     ]
    }
   ],
   "source": [
    "R2 = []\n",
    "MSE = []\n",
    "Pearson = []\n",
    "MAE = []\n",
    "MedAE = []\n",
    "\n",
    "for i in range(5):\n",
    "    train_index, test_index  = train_indices[i], test_indices[i]\n",
    "    dtrain = xgb.DMatrix(train_X[train_index], label = train_Y[train_index])\n",
    "    dvalid = xgb.DMatrix(train_X[test_index])\n",
    "    \n",
    "    bst = xgb.train(param, dtrain, int(num_round), verbose_eval=False)\n",
    "    \n",
    "    y_valid_pred = bst.predict(dvalid)\n",
    "    MSE.append(np.sqrt(np.mean(abs(np.array([10**x for x in np.reshape(train_Y[test_index], (-1))]) - np.array([10**x for x in y_valid_pred]))**2)))\n",
    "    R2.append(r2_score([10**x for x in np.reshape(train_Y[test_index], (-1))], [10**x for x in y_valid_pred]))\n",
    "    Pearson.append(stats.pearsonr([10**x for x in np.reshape(train_Y[test_index], (-1))], [10**x for x in y_valid_pred])[0])\n",
    "    MAE.append(np.mean(abs(np.array([10**x for x in train_Y[test_index]]) - np.array([10**x for x in y_valid_pred]))))\n",
    "    MedAE.append(np.median(abs(np.array([10**x for x in train_Y[test_index]]) - np.array([10**x for x in y_valid_pred]))))\n",
    "\n",
    "    # MSE.append(np.mean(abs(np.reshape(train_Y[test_index], (-1)) - y_valid_pred)**2))\n",
    "    # R2.append(r2_score(np.reshape(train_Y[test_index], (-1)), y_valid_pred))\n",
    "    # Pearson.append(stats.pearsonr(np.reshape(train_Y[test_index], (-1)), y_valid_pred)[0])\n",
    "\n",
    "print(Pearson)\n",
    "print(MSE)\n",
    "print(R2)\n",
    "print(MAE)\n",
    "print(MedAE)\n",
    "\n",
    "np.save(join(\"..\", \"..\", \"data\", \"Pearson_CV_xgboost_gnn_fp.npy\"), np.array(Pearson))\n",
    "np.save(join(\"..\", \"..\", \"data\", \"MSE_CV_xgboost_gnn_fp.npy\"), np.array(MSE))\n",
    "np.save(join(\"..\", \"..\", \"data\", \"R2_CV_xgboost_gnn_fp.npy\"), np.array(R2))"
   ]
  },
  {
   "cell_type": "code",
   "execution_count": 81,
   "metadata": {},
   "outputs": [
    {
     "name": "stdout",
     "output_type": "stream",
     "text": [
      "-0.032 8.1993334683 -0.235 4.3414290322 2.4237628991\n"
     ]
    }
   ],
   "source": [
    "dtrain = xgb.DMatrix(train_X, label = train_Y)\n",
    "dtest = xgb.DMatrix(test_X, label = test_Y)\n",
    "\n",
    "bst = xgb.train(param, dtrain, int(num_round), verbose_eval=False)\n",
    "\n",
    "y_test_pred = bst.predict(dtest)\n",
    "\n",
    "data_test[\"Estimate kcat\"] = y_test_pred\n",
    "\n",
    "MSE_dif_fp_test = np.sqrt(np.mean(abs(np.array([10**x for x in test_Y]) - np.array([10**x for x in y_test_pred]))**2))\n",
    "R2_dif_fp_test = r2_score(np.array([10**x for x in test_Y]), np.array([10**x for x in y_test_pred]))\n",
    "Pearson = stats.pearsonr(np.array([10**x for x in test_Y]), np.array([10**x for x in y_test_pred]))\n",
    "MAE = np.mean(abs(np.array([10**x for x in test_Y]) - np.array([10**x for x in y_test_pred])))\n",
    "MedAE = np.median(abs(np.array([10**x for x in test_Y]) - np.array([10**x for x in y_test_pred])))\n",
    "\n",
    "# MSE_dif_fp_test = np.mean(abs(np.reshape(test_Y, (-1)) - y_test_pred)**2)\n",
    "# R2_dif_fp_test = r2_score(np.reshape(test_Y, (-1)), y_test_pred)\n",
    "# Pearson = stats.pearsonr(np.reshape(test_Y, (-1)), y_test_pred)\n",
    "# MAE = np.mean(abs(np.reshape(test_Y, (-1)) - y_test_pred))\n",
    "\n",
    "print(np.round(Pearson[0],3) , np.round(MSE_dif_fp_test, 10), np.round(R2_dif_fp_test,3), np.round(MAE, 10), np.round(MedAE, 10))\n",
    "\n",
    "\n",
    "np.save(join(\"..\", \"..\", \"data\", \"y_test_pred_xgboost_gnn_fp.npy\"), bst.predict(dtest))\n",
    "np.save(join(\"..\", \"..\", \"data\",  \"y_test_true_xgboost_gnn_fp.npy\"), test_Y)"
   ]
  },
  {
   "cell_type": "code",
   "execution_count": 82,
   "metadata": {},
   "outputs": [],
   "source": [
    "y_test_pred_esm1b_ts_drfp = y_test_pred\n",
    "# data_test[\"Estimate kcat\"] = [10**x for x in data_test[\"Estimate kcat\"]]\n",
    "# filtered_df = data_test[data_test['Uniprot IDs'].apply(lambda x: \"Q9LE06\" in x)]\n",
    "# filtered_df"
   ]
  },
  {
   "cell_type": "markdown",
   "metadata": {},
   "source": [
    "#### (d) Training model with test and train data for production mode:"
   ]
  },
  {
   "cell_type": "code",
   "execution_count": 83,
   "metadata": {},
   "outputs": [],
   "source": [
    "train_X = np.array(list(data_train[\"GNN FP\"]))\n",
    "train_X = np.concatenate([train_X, np.array(list(data_train[\"Temperature\"]))[:, np.newaxis], np.array(list(data_train[\"pH\"]))[:, np.newaxis]], axis = 1)\n",
    "train_Y = np.array(list(data_train[\"log10_kcat\"]))\n",
    "\n",
    "test_X = np.array(list(data_test[\"GNN FP\"]))\n",
    "test_X = np.concatenate([test_X, np.array(list(data_test[\"Temperature\"]))[:, np.newaxis], np.array(list(data_test[\"pH\"]))[:, np.newaxis]], axis = 1)\n",
    "test_Y = np.array(list(data_test[\"log10_kcat\"]))\n",
    "\n",
    "train_X = np.concatenate([train_X, test_X])\n",
    "train_Y = np.concatenate([train_Y, test_Y])\n",
    "\n",
    "train_X = train_X.astype(float)\n",
    "test_X = test_X.astype(float)"
   ]
  },
  {
   "cell_type": "code",
   "execution_count": 84,
   "metadata": {},
   "outputs": [
    {
     "name": "stdout",
     "output_type": "stream",
     "text": [
      "(0.2878006818214538, 0.06805320430618847) 7.315206166848599 0.016957034335548182\n"
     ]
    }
   ],
   "source": [
    "dtrain = xgb.DMatrix(train_X, label = train_Y)\n",
    "dtest = xgb.DMatrix(test_X)\n",
    "\n",
    "bst = xgb.train(param, dtrain, int(num_round), verbose_eval=False)\n",
    "\n",
    "y_test_pred = bst.predict(dtest)\n",
    "\n",
    "MSE_dif_fp_test = np.sqrt(np.mean(abs(np.array([10**x for x in np.reshape(test_Y, (-1))]) - np.array([10**x for x in y_test_pred]))**2))\n",
    "R2_dif_fp_test = r2_score(np.array([10**x for x in np.reshape(test_Y, (-1))]), np.array([10**x for x in y_test_pred]))\n",
    "Pearson = stats.pearsonr(np.array([10**x for x in np.reshape(test_Y, (-1))]), np.array([10**x for x in y_test_pred]))\n",
    "\n",
    "# MSE_dif_fp_test = np.mean(abs(np.reshape(test_Y, (-1)) - y_test_pred)**2)\n",
    "# R2_dif_fp_test = r2_score(np.reshape(test_Y, (-1)), y_test_pred)\n",
    "# Pearson = stats.pearsonr(np.reshape(test_Y, (-1)), y_test_pred)\n",
    "\n",
    "print(Pearson, MSE_dif_fp_test, R2_dif_fp_test)\n",
    "\n",
    "pickle.dump(bst, open(join(\"..\", \"..\", \"data\", \"saved_models\",\n",
    "                          \"xgboost_train_and_test.pkl\"), \"wb\"))"
   ]
  },
  {
   "cell_type": "code",
   "execution_count": 85,
   "metadata": {},
   "outputs": [
    {
     "name": "stdout",
     "output_type": "stream",
     "text": [
      "1280\n",
      "167\n",
      "f0: 36.0\n",
      "f1: 187.0\n",
      "f2: 47.0\n",
      "f3: 20.0\n",
      "f4: 52.0\n",
      "f6: 3.0\n",
      "f7: 35.0\n",
      "f8: 18.0\n",
      "f10: 6.0\n",
      "f11: 7.0\n",
      "f12: 1.0\n",
      "f13: 9.0\n",
      "f15: 7.0\n",
      "f16: 8.0\n",
      "f19: 4.0\n",
      "f21: 19.0\n",
      "f22: 26.0\n",
      "f23: 7.0\n",
      "f24: 1.0\n",
      "f25: 2.0\n",
      "f26: 3.0\n",
      "f27: 5.0\n",
      "f29: 13.0\n",
      "f35: 7.0\n",
      "f37: 3.0\n",
      "f38: 4.0\n",
      "f39: 19.0\n",
      "f40: 52.0\n",
      "f42: 4.0\n",
      "f43: 18.0\n",
      "f44: 40.0\n",
      "f45: 37.0\n",
      "f46: 2.0\n",
      "f47: 3.0\n",
      "f49: 20.0\n",
      "f50: 11.0\n",
      "f51: 3.0\n",
      "f52: 277.0\n",
      "f53: 344.0\n"
     ]
    }
   ],
   "source": [
    "importances = bst.get_score()\n",
    "print(len(data_train[\"ESM2\"][1]))\n",
    "print(len(data_train[\"MACCS FP\"][1]))\n",
    "for key, value in importances.items():\n",
    "    print(f\"{key}: {value}\")"
   ]
  },
  {
   "cell_type": "markdown",
   "metadata": {},
   "source": [
    "#### (e) Validating model:"
   ]
  },
  {
   "cell_type": "code",
   "execution_count": 86,
   "metadata": {},
   "outputs": [
    {
     "name": "stdout",
     "output_type": "stream",
     "text": [
      "(-0.29890305731279215, 0.5149271386587163) 5.684169302105633 -0.7500255400881854 3.884592884086939 2.4237628991439295\n"
     ]
    }
   ],
   "source": [
    "val_X = np.array(list(data_val[\"GNN FP\"]))\n",
    "val_X = np.concatenate([val_X, np.array(list(data_val[\"Temperature\"]))[:, np.newaxis], np.array(list(data_val[\"pH\"]))[:, np.newaxis]], axis = 1)\n",
    "val_Y = np.array(list(data_val[\"log10_kcat\"]))\n",
    "\n",
    "val_X = val_X.astype(float)\n",
    "\n",
    "dval = xgb.DMatrix(val_X)\n",
    "\n",
    "y_val_pred = bst.predict(dval)\n",
    "data_val[\"Estimate kcat\"] = y_val_pred\n",
    "\n",
    "MSE_dif_fp_val = np.sqrt(np.mean(abs(np.array([10**x for x in np.reshape(val_Y, (-1))]) - np.array([10**x for x in y_val_pred]))**2))\n",
    "R2_dif_fp_val = r2_score(np.array([10**x for x in np.reshape(val_Y, (-1))]), np.array([10**x for x in y_val_pred]))\n",
    "Pearson = stats.pearsonr(np.array([10**x for x in np.reshape(val_Y, (-1))]), np.array([10**x for x in y_val_pred]))\n",
    "MAE = np.mean(abs(np.array([10**x for x in val_Y]) - np.array([10**x for x in y_val_pred])))\n",
    "\n",
    "# MSE_dif_fp_test = np.mean(abs(np.reshape(test_Y, (-1)) - y_test_pred)**2)\n",
    "# R2_dif_fp_test = r2_score(np.reshape(test_Y, (-1)), y_test_pred)\n",
    "# Pearson = stats.pearsonr(np.reshape(test_Y, (-1)), y_test_pred)\n",
    "\n",
    "print(Pearson, MSE_dif_fp_val, R2_dif_fp_val, MAE, MedAE)"
   ]
  },
  {
   "cell_type": "markdown",
   "metadata": {},
   "source": [
    "## 6. Training a model with reaction information (diff-fp) + Temperature + pH:"
   ]
  },
  {
   "cell_type": "markdown",
   "metadata": {},
   "source": [
    "#### (a) Creating input matrices:"
   ]
  },
  {
   "cell_type": "code",
   "execution_count": 87,
   "metadata": {},
   "outputs": [],
   "source": [
    "train_X = np.array(list(data_train[\"difference_fp\"]))\n",
    "train_X = np.concatenate([train_X, np.array(list(data_train[\"Temperature\"]))[:, np.newaxis], np.array(list(data_train[\"pH\"]))[:, np.newaxis]], axis = 1)\n",
    "train_Y = np.array(list(data_train[\"log10_kcat\"]))\n",
    "\n",
    "test_X = np.array(list(data_test[\"difference_fp\"]))\n",
    "test_X = np.concatenate([test_X, np.array(list(data_test[\"Temperature\"]))[:, np.newaxis], np.array(list(data_test[\"pH\"]))[:, np.newaxis]], axis = 1)\n",
    "test_Y = np.array(list(data_test[\"log10_kcat\"]))\n",
    "\n",
    "train_X = train_X.astype(float)\n",
    "test_X = test_X.astype(float)"
   ]
  },
  {
   "cell_type": "markdown",
   "metadata": {},
   "source": [
    "#### (b) Hyperparameter optimization:"
   ]
  },
  {
   "cell_type": "code",
   "execution_count": 88,
   "metadata": {},
   "outputs": [],
   "source": [
    "# def cross_validation_mse_gradient_boosting(param):\n",
    "#     num_round = param[\"num_rounds\"]\n",
    "#     del param[\"num_rounds\"]\n",
    "#     param[\"max_depth\"] = int(np.round(param[\"max_depth\"]))\n",
    "#     # param[\"device\"] = \"cuda\"\n",
    "#     param[\"tree_method\"] = \"hist\"\n",
    "#     param[\"sampling_method\"] = \"gradient_based\"\n",
    "    \n",
    "#     MSE = []\n",
    "#     R2 = []\n",
    "#     for i in range(5):\n",
    "#         train_index, test_index  = train_indices[i], test_indices[i]\n",
    "#         dtrain = xgb.DMatrix(train_X[train_index], label = train_Y[train_index])\n",
    "#         dvalid = xgb.DMatrix(train_X[test_index])\n",
    "#         bst = xgb.train(param, dtrain, int(num_round), verbose_eval=False)\n",
    "#         y_valid_pred = bst.predict(dvalid)\n",
    "#         MSE.append(np.mean(abs(np.reshape(train_Y[test_index], (-1)) - y_valid_pred)**2))\n",
    "#         R2.append(r2_score(np.reshape(train_Y[test_index], (-1)),  y_valid_pred))\n",
    "#     return(-np.mean(R2))\n",
    "\n",
    "# space_gradient_boosting = {\n",
    "#     \"learning_rate\": hp.choice(\"learning_rate\", np.linspace(0.01, 0.1, 10)),\n",
    "#     \"max_depth\": hp.choice(\"max_depth\", np.linspace(3,10,8)),\n",
    "#     #\"subsample\": hp.quniform(\"subsample\", 0.5, 1),\n",
    "#     \"reg_lambda\": hp.choice(\"reg_lambda\", np.linspace(0, 1, 11)),\n",
    "#     \"reg_alpha\": hp.choice(\"reg_alpha\", np.linspace(0, 1, 11)),\n",
    "#     \"max_delta_step\": hp.choice(\"max_delta_step\", np.linspace(1, 5, 5)),\n",
    "#     \"min_child_weight\": hp.choice(\"min_child_weight\", np.linspace(1, 6, 6)),\n",
    "#     \"num_rounds\":  hp.choice(\"num_rounds\", np.linspace(50, 200, 4))}\n",
    "\n",
    "# trials = Trials()\n",
    "# best = fmin(fn = cross_validation_mse_gradient_boosting, space = space_gradient_boosting,\n",
    "#             algo=rand.suggest, max_evals = 10, trials=trials)"
   ]
  },
  {
   "cell_type": "code",
   "execution_count": 89,
   "metadata": {},
   "outputs": [],
   "source": [
    "# print(best)"
   ]
  },
  {
   "cell_type": "code",
   "execution_count": 90,
   "metadata": {},
   "outputs": [],
   "source": [
    "if split == \"full\":\n",
    "    param = {\"random_state\": 42, 'learning_rate': 0.02, 'max_delta_step': 1, 'max_depth': 5, 'min_child_weight': 5, 'num_rounds': 200, 'reg_alpha': 0.8, 'reg_lambda': 0.1}\n",
    "elif split == \"Arabidopsis\":\n",
    "    param = {\"random_state\": 42, 'learning_rate': 0.03, 'max_delta_step': 2, 'max_depth': 3, 'min_child_weight': 4, 'num_rounds': 150, 'reg_alpha': 0.8, 'reg_lambda': 0.3}\n",
    "elif split == \"Brassicaceae\":\n",
    "    param = {\"random_state\": 42, 'learning_rate': 0.07, 'max_delta_step': 4, 'max_depth': 3, 'min_child_weight': 2, 'num_rounds': 100, 'reg_alpha': 0.4, 'reg_lambda': 0.8}\n",
    "elif split == \"wildtype\":\n",
    "    param = {\"random_state\": 42, 'learning_rate': 0.06, 'max_delta_step': 5, 'max_depth': 5, 'min_child_weight': 6, 'num_rounds': 100, 'reg_alpha': 0.9, 'reg_lambda': 0.8}\n",
    "else:\n",
    "    param = {\"random_state\": 42, 'learning_rate': 0.04, 'max_delta_step': 3, 'max_depth': 7, 'min_child_weight': 5, 'num_rounds': 50, 'reg_alpha': 0, 'reg_lambda': 0.5}"
   ]
  },
  {
   "cell_type": "markdown",
   "metadata": {},
   "source": [
    "#### (c) Training and validating model:"
   ]
  },
  {
   "cell_type": "code",
   "execution_count": 91,
   "metadata": {},
   "outputs": [],
   "source": [
    "num_round = param[\"num_rounds\"]\n",
    "param[\"max_depth\"] = int(np.round(param[\"max_depth\"]))\n",
    "\n",
    "del param[\"num_rounds\"]"
   ]
  },
  {
   "cell_type": "code",
   "execution_count": 92,
   "metadata": {},
   "outputs": [
    {
     "name": "stdout",
     "output_type": "stream",
     "text": [
      "[0.13130850808763778, -0.12624044923904937, 0.30634782154306917, 0.7434155496973197, 0.471841066090832]\n",
      "[107.52221376671007, 21.320268675668903, 9.166313666738962, 34.42157899121228, 56.81438934289437]\n",
      "[-0.04986458094307378, -33.7326183788323, -0.06552657787452376, 0.19579175690520367, 0.07086432831006773]\n",
      "[26.30847872930778, 12.06869799078798, 5.888166738386688, 8.984626629112332, 14.231968843484582]\n",
      "[1.9770485890286724, 3.5096851769582975, 2.811898194311289, 0.053504035842008885, 2.049503930268175]\n"
     ]
    }
   ],
   "source": [
    "R2 = []\n",
    "MSE = []\n",
    "Pearson = []\n",
    "MAE = []\n",
    "MedAE = []\n",
    "\n",
    "for i in range(5):\n",
    "    train_index, test_index  = train_indices[i], test_indices[i]\n",
    "    dtrain = xgb.DMatrix(train_X[train_index], label = train_Y[train_index])\n",
    "    dvalid = xgb.DMatrix(train_X[test_index])\n",
    "    \n",
    "    bst = xgb.train(param, dtrain, int(num_round), verbose_eval=False)\n",
    "    \n",
    "    y_valid_pred = bst.predict(dvalid)\n",
    "    MSE.append(np.sqrt(np.mean(abs(np.array([10**x for x in np.reshape(train_Y[test_index], (-1))]) - np.array([10**x for x in y_valid_pred]))**2)))\n",
    "    R2.append(r2_score([10**x for x in np.reshape(train_Y[test_index], (-1))], [10**x for x in y_valid_pred]))\n",
    "    Pearson.append(stats.pearsonr([10**x for x in np.reshape(train_Y[test_index], (-1))], [10**x for x in y_valid_pred])[0])\n",
    "    MAE.append(np.mean(abs(np.array([10**x for x in train_Y[test_index]]) - np.array([10**x for x in y_valid_pred]))))\n",
    "    MedAE.append(np.median(abs(np.array([10**x for x in train_Y[test_index]]) - np.array([10**x for x in y_valid_pred]))))\n",
    "\n",
    "    # MSE.append(np.mean(abs(np.reshape(train_Y[test_index], (-1)) - y_valid_pred)**2))\n",
    "    # R2.append(r2_score(np.reshape(train_Y[test_index], (-1)), y_valid_pred))\n",
    "    # Pearson.append(stats.pearsonr(np.reshape(train_Y[test_index], (-1)), y_valid_pred)[0])\n",
    "\n",
    "print(Pearson)\n",
    "print(MSE)\n",
    "print(R2)\n",
    "print(MAE)\n",
    "print(MedAE)\n",
    "\n",
    "np.save(join(\"..\", \"..\", \"data\", \"Pearson_CV_xgboost_diff_fp.npy\"), np.array(Pearson))\n",
    "np.save(join(\"..\", \"..\", \"data\", \"MSE_CV_xgboost_diff_fp.npy\"), np.array(MSE))\n",
    "np.save(join(\"..\", \"..\", \"data\", \"R2_CV_xgboost_diff_fp.npy\"), np.array(R2))"
   ]
  },
  {
   "cell_type": "code",
   "execution_count": 93,
   "metadata": {},
   "outputs": [
    {
     "name": "stdout",
     "output_type": "stream",
     "text": [
      "0.218 7.5189473237 -0.039 3.7970614583 1.0766219836\n"
     ]
    }
   ],
   "source": [
    "dtrain = xgb.DMatrix(train_X, label = train_Y)\n",
    "dtest = xgb.DMatrix(test_X, label = test_Y)\n",
    "\n",
    "bst = xgb.train(param, dtrain, int(num_round), verbose_eval=False)\n",
    "\n",
    "y_test_pred = bst.predict(dtest)\n",
    "\n",
    "data_test[\"Estimate kcat\"] = y_test_pred\n",
    "\n",
    "MSE_dif_fp_test = np.sqrt(np.mean(abs(np.array([10**x for x in test_Y]) - np.array([10**x for x in y_test_pred]))**2))\n",
    "R2_dif_fp_test = r2_score(np.array([10**x for x in test_Y]), np.array([10**x for x in y_test_pred]))\n",
    "Pearson = stats.pearsonr(np.array([10**x for x in test_Y]), np.array([10**x for x in y_test_pred]))\n",
    "MAE = np.mean(abs(np.array([10**x for x in test_Y]) - np.array([10**x for x in y_test_pred])))\n",
    "MedAE = np.median(abs(np.array([10**x for x in test_Y]) - np.array([10**x for x in y_test_pred])))\n",
    "\n",
    "# MSE_dif_fp_test = np.mean(abs(np.reshape(test_Y, (-1)) - y_test_pred)**2)\n",
    "# R2_dif_fp_test = r2_score(np.reshape(test_Y, (-1)), y_test_pred)\n",
    "# Pearson = stats.pearsonr(np.reshape(test_Y, (-1)), y_test_pred)\n",
    "# MAE = np.mean(abs(np.reshape(test_Y, (-1)) - y_test_pred))\n",
    "\n",
    "print(np.round(Pearson[0],3) , np.round(MSE_dif_fp_test, 10), np.round(R2_dif_fp_test,3), np.round(MAE, 10), np.round(MedAE, 10))\n",
    "\n",
    "\n",
    "np.save(join(\"..\", \"..\", \"data\", \"y_test_pred_xgboost_diff_fp.npy\"), bst.predict(dtest))\n",
    "np.save(join(\"..\", \"..\", \"data\",  \"y_test_true_xgboost_diff_fp.npy\"), test_Y)"
   ]
  },
  {
   "cell_type": "code",
   "execution_count": 94,
   "metadata": {},
   "outputs": [],
   "source": [
    "y_test_pred_esm1b_ts_drfp = y_test_pred\n",
    "# data_test[\"Estimate kcat\"] = [10**x for x in data_test[\"Estimate kcat\"]]\n",
    "# filtered_df = data_test[data_test['Uniprot IDs'].apply(lambda x: \"Q9LE06\" in x)]\n",
    "# filtered_df"
   ]
  },
  {
   "cell_type": "markdown",
   "metadata": {},
   "source": [
    "#### (d) Training model with test and train data for production mode:"
   ]
  },
  {
   "cell_type": "code",
   "execution_count": 95,
   "metadata": {},
   "outputs": [],
   "source": [
    "train_X = np.array(list(data_train[\"difference_fp\"]))\n",
    "train_X = np.concatenate([train_X, np.array(list(data_train[\"Temperature\"]))[:, np.newaxis], np.array(list(data_train[\"pH\"]))[:, np.newaxis]], axis = 1)\n",
    "train_Y = np.array(list(data_train[\"log10_kcat\"]))\n",
    "\n",
    "test_X = np.array(list(data_test[\"difference_fp\"]))\n",
    "test_X = np.concatenate([test_X, np.array(list(data_test[\"Temperature\"]))[:, np.newaxis], np.array(list(data_test[\"pH\"]))[:, np.newaxis]], axis = 1)\n",
    "test_Y = np.array(list(data_test[\"log10_kcat\"]))\n",
    "\n",
    "train_X = np.concatenate([train_X, test_X])\n",
    "train_Y = np.concatenate([train_Y, test_Y])\n",
    "\n",
    "train_X = train_X.astype(float)\n",
    "test_X = test_X.astype(float)"
   ]
  },
  {
   "cell_type": "code",
   "execution_count": 96,
   "metadata": {},
   "outputs": [
    {
     "name": "stdout",
     "output_type": "stream",
     "text": [
      "(0.3777400606049306, 0.014896471875306991) 7.101321370000791 0.07360182032129803\n"
     ]
    }
   ],
   "source": [
    "dtrain = xgb.DMatrix(train_X, label = train_Y)\n",
    "dtest = xgb.DMatrix(test_X)\n",
    "\n",
    "bst = xgb.train(param, dtrain, int(num_round), verbose_eval=False)\n",
    "\n",
    "y_test_pred = bst.predict(dtest)\n",
    "\n",
    "MSE_dif_fp_test = np.sqrt(np.mean(abs(np.array([10**x for x in np.reshape(test_Y, (-1))]) - np.array([10**x for x in y_test_pred]))**2))\n",
    "R2_dif_fp_test = r2_score(np.array([10**x for x in np.reshape(test_Y, (-1))]), np.array([10**x for x in y_test_pred]))\n",
    "Pearson = stats.pearsonr(np.array([10**x for x in np.reshape(test_Y, (-1))]), np.array([10**x for x in y_test_pred]))\n",
    "\n",
    "# MSE_dif_fp_test = np.mean(abs(np.reshape(test_Y, (-1)) - y_test_pred)**2)\n",
    "# R2_dif_fp_test = r2_score(np.reshape(test_Y, (-1)), y_test_pred)\n",
    "# Pearson = stats.pearsonr(np.reshape(test_Y, (-1)), y_test_pred)\n",
    "\n",
    "print(Pearson, MSE_dif_fp_test, R2_dif_fp_test)\n",
    "\n",
    "pickle.dump(bst, open(join(\"..\", \"..\", \"data\", \"saved_models\",\n",
    "                          \"xgboost_train_and_test.pkl\"), \"wb\"))"
   ]
  },
  {
   "cell_type": "code",
   "execution_count": 97,
   "metadata": {},
   "outputs": [
    {
     "name": "stdout",
     "output_type": "stream",
     "text": [
      "1280\n",
      "167\n",
      "f4: 2.0\n",
      "f5: 3.0\n",
      "f6: 1.0\n",
      "f7: 8.0\n",
      "f10: 3.0\n",
      "f11: 4.0\n",
      "f13: 1.0\n",
      "f22: 8.0\n",
      "f28: 10.0\n",
      "f43: 2.0\n",
      "f61: 1.0\n",
      "f71: 7.0\n",
      "f75: 4.0\n",
      "f95: 3.0\n",
      "f115: 1.0\n",
      "f116: 3.0\n",
      "f124: 12.0\n",
      "f138: 19.0\n",
      "f158: 1.0\n",
      "f161: 1.0\n",
      "f190: 1.0\n",
      "f191: 14.0\n",
      "f201: 3.0\n",
      "f224: 8.0\n",
      "f232: 12.0\n",
      "f246: 15.0\n",
      "f311: 3.0\n",
      "f312: 4.0\n",
      "f334: 6.0\n",
      "f377: 7.0\n",
      "f513: 3.0\n",
      "f571: 12.0\n",
      "f648: 9.0\n",
      "f649: 2.0\n",
      "f682: 5.0\n",
      "f711: 13.0\n",
      "f776: 1.0\n",
      "f798: 4.0\n",
      "f823: 2.0\n",
      "f836: 2.0\n",
      "f837: 10.0\n",
      "f844: 7.0\n",
      "f862: 4.0\n",
      "f910: 13.0\n",
      "f944: 10.0\n",
      "f967: 3.0\n",
      "f1018: 1.0\n",
      "f1024: 13.0\n",
      "f1051: 10.0\n",
      "f1074: 2.0\n",
      "f1088: 13.0\n",
      "f1089: 3.0\n",
      "f1099: 12.0\n",
      "f1105: 2.0\n",
      "f1162: 6.0\n",
      "f1206: 12.0\n",
      "f1214: 7.0\n",
      "f1230: 24.0\n",
      "f1277: 1.0\n",
      "f1287: 1.0\n",
      "f1307: 7.0\n",
      "f1310: 13.0\n",
      "f1352: 10.0\n",
      "f1372: 11.0\n",
      "f1394: 2.0\n",
      "f1401: 7.0\n",
      "f1467: 15.0\n",
      "f1498: 13.0\n",
      "f1511: 7.0\n",
      "f1669: 2.0\n",
      "f1677: 12.0\n",
      "f1684: 2.0\n",
      "f1735: 8.0\n",
      "f1740: 7.0\n",
      "f1974: 24.0\n",
      "f1983: 2.0\n",
      "f2048: 54.0\n",
      "f2049: 104.0\n"
     ]
    }
   ],
   "source": [
    "importances = bst.get_score()\n",
    "print(len(data_train[\"ESM2\"][1]))\n",
    "print(len(data_train[\"MACCS FP\"][1]))\n",
    "for key, value in importances.items():\n",
    "    print(f\"{key}: {value}\")"
   ]
  },
  {
   "cell_type": "markdown",
   "metadata": {},
   "source": [
    "#### (e) Validating model:"
   ]
  },
  {
   "cell_type": "code",
   "execution_count": 98,
   "metadata": {},
   "outputs": [
    {
     "name": "stdout",
     "output_type": "stream",
     "text": [
      "(-0.8281260668987445, 0.021393058987110764) 5.240168261583343 -0.4873077534839545 3.79483260380288 3.79483260380288\n"
     ]
    }
   ],
   "source": [
    "val_X = np.array(list(data_val[\"difference_fp\"]))\n",
    "val_X = np.concatenate([val_X, np.array(list(data_val[\"Temperature\"]))[:, np.newaxis], np.array(list(data_val[\"pH\"]))[:, np.newaxis]], axis = 1)\n",
    "val_Y = np.array(list(data_val[\"log10_kcat\"]))\n",
    "\n",
    "val_X = val_X.astype(float)\n",
    "\n",
    "dval = xgb.DMatrix(val_X)\n",
    "\n",
    "y_val_pred = bst.predict(dval)\n",
    "data_val[\"Estimate kcat\"] = y_val_pred\n",
    "\n",
    "MSE_dif_fp_val = np.sqrt(np.mean(abs(np.array([10**x for x in np.reshape(val_Y, (-1))]) - np.array([10**x for x in y_val_pred]))**2))\n",
    "R2_dif_fp_val = r2_score(np.array([10**x for x in np.reshape(val_Y, (-1))]), np.array([10**x for x in y_val_pred]))\n",
    "Pearson = stats.pearsonr(np.array([10**x for x in np.reshape(val_Y, (-1))]), np.array([10**x for x in y_val_pred]))\n",
    "MAE = np.mean(abs(np.array([10**x for x in val_Y]) - np.array([10**x for x in y_val_pred])))\n",
    "MedAE = np.mean(abs(np.array([10**x for x in val_Y]) - np.array([10**x for x in y_val_pred])))\n",
    "\n",
    "# MSE_dif_fp_test = np.mean(abs(np.reshape(test_Y, (-1)) - y_test_pred)**2)\n",
    "# R2_dif_fp_test = r2_score(np.reshape(test_Y, (-1)), y_test_pred)\n",
    "# Pearson = stats.pearsonr(np.reshape(test_Y, (-1)), y_test_pred)\n",
    "\n",
    "print(Pearson, MSE_dif_fp_val, R2_dif_fp_val, MAE, MedAE)"
   ]
  },
  {
   "cell_type": "markdown",
   "metadata": {},
   "source": [
    "## 7. Training a model with reaction and main substrate information (diff-fp/MACCS) + Temperature + pH:"
   ]
  },
  {
   "cell_type": "markdown",
   "metadata": {},
   "source": [
    "#### (a) Creating input matrices:"
   ]
  },
  {
   "cell_type": "code",
   "execution_count": 99,
   "metadata": {},
   "outputs": [],
   "source": [
    "train_X = np.array(list(data_train[\"difference_fp\"]))\n",
    "train_X = np.concatenate([train_X, np.array(list(data_train[\"GNN FP\"])), np.array(list(data_train[\"Temperature\"]))[:, np.newaxis], np.array(list(data_train[\"pH\"]))[:, np.newaxis]], axis = 1)\n",
    "train_Y = np.array(list(data_train[\"log10_kcat\"]))\n",
    "\n",
    "test_X = np.array(list(data_test[\"difference_fp\"]))\n",
    "test_X = np.concatenate([test_X, np.array(list(data_test[\"GNN FP\"])), np.array(list(data_test[\"Temperature\"]))[:, np.newaxis], np.array(list(data_test[\"pH\"]))[:, np.newaxis]], axis = 1)\n",
    "test_Y = np.array(list(data_test[\"log10_kcat\"]))\n",
    "\n",
    "train_X = train_X.astype(float)\n",
    "test_X = test_X.astype(float)"
   ]
  },
  {
   "cell_type": "markdown",
   "metadata": {},
   "source": [
    "#### (b) Hyperparameter optimization:"
   ]
  },
  {
   "cell_type": "code",
   "execution_count": 100,
   "metadata": {},
   "outputs": [],
   "source": [
    "# def cross_validation_mse_gradient_boosting(param):\n",
    "#     num_round = param[\"num_rounds\"]\n",
    "#     del param[\"num_rounds\"]\n",
    "#     param[\"max_depth\"] = int(np.round(param[\"max_depth\"]))\n",
    "#     # param[\"device\"] = \"cuda\"\n",
    "#     param[\"tree_method\"] = \"hist\"\n",
    "#     param[\"sampling_method\"] = \"gradient_based\"\n",
    "    \n",
    "#     MSE = []\n",
    "#     R2 = []\n",
    "#     for i in range(5):\n",
    "#         train_index, test_index  = train_indices[i], test_indices[i]\n",
    "#         dtrain = xgb.DMatrix(train_X[train_index], label = train_Y[train_index])\n",
    "#         dvalid = xgb.DMatrix(train_X[test_index])\n",
    "#         bst = xgb.train(param, dtrain, int(num_round), verbose_eval=False)\n",
    "#         y_valid_pred = bst.predict(dvalid)\n",
    "#         MSE.append(np.mean(abs(np.reshape(train_Y[test_index], (-1)) - y_valid_pred)**2))\n",
    "#         R2.append(r2_score(np.reshape(train_Y[test_index], (-1)),  y_valid_pred))\n",
    "#     return(-np.mean(R2))\n",
    "\n",
    "\n",
    "# space_gradient_boosting = {\n",
    "#     \"learning_rate\": hp.choice(\"learning_rate\", np.linspace(0.01, 0.1, 10)),\n",
    "#     \"max_depth\": hp.choice(\"max_depth\", np.linspace(3,10,8)),\n",
    "#     #\"subsample\": hp.quniform(\"subsample\", 0.5, 1),\n",
    "#     \"reg_lambda\": hp.choice(\"reg_lambda\", np.linspace(0, 1, 11)),\n",
    "#     \"reg_alpha\": hp.choice(\"reg_alpha\", np.linspace(0, 1, 11)),\n",
    "#     \"max_delta_step\": hp.choice(\"max_delta_step\", np.linspace(1, 5, 5)),\n",
    "#     \"min_child_weight\": hp.choice(\"min_child_weight\", np.linspace(1, 6, 6)),\n",
    "#     \"num_rounds\":  hp.choice(\"num_rounds\", np.linspace(50, 200, 4))}\n",
    "\n",
    "\n",
    "# trials = Trials()\n",
    "# best = fmin(fn = cross_validation_mse_gradient_boosting, space = space_gradient_boosting,\n",
    "#             algo=rand.suggest, max_evals = 10, trials=trials)"
   ]
  },
  {
   "cell_type": "code",
   "execution_count": 101,
   "metadata": {},
   "outputs": [],
   "source": [
    "# print(best)"
   ]
  },
  {
   "cell_type": "code",
   "execution_count": 102,
   "metadata": {},
   "outputs": [],
   "source": [
    "if split == \"full\":\n",
    "    param = {\"random_state\": 42, 'learning_rate': 0.08, 'max_delta_step': 2, 'max_depth': 5, 'min_child_weight': 6, 'num_rounds': 200, 'reg_alpha': 0, 'reg_lambda': 0.1}\n",
    "elif split == \"Arabidopsis\":\n",
    "    param = {\"random_state\": 42, 'learning_rate': 0.03, 'max_delta_step': 3, 'max_depth': 5, 'min_child_weight': 6, 'num_rounds': 100, 'reg_alpha': 1, 'reg_lambda': 0}\n",
    "elif split == \"Brassicaceae\":\n",
    "    param = {\"random_state\": 42, 'learning_rate': 0.04, 'max_delta_step': 1, 'max_depth': 6, 'min_child_weight': 5, 'num_rounds': 150, 'reg_alpha': 0.5, 'reg_lambda': 0.4}\n",
    "elif split == \"wildtype\":\n",
    "    param = {\"random_state\": 42, 'learning_rate': 0.02, 'max_delta_step': 4, 'max_depth': 10, 'min_child_weight': 4, 'num_rounds': 100, 'reg_alpha': 0.9, 'reg_lambda': 0.6}\n",
    "else:\n",
    "    param = {\"random_state\": 42, 'learning_rate': 0.08, 'max_delta_step': 5, 'max_depth': 10, 'min_child_weight': 3, 'num_rounds': 150, 'reg_alpha': 1, 'reg_lambda': 0.3}"
   ]
  },
  {
   "cell_type": "markdown",
   "metadata": {},
   "source": [
    "#### (c) Training and validating model:"
   ]
  },
  {
   "cell_type": "code",
   "execution_count": 103,
   "metadata": {},
   "outputs": [],
   "source": [
    "num_round = param[\"num_rounds\"]\n",
    "param[\"max_depth\"] = int(np.round(param[\"max_depth\"]))\n",
    "\n",
    "del param[\"num_rounds\"]"
   ]
  },
  {
   "cell_type": "code",
   "execution_count": 104,
   "metadata": {},
   "outputs": [
    {
     "name": "stdout",
     "output_type": "stream",
     "text": [
      "[0.0653472968653259, 0.472192020989577, 0.11345901119558452, 0.9934290755272537, 0.989744873607288]\n",
      "[107.639879232614, 3.3002251816834076, 9.449698849991734, 5.271770465481521, 36.07042002199537]\n",
      "[-0.052163648157961706, 0.16777774478265584, -0.13242850990382715, 0.9811366019705683, 0.6254887684119852]\n",
      "[26.119914201201276, 2.41853900793844, 6.277033947381484, 2.510251514153711, 9.631720528563719]\n",
      "[1.0481559654340036, 2.145990006559398, 2.6648215775893447, 0.06720040895536844, 1.9924519902396922]\n"
     ]
    }
   ],
   "source": [
    "R2 = []\n",
    "MSE = []\n",
    "Pearson = []\n",
    "MAE = []\n",
    "MedAE = []\n",
    "\n",
    "for i in range(5):\n",
    "    train_index, test_index  = train_indices[i], test_indices[i]\n",
    "    dtrain = xgb.DMatrix(train_X[train_index], label = train_Y[train_index])\n",
    "    dvalid = xgb.DMatrix(train_X[test_index])\n",
    "    \n",
    "    bst = xgb.train(param, dtrain, int(num_round), verbose_eval=False)\n",
    "    \n",
    "    y_valid_pred = bst.predict(dvalid)\n",
    "    MSE.append(np.sqrt(np.mean(abs(np.array([10**x for x in np.reshape(train_Y[test_index], (-1))]) - np.array([10**x for x in y_valid_pred]))**2)))\n",
    "    R2.append(r2_score([10**x for x in np.reshape(train_Y[test_index], (-1))], [10**x for x in y_valid_pred]))\n",
    "    Pearson.append(stats.pearsonr([10**x for x in np.reshape(train_Y[test_index], (-1))], [10**x for x in y_valid_pred])[0])\n",
    "    MAE.append(np.mean(abs(np.array([10**x for x in train_Y[test_index]]) - np.array([10**x for x in y_valid_pred]))))\n",
    "    MedAE.append(np.median(abs(np.array([10**x for x in train_Y[test_index]]) - np.array([10**x for x in y_valid_pred]))))\n",
    "\n",
    "    # MSE.append(np.mean(abs(np.reshape(train_Y[test_index], (-1)) - y_valid_pred)**2))\n",
    "    # R2.append(r2_score(np.reshape(train_Y[test_index], (-1)), y_valid_pred))\n",
    "    # Pearson.append(stats.pearsonr(np.reshape(train_Y[test_index], (-1)), y_valid_pred)[0])\n",
    "\n",
    "print(Pearson)\n",
    "print(MSE)\n",
    "print(R2)\n",
    "print(MAE)\n",
    "print(MedAE)\n",
    "\n",
    "np.save(join(\"..\", \"..\", \"data\", \"Pearson_CV_xgboost_gnn_fp_diff_fp.npy\"), np.array(Pearson))\n",
    "np.save(join(\"..\", \"..\", \"data\", \"MSE_CV_xgboost_gnn_fp_diff_fp.npy\"), np.array(MSE))\n",
    "np.save(join(\"..\", \"..\", \"data\", \"R2_CV_xgboost_gnn_fp_diff_fp.npy\"), np.array(R2))"
   ]
  },
  {
   "cell_type": "code",
   "execution_count": 105,
   "metadata": {},
   "outputs": [
    {
     "name": "stdout",
     "output_type": "stream",
     "text": [
      "0.108 7.8031544126 -0.119 4.0597457136 1.3300479813\n"
     ]
    }
   ],
   "source": [
    "dtrain = xgb.DMatrix(train_X, label = train_Y)\n",
    "dtest = xgb.DMatrix(test_X, label = test_Y)\n",
    "\n",
    "bst = xgb.train(param, dtrain, int(num_round), verbose_eval=False)\n",
    "\n",
    "y_test_pred = bst.predict(dtest)\n",
    "\n",
    "data_test[\"Estimate kcat\"] = y_test_pred\n",
    "\n",
    "MSE_dif_fp_test = np.sqrt(np.mean(abs(np.array([10**x for x in test_Y]) - np.array([10**x for x in y_test_pred]))**2))\n",
    "R2_dif_fp_test = r2_score(np.array([10**x for x in test_Y]), np.array([10**x for x in y_test_pred]))\n",
    "Pearson = stats.pearsonr(np.array([10**x for x in test_Y]), np.array([10**x for x in y_test_pred]))\n",
    "MAE = np.mean(abs(np.array([10**x for x in test_Y]) - np.array([10**x for x in y_test_pred])))\n",
    "MedAE = np.median(abs(np.array([10**x for x in test_Y]) - np.array([10**x for x in y_test_pred])))\n",
    "\n",
    "# MSE_dif_fp_test = np.mean(abs(np.reshape(test_Y, (-1)) - y_test_pred)**2)\n",
    "# R2_dif_fp_test = r2_score(np.reshape(test_Y, (-1)), y_test_pred)\n",
    "# Pearson = stats.pearsonr(np.reshape(test_Y, (-1)), y_test_pred)\n",
    "# MAE = np.mean(abs(np.reshape(test_Y, (-1)) - y_test_pred))\n",
    "\n",
    "print(np.round(Pearson[0],3) , np.round(MSE_dif_fp_test, 10), np.round(R2_dif_fp_test,3), np.round(MAE, 10), np.round(MedAE, 10))\n",
    "\n",
    "\n",
    "np.save(join(\"..\", \"..\", \"data\", \"y_test_pred_xgboost_gnn_fp_diff_fp.npy\"), bst.predict(dtest))\n",
    "np.save(join(\"..\", \"..\", \"data\",  \"y_test_true_xgboost_gnn_fp_diff_fp.npy\"), test_Y)"
   ]
  },
  {
   "cell_type": "code",
   "execution_count": 106,
   "metadata": {},
   "outputs": [],
   "source": [
    "y_test_pred_esm1b_ts_drfp = y_test_pred\n",
    "# data_test[\"Estimate kcat\"] = [10**x for x in data_test[\"Estimate kcat\"]]\n",
    "# filtered_df = data_test[data_test['Uniprot IDs'].apply(lambda x: \"Q9LE06\" in x)]\n",
    "# filtered_df"
   ]
  },
  {
   "cell_type": "markdown",
   "metadata": {},
   "source": [
    "#### (d) Training model with test and train data for production mode:"
   ]
  },
  {
   "cell_type": "code",
   "execution_count": 107,
   "metadata": {},
   "outputs": [],
   "source": [
    "train_X = np.array(list(data_train[\"difference_fp\"]))\n",
    "train_X = np.concatenate([train_X, np.array(list(data_train[\"GNN FP\"])), np.array(list(data_train[\"Temperature\"]))[:, np.newaxis], np.array(list(data_train[\"pH\"]))[:, np.newaxis]], axis = 1)\n",
    "train_Y = np.array(list(data_train[\"log10_kcat\"]))\n",
    "\n",
    "test_X = np.array(list(data_test[\"difference_fp\"]))\n",
    "test_X = np.concatenate([test_X,  np.array(list(data_test[\"GNN FP\"])), np.array(list(data_test[\"Temperature\"]))[:, np.newaxis], np.array(list(data_test[\"pH\"]))[:, np.newaxis]], axis = 1)\n",
    "test_Y = np.array(list(data_test[\"log10_kcat\"]))\n",
    "\n",
    "train_X = np.concatenate([train_X, test_X])\n",
    "train_Y = np.concatenate([train_Y, test_Y])\n",
    "\n",
    "train_X = train_X.astype(float)\n",
    "test_X = test_X.astype(float)"
   ]
  },
  {
   "cell_type": "code",
   "execution_count": 108,
   "metadata": {},
   "outputs": [
    {
     "name": "stdout",
     "output_type": "stream",
     "text": [
      "(0.42649045556179577, 0.00542589127203545) 6.906658633766827 0.12369489574301618\n"
     ]
    }
   ],
   "source": [
    "dtrain = xgb.DMatrix(train_X, label = train_Y)\n",
    "dtest = xgb.DMatrix(test_X)\n",
    "\n",
    "bst = xgb.train(param, dtrain, int(num_round), verbose_eval=False)\n",
    "\n",
    "y_test_pred = bst.predict(dtest)\n",
    "\n",
    "MSE_dif_fp_test = np.sqrt(np.mean(abs(np.array([10**x for x in np.reshape(test_Y, (-1))]) - np.array([10**x for x in y_test_pred]))**2))\n",
    "R2_dif_fp_test = r2_score(np.array([10**x for x in np.reshape(test_Y, (-1))]), np.array([10**x for x in y_test_pred]))\n",
    "Pearson = stats.pearsonr(np.array([10**x for x in np.reshape(test_Y, (-1))]), np.array([10**x for x in y_test_pred]))\n",
    "\n",
    "# MSE_dif_fp_test = np.mean(abs(np.reshape(test_Y, (-1)) - y_test_pred)**2)\n",
    "# R2_dif_fp_test = r2_score(np.reshape(test_Y, (-1)), y_test_pred)\n",
    "# Pearson = stats.pearsonr(np.reshape(test_Y, (-1)), y_test_pred)\n",
    "\n",
    "print(Pearson, MSE_dif_fp_test, R2_dif_fp_test)\n",
    "\n",
    "pickle.dump(bst, open(join(\"..\", \"..\", \"data\", \"saved_models\",\n",
    "                          \"xgboost_train_and_test.pkl\"), \"wb\"))"
   ]
  },
  {
   "cell_type": "code",
   "execution_count": 109,
   "metadata": {},
   "outputs": [
    {
     "name": "stdout",
     "output_type": "stream",
     "text": [
      "1280\n",
      "167\n",
      "f4: 21.0\n",
      "f5: 1.0\n",
      "f6: 3.0\n",
      "f7: 1.0\n",
      "f11: 17.0\n",
      "f23: 2.0\n",
      "f28: 26.0\n",
      "f31: 6.0\n",
      "f43: 20.0\n",
      "f52: 10.0\n",
      "f61: 1.0\n",
      "f74: 1.0\n",
      "f75: 37.0\n",
      "f94: 9.0\n",
      "f95: 12.0\n",
      "f106: 5.0\n",
      "f111: 1.0\n",
      "f116: 32.0\n",
      "f124: 12.0\n",
      "f125: 16.0\n",
      "f137: 9.0\n",
      "f138: 14.0\n",
      "f139: 1.0\n",
      "f157: 1.0\n",
      "f158: 9.0\n",
      "f159: 1.0\n",
      "f178: 8.0\n",
      "f181: 1.0\n",
      "f190: 1.0\n",
      "f191: 34.0\n",
      "f194: 2.0\n",
      "f195: 7.0\n",
      "f200: 3.0\n",
      "f201: 21.0\n",
      "f202: 1.0\n",
      "f233: 3.0\n",
      "f246: 3.0\n",
      "f254: 4.0\n",
      "f255: 4.0\n",
      "f270: 2.0\n",
      "f311: 2.0\n",
      "f312: 18.0\n",
      "f334: 5.0\n",
      "f377: 11.0\n",
      "f413: 1.0\n",
      "f431: 8.0\n",
      "f563: 3.0\n",
      "f570: 6.0\n",
      "f571: 8.0\n",
      "f648: 8.0\n",
      "f682: 4.0\n",
      "f706: 6.0\n",
      "f711: 2.0\n",
      "f728: 6.0\n",
      "f756: 30.0\n",
      "f776: 3.0\n",
      "f778: 14.0\n",
      "f780: 1.0\n",
      "f783: 1.0\n",
      "f798: 22.0\n",
      "f818: 1.0\n",
      "f834: 11.0\n",
      "f836: 11.0\n",
      "f837: 3.0\n",
      "f844: 4.0\n",
      "f847: 2.0\n",
      "f883: 8.0\n",
      "f909: 18.0\n",
      "f910: 5.0\n",
      "f953: 1.0\n",
      "f967: 5.0\n",
      "f1009: 2.0\n",
      "f1010: 1.0\n",
      "f1018: 4.0\n",
      "f1024: 11.0\n",
      "f1025: 3.0\n",
      "f1049: 17.0\n",
      "f1051: 13.0\n",
      "f1074: 3.0\n",
      "f1088: 10.0\n",
      "f1089: 1.0\n",
      "f1091: 10.0\n",
      "f1097: 1.0\n",
      "f1099: 9.0\n",
      "f1104: 12.0\n",
      "f1105: 1.0\n",
      "f1112: 1.0\n",
      "f1162: 2.0\n",
      "f1214: 22.0\n",
      "f1230: 10.0\n",
      "f1276: 10.0\n",
      "f1285: 1.0\n",
      "f1292: 3.0\n",
      "f1293: 3.0\n",
      "f1310: 24.0\n",
      "f1333: 4.0\n",
      "f1349: 24.0\n",
      "f1350: 7.0\n",
      "f1353: 3.0\n",
      "f1372: 7.0\n",
      "f1394: 1.0\n",
      "f1427: 6.0\n",
      "f1456: 1.0\n",
      "f1467: 4.0\n",
      "f1483: 2.0\n",
      "f1490: 1.0\n",
      "f1498: 2.0\n",
      "f1521: 6.0\n",
      "f1543: 6.0\n",
      "f1669: 14.0\n",
      "f1670: 3.0\n",
      "f1678: 1.0\n",
      "f1684: 2.0\n",
      "f1724: 6.0\n",
      "f1732: 7.0\n",
      "f1735: 27.0\n",
      "f1740: 1.0\n",
      "f1741: 19.0\n",
      "f1743: 3.0\n",
      "f1844: 2.0\n",
      "f1851: 18.0\n",
      "f1909: 2.0\n",
      "f1974: 18.0\n",
      "f2048: 18.0\n",
      "f2049: 47.0\n",
      "f2050: 2.0\n",
      "f2051: 17.0\n",
      "f2052: 46.0\n",
      "f2054: 1.0\n",
      "f2055: 24.0\n",
      "f2056: 88.0\n",
      "f2059: 24.0\n",
      "f2060: 3.0\n",
      "f2061: 2.0\n",
      "f2063: 8.0\n",
      "f2064: 43.0\n",
      "f2067: 2.0\n",
      "f2068: 1.0\n",
      "f2069: 5.0\n",
      "f2070: 20.0\n",
      "f2071: 2.0\n",
      "f2072: 12.0\n",
      "f2073: 3.0\n",
      "f2074: 7.0\n",
      "f2075: 6.0\n",
      "f2076: 8.0\n",
      "f2082: 23.0\n",
      "f2084: 17.0\n",
      "f2085: 11.0\n",
      "f2087: 5.0\n",
      "f2088: 6.0\n",
      "f2090: 20.0\n",
      "f2091: 7.0\n",
      "f2093: 25.0\n",
      "f2095: 5.0\n",
      "f2096: 7.0\n",
      "f2097: 28.0\n",
      "f2098: 11.0\n",
      "f2099: 21.0\n",
      "f2100: 144.0\n",
      "f2101: 245.0\n"
     ]
    }
   ],
   "source": [
    "importances = bst.get_score()\n",
    "print(len(data_train[\"ESM2\"][1]))\n",
    "print(len(data_train[\"MACCS FP\"][1]))\n",
    "for key, value in importances.items():\n",
    "    print(f\"{key}: {value}\")"
   ]
  },
  {
   "cell_type": "markdown",
   "metadata": {},
   "source": [
    "#### (e) Validating model:"
   ]
  },
  {
   "cell_type": "code",
   "execution_count": 110,
   "metadata": {},
   "outputs": [
    {
     "name": "stdout",
     "output_type": "stream",
     "text": [
      "(0.5434616148229964, 0.20736826410395937) 4.480616666528345 -0.08739155838640311 2.7392305731704583 2.7392305731704583\n"
     ]
    }
   ],
   "source": [
    "val_X = np.array(list(data_val[\"difference_fp\"]))\n",
    "val_X = np.concatenate([val_X,  np.array(list(data_val[\"GNN FP\"])), np.array(list(data_val[\"Temperature\"]))[:, np.newaxis], np.array(list(data_val[\"pH\"]))[:, np.newaxis]], axis = 1)\n",
    "val_Y = np.array(list(data_val[\"log10_kcat\"]))\n",
    "\n",
    "val_X = val_X.astype(float)\n",
    "\n",
    "dval = xgb.DMatrix(val_X)\n",
    "\n",
    "y_val_pred = bst.predict(dval)\n",
    "data_val[\"Estimate kcat\"] = y_val_pred\n",
    "\n",
    "MSE_dif_fp_val = np.sqrt(np.mean(abs(np.array([10**x for x in np.reshape(val_Y, (-1))]) - np.array([10**x for x in y_val_pred]))**2))\n",
    "R2_dif_fp_val = r2_score(np.array([10**x for x in np.reshape(val_Y, (-1))]), np.array([10**x for x in y_val_pred]))\n",
    "Pearson = stats.pearsonr(np.array([10**x for x in np.reshape(val_Y, (-1))]), np.array([10**x for x in y_val_pred]))\n",
    "MAE = np.mean(abs(np.array([10**x for x in val_Y]) - np.array([10**x for x in y_val_pred])))\n",
    "MedAE = np.mean(abs(np.array([10**x for x in val_Y]) - np.array([10**x for x in y_val_pred])))\n",
    "\n",
    "# MSE_dif_fp_test = np.mean(abs(np.reshape(test_Y, (-1)) - y_test_pred)**2)\n",
    "# R2_dif_fp_test = r2_score(np.reshape(test_Y, (-1)), y_test_pred)\n",
    "# Pearson = stats.pearsonr(np.reshape(test_Y, (-1)), y_test_pred)\n",
    "\n",
    "print(Pearson, MSE_dif_fp_val, R2_dif_fp_val, MAE, MedAE)"
   ]
  }
 ],
 "metadata": {
  "kernelspec": {
   "display_name": "py37",
   "language": "python",
   "name": "python3"
  },
  "language_info": {
   "codemirror_mode": {
    "name": "ipython",
    "version": 3
   },
   "file_extension": ".py",
   "mimetype": "text/x-python",
   "name": "python",
   "nbconvert_exporter": "python",
   "pygments_lexer": "ipython3",
   "version": "3.7.12"
  }
 },
 "nbformat": 4,
 "nbformat_minor": 2
}
