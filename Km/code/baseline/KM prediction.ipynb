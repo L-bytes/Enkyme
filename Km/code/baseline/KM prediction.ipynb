{
 "cells": [
  {
   "cell_type": "markdown",
   "metadata": {},
   "source": [
    "#### Dependencies:"
   ]
  },
  {
   "cell_type": "code",
   "execution_count": 1,
   "metadata": {},
   "outputs": [],
   "source": [
    "from KM_prediction import *\n",
    "import os\n",
    "CURRENT_DIR = os.getcwd()"
   ]
  },
  {
   "cell_type": "markdown",
   "metadata": {},
   "source": [
    "Before using KM prediction for the first time, we have to download the ESM-1b model:"
   ]
  },
  {
   "cell_type": "code",
   "execution_count": 2,
   "metadata": {},
   "outputs": [
    {
     "name": "stderr",
     "output_type": "stream",
     "text": [
      "Using cache found in C:\\Users\\marle/.cache\\torch\\hub\\facebookresearch_esm_v0.4.0\n"
     ]
    }
   ],
   "source": [
    "model, alphabet = torch.hub.load(\"facebookresearch/esm:v0.4.0\", \"esm1b_t33_650M_UR50S\")"
   ]
  },
  {
   "cell_type": "markdown",
   "metadata": {},
   "source": [
    "Example for calculating KM prediction. You can enter multiple enyzmes and substrates. Enzyme 1 will be paired with substrate 1, enzyme 2 will be paired with substrate 2 and so on..."
   ]
  },
  {
   "cell_type": "markdown",
   "metadata": {},
   "source": [
    "Enter enzymes as amino acid sequences and substrate either as SMILES strings, KEGG Compound IDs, or InChI strings."
   ]
  },
  {
   "cell_type": "code",
   "execution_count": 3,
   "metadata": {
    "scrolled": true
   },
   "outputs": [
    {
     "name": "stdout",
     "output_type": "stream",
     "text": [
      "Step 1/3: Calculating numerical representations for all metabolites.\n",
      ".....1(a) Calculating input matrices for Graph Neural Network\n",
      ".....1(b) Calculating numerical metabolite representations using a Graph Neural Network\n",
      "Step 2/3: Calculating numerical representations for all enzymes.\n",
      ".....2(a) Loading ESM-1b model.\n",
      ".....2(b) Calculating enzyme representations.\n",
      "Step 3/3: Making predictions for KM.\n"
     ]
    }
   ],
   "source": [
    "import pandas as pd\n",
    "\n",
    "split = \"full\"\n",
    "\n",
    "data = pd.read_pickle(join(\"../data\", \"splits\", split, \"val_data.pkl\"))\n",
    "\n",
    "data['substrate_IDs'] = data['substrate_IDs'].apply(list)\n",
    "\n",
    "data['substrate_IDs'] = ['#'.join(map(str, l)) for l in data['substrate_IDs']]\n",
    "\n",
    "data['product_IDs'] = data['product_IDs'].apply(list)\n",
    "\n",
    "data['product_IDs'] = ['#'.join(map(str, l)) for l in data['product_IDs']]\n",
    "\n",
    "KMvalid, KMinvalid = KM_predicton(substrate_list = data[\"Main Substrate\"].tolist(), \n",
    "             enzyme_list = data[\"Sequence\"].tolist(),\n",
    "                                 KM = np.log10(data[\"Km\"].tolist()),\n",
    "                                 EC = data[\"ECs\"].tolist())"
   ]
  },
  {
   "cell_type": "code",
   "execution_count": 4,
   "metadata": {},
   "outputs": [],
   "source": [
    "# KMvalid.to_pickle('../data/output_' + organism + '.pkl')\n",
    "df = KMvalid"
   ]
  },
  {
   "cell_type": "code",
   "execution_count": 9,
   "metadata": {},
   "outputs": [
    {
     "name": "stdout",
     "output_type": "stream",
     "text": [
      "2.9891739936216535 -13.19129295249482 0.5691185107453821\n",
      "0.0019392709743795602 0.029436287101281988 0.314296242197024 0.0008028516654652407 0.0001407402507233201\n"
     ]
    }
   ],
   "source": [
    "import scipy as sci\n",
    "import sklearn.metrics as sk\n",
    "\n",
    "rms = sk.mean_squared_error(df[\"value\"].tolist(), df[\"KM [mM]\"].tolist(), squared=False)\n",
    "R2 = sk.r2_score(df[\"value\"].tolist(), df[\"KM [mM]\"].tolist())\n",
    "Pearson = sci.stats.pearsonr(df[\"value\"].tolist(), df[\"KM [mM]\"].tolist())[0]\n",
    "\n",
    "print(rms, R2, Pearson)\n",
    "\n",
    "rms = sk.mean_squared_error((10**df[\"value\"]).tolist(), ((10**df[\"KM [mM]\"])/1000).tolist(), squared=False)\n",
    "R2 = sk.r2_score((10**df[\"value\"]).tolist(), ((10**df[\"KM [mM]\"])/1000).tolist())\n",
    "Pearson = sci.stats.pearsonr((10**df[\"value\"]).tolist(), ((10**df[\"KM [mM]\"])/1000).tolist())[0]\n",
    "MAE = np.mean(abs(np.array((10**df[\"value\"]).tolist()) - np.array(((10**df[\"KM [mM]\"])/1000).tolist())))\n",
    "MedAE = np.median(abs(np.array((10**df[\"value\"]).tolist()) - np.array(((10**df[\"KM [mM]\"])/1000).tolist())))\n",
    "\n",
    "print(rms, R2, Pearson, MAE, MedAE)"
   ]
  }
 ],
 "metadata": {
  "kernelspec": {
   "display_name": "py37",
   "language": "python",
   "name": "python3"
  },
  "language_info": {
   "codemirror_mode": {
    "name": "ipython",
    "version": 3
   },
   "file_extension": ".py",
   "mimetype": "text/x-python",
   "name": "python",
   "nbconvert_exporter": "python",
   "pygments_lexer": "ipython3",
   "version": "3.7.12"
  }
 },
 "nbformat": 4,
 "nbformat_minor": 4
}
