{
 "cells": [
  {
   "cell_type": "code",
   "execution_count": 17,
   "metadata": {},
   "outputs": [],
   "source": [
    "import numpy as np\n",
    "import pickle\n",
    "import pandas as pd\n",
    "import os\n",
    "from os.path import join\n",
    "import warnings\n",
    "warnings.filterwarnings(\"ignore\")\n",
    "from scipy import stats\n",
    "from scipy.stats import wilcoxon\n",
    "\n",
    "datasets_dir = \"../../data\""
   ]
  },
  {
   "cell_type": "markdown",
   "metadata": {},
   "source": [
    "## Loading training and test data:"
   ]
  },
  {
   "cell_type": "code",
   "execution_count": 29,
   "metadata": {},
   "outputs": [
    {
     "name": "stdout",
     "output_type": "stream",
     "text": [
      "Difference between predictions with enzyme+reaction and enzyme+substrate 0.9214329719543457\n",
      "Difference between predictions with enzyme+reaction and enzyme+substrate+reaction 0.9521002769470215\n",
      "Difference between predictions with enzyme+reaction and enzyme 0.48642921447753906\n",
      "Difference between predictions with enzyme+reaction and substrate 0.8311700820922852\n",
      "Difference between predictions with enzyme+reaction and reaction 0.7633328437805176\n",
      "Difference between predictions with enzyme+reaction and reaction+substrate 0.7738161087036133\n",
      "Difference between predictions with enzyme+reaction and baseline 0.5\n"
     ]
    }
   ],
   "source": [
    "split=\"secondary\"\n",
    "\n",
    "pred_y = np.load(join(\"..\", \"..\", \"data\", split, \"y_val_pred_xgboost_ESM2_gnn_fp.npy\"))\n",
    "val_y = np.load(join(\"..\", \"..\", \"data\", split, \"y_val.npy\"))\n",
    "esm2_gnn_fp = abs(10**pred_y-10**val_y)\n",
    "\n",
    "pred_y = np.load(join(\"..\", \"..\", \"data\", split, \"y_val_pred_xgboost_ESM2_diff_fp.npy\"))\n",
    "val_y = np.load(join(\"..\", \"..\", \"data\", split, \"y_val.npy\"))\n",
    "esm2_diff_fp = abs(10**pred_y-10**val_y)\n",
    "\n",
    "pred_y = np.load(join(\"..\", \"..\", \"data\", split, \"y_val_pred_xgboost_ESM2_gnn_fp_diff_fp.npy\"))\n",
    "val_y = np.load(join(\"..\", \"..\", \"data\", split, \"y_val.npy\"))\n",
    "esm2_gnn_fp_diff_fp = abs(10**pred_y-10**val_y)\n",
    "\n",
    "pred_y = np.load(join(\"..\", \"..\", \"data\", split, \"y_val_pred_xgboost_ESM2.npy\"))\n",
    "val_y = np.load(join(\"..\", \"..\", \"data\", split, \"y_val.npy\"))\n",
    "esm2 = abs(10**pred_y-10**val_y)\n",
    "\n",
    "pred_y = np.load(join(\"..\", \"..\", \"data\", split, \"y_val_pred_xgboost_gnn_fp.npy\"))\n",
    "val_y = np.load(join(\"..\", \"..\", \"data\", split, \"y_val.npy\"))\n",
    "gnn_fp = abs(10**pred_y-10**val_y)\n",
    "\n",
    "pred_y = np.load(join(\"..\", \"..\", \"data\", split, \"y_val_pred_xgboost_diff_fp.npy\"))\n",
    "val_y = np.load(join(\"..\", \"..\", \"data\", split, \"y_val.npy\"))\n",
    "diff_fp = abs(10**pred_y-10**val_y)\n",
    "\n",
    "pred_y = np.load(join(\"..\", \"..\", \"data\", split, \"y_val_pred_xgboost_diff_fp_gnn_fp.npy\"))\n",
    "val_y = np.load(join(\"..\", \"..\", \"data\", split, \"y_val.npy\"))\n",
    "diff_fp_gnn_fp = abs(10**pred_y-10**val_y)\n",
    "\n",
    "pred_y = np.load(join(\"..\", \"..\", \"data\", split, \"y_test_pred_xgboost_baseline.npy\"))\n",
    "val_y = np.load(join(\"..\", \"..\", \"data\", split, \"y_val.npy\"))\n",
    "baseline = abs((10**pred_y/1000)-10**val_y)\n",
    "\n",
    "d = esm2_diff_fp - esm2_gnn_fp\n",
    "w, p = wilcoxon(d, alternative='less')\n",
    "print(\"Difference between predictions with enzyme+reaction and enzyme+substrate\", p)\n",
    "\n",
    "d = esm2_diff_fp - esm2_gnn_fp_diff_fp\n",
    "w, p = wilcoxon(d, alternative='less')\n",
    "print(\"Difference between predictions with enzyme+reaction and enzyme+substrate+reaction\", p)\n",
    "\n",
    "d = esm2_diff_fp - esm2\n",
    "w, p = wilcoxon(d, alternative='less')\n",
    "print(\"Difference between predictions with enzyme+reaction and enzyme\", p)\n",
    "\n",
    "d = esm2_diff_fp - gnn_fp\n",
    "w, p = wilcoxon(d, alternative='less')\n",
    "print(\"Difference between predictions with enzyme+reaction and substrate\", p)\n",
    "\n",
    "d = esm2_diff_fp - diff_fp\n",
    "w, p = wilcoxon(d, alternative='less')\n",
    "print(\"Difference between predictions with enzyme+reaction and reaction\", p)\n",
    "\n",
    "d = esm2_diff_fp - diff_fp_gnn_fp\n",
    "w, p = wilcoxon(d, alternative='less')\n",
    "print(\"Difference between predictions with enzyme+reaction and reaction+substrate\", p)\n",
    "\n",
    "d = diff_fp_gnn_fp - baseline\n",
    "w, p = wilcoxon(d, alternative='less')\n",
    "print(\"Difference between predictions with enzyme+reaction and baseline\", p)\n"
   ]
  }
 ],
 "metadata": {
  "kernelspec": {
   "display_name": "Python 3 (ipykernel)",
   "language": "python",
   "name": "python3"
  },
  "language_info": {
   "codemirror_mode": {
    "name": "ipython",
    "version": 3
   },
   "file_extension": ".py",
   "mimetype": "text/x-python",
   "name": "python",
   "nbconvert_exporter": "python",
   "pygments_lexer": "ipython3",
   "version": "3.7.12"
  }
 },
 "nbformat": 4,
 "nbformat_minor": 2
}
